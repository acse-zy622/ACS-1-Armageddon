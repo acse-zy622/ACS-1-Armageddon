{
 "cells": [
  {
   "cell_type": "markdown",
   "metadata": {},
   "source": [
    "# Armageddon: solver"
   ]
  },
  {
   "cell_type": "markdown",
   "metadata": {},
   "source": [
    "## `solver` module\n",
    "* Solve the system of differential equations describing meteoroid entry\n",
    "* Calculate the kinetic energy lost per unit altitude\n",
    "* Compute the burst altitude, burst energy and horizontal path length from the entry point"
   ]
  },
  {
   "cell_type": "markdown",
   "metadata": {},
   "source": [
    "### Importing `Planet()` class"
   ]
  },
  {
   "cell_type": "markdown",
   "metadata": {},
   "source": [
    "The class `Planet()` contains functions to solve the system of ordinary differential equations and analyse the outcomes. It is initialised with parameters for the given target planet."
   ]
  },
  {
   "cell_type": "code",
   "execution_count": 5,
   "metadata": {},
   "outputs": [],
   "source": [
    "# import the class within the module\n",
    "\n",
    "from armageddon.solver import Planet"
   ]
  },
  {
   "cell_type": "code",
   "execution_count": null,
   "metadata": {},
   "outputs": [],
   "source": []
  }
 ],
 "metadata": {
  "kernelspec": {
   "display_name": "Python 3.9.12 ('base')",
   "language": "python",
   "name": "python3"
  },
  "language_info": {
   "codemirror_mode": {
    "name": "ipython",
    "version": 3
   },
   "file_extension": ".py",
   "mimetype": "text/x-python",
   "name": "python",
   "nbconvert_exporter": "python",
   "pygments_lexer": "ipython3",
   "version": "3.9.12"
  },
  "orig_nbformat": 4,
  "vscode": {
   "interpreter": {
    "hash": "4d873fbdfac80e8bd3f0544f0905c87e65b3b3f15d63b7a1761f05985c262bb1"
   }
  }
 },
 "nbformat": 4,
 "nbformat_minor": 2
}
