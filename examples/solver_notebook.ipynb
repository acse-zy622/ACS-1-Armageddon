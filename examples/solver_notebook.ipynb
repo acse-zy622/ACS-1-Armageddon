{
 "cells": [
  {
   "cell_type": "markdown",
   "metadata": {},
   "source": [
    "# Armageddon: solver"
   ]
  },
  {
   "cell_type": "markdown",
   "metadata": {},
   "source": [
    "## `solver` module\n",
    "* Solve the system of differential equations describing meteoroid entry\n",
    "* Calculate the kinetic energy lost per unit altitude\n",
    "* Compute the burst altitude, burst energy and horizontal path length from the entry point"
   ]
  },
  {
   "cell_type": "code",
   "execution_count": 16,
   "metadata": {},
   "outputs": [],
   "source": [
    "# import basic requirements\n",
    "import numpy as np\n",
    "import matplotlib.pyplot as plt"
   ]
  },
  {
   "cell_type": "markdown",
   "metadata": {},
   "source": [
    "### Importing `Planet()` class"
   ]
  },
  {
   "cell_type": "markdown",
   "metadata": {},
   "source": [
    "The class `Planet()` contains functions to solve the system of ordinary differential equations and analyse the outcomes. It consists of three main functions:\n",
    "* `solve_atmospheric_entry` for intial calculation for the ODE system\n",
    "* `calculate_energy` for computing the kinetic energy loss\n",
    "* `analyse_outcome` for computing the burst parameters"
   ]
  },
  {
   "cell_type": "markdown",
   "metadata": {},
   "source": [
    "The `__init__` function sets up initial parameters and constants for the target planet, which is Earth in our case."
   ]
  },
  {
   "cell_type": "code",
   "execution_count": 17,
   "metadata": {},
   "outputs": [],
   "source": [
    "# import the class within the module and intialise\n",
    "from armageddon.solver import Planet\n",
    "earth = Planet()"
   ]
  },
  {
   "cell_type": "markdown",
   "metadata": {},
   "source": [
    "The next function `solve_atmospheric_entry` is where we solve the system to generate an initial DataFrame with meteroid parameters."
   ]
  },
  {
   "cell_type": "markdown",
   "metadata": {},
   "source": [
    "One can choose a method to solve the ODE system as an input for `solve_atmospheric_entry`:\n",
    " * 4th-Order Runge Kutta\n",
    " * Foward-Euler\n",
    " \n",
    "The function will take a string argument as an input to decide which solving method to use. If none assigned, it will take 'RK4' by default. Below are the implemented methods."
   ]
  },
  {
   "cell_type": "code",
   "execution_count": 19,
   "metadata": {},
   "outputs": [],
   "source": [
    "# 'RK4' selected as the solver\n",
    "\n",
    "def solve_atmospheric_entry_RK4(self, radius, \n",
    "                            velocity, angle, init_altitude, dt):\n",
    "\n",
    "        self.velocity = [velocity]\n",
    "        self.mass = [4/3 * np.pi * radius**3 * self.density]\n",
    "        self.angle = [angle]\n",
    "        self.altitude = [init_altitude]\n",
    "        self.distance = [0]\n",
    "        self.radius = [radius]\n",
    "        timestep = dt\n",
    "        self.alltimestep = [0]\n",
    "        while True:\n",
    "            ctheta, cr, cz, cv, cm, cx = self.RK4_helper(dt)\n",
    "            self.velocity.append(cv + self.velocity[-1])\n",
    "            self.mass.append(cm + self.mass[-1])\n",
    "            self.altitude.append(cz + self.altitude[-1])\n",
    "            self.angle.append(ctheta + self.angle[-1])\n",
    "            self.distance.append(cx + self.distance[-1])\n",
    "            self.radius.append(cr + self.radius[-1])\n",
    "            self.alltimestep.append(timestep + self.alltimestep[-1])\n",
    "            if self.altitude[-1] <= 0 or self.mass[-1] <= 0:\n",
    "                break\n",
    "\n",
    "def RK4_helper(self, timestep):\n",
    "    variables = np.array([self.angle[-1], self.radius[-1],\n",
    "                          self.altitude[-1], self.velocity[-1],\n",
    "                          self.mass[-1], self.distance[-1]])\n",
    "    k1 = self.calculator_rk4(variables)\n",
    "    k2 = self.calculator_rk4(variables + 0.5 * timestep * k1)\n",
    "    k3 = self.calculator_rk4(variables + 0.5 * timestep * k2)\n",
    "    k4 = self.calculator_rk4(variables + timestep * k3)\n",
    "    change = (k1 + 2 * k2 + 2 * k3 + k4) * timestep / 6\n",
    "    return change\n",
    "\n",
    "def calculator_rk4(self, variables):\n",
    "    angle, radius, altitude, velocity, mass, _ = variables\n",
    "    cos_theta = np.cos(angle)\n",
    "    sin_theta = np.sin(angle)\n",
    "    area = np.pi * radius**2\n",
    "    rhoa = self.rhoa(altitude)\n",
    "    rhoAv = rhoa * area * velocity\n",
    "    dvdt = -self.Cd * rhoAv * velocity / (2 * mass) + self.g * sin_theta\n",
    "    dmdt = -self.Ch * rhoAv * velocity**2 / (2 * self.Q)\n",
    "    dthetadt = (-self.Cl * rhoAv / (2 * mass)\n",
    "                + self.g * cos_theta / velocity\n",
    "                - velocity * cos_theta / (self.Rp + altitude))\n",
    "    dzdt = -velocity * sin_theta\n",
    "    dxdt = velocity * cos_theta / (1 + altitude / self.Rp)\n",
    "    ram = self.rhoa(altitude) * velocity**2\n",
    "    drdt = 0\n",
    "    if ram > self.strength:\n",
    "        if self.burstpoint == -1:\n",
    "            self.burstpoint = len(self.distance)\n",
    "        drdt = (7 * rhoa * self.alpha/2/self.density)**0.5 * velocity\n",
    "    result = np.array([dthetadt, drdt, dzdt, dvdt, dmdt, dxdt])\n",
    "    return result"
   ]
  },
  {
   "cell_type": "code",
   "execution_count": 23,
   "metadata": {},
   "outputs": [],
   "source": [
    "# 'FE' selected as the solver\n",
    "\n",
    "def solve_atmospheric_entry_FE(\n",
    "            self, radius, velocity, angle,\n",
    "            init_altitude, dt):\n",
    "    self.velocity = [velocity]\n",
    "    self.mass = [4/3 * np.pi * radius**3 * self.density]\n",
    "    self.angle = [angle]\n",
    "    self.altitude = [init_altitude]\n",
    "    self.distance = [0]\n",
    "    self.radius = [radius]\n",
    "    timestep = dt\n",
    "    self.alltimestep = [0]\n",
    "    while True:\n",
    "        cos_theta = np.cos(self.angle[-1])\n",
    "        sin_theta = np.sin(self.angle[-1])\n",
    "        area = np.pi * self.radius[-1]**2\n",
    "        rhoa = self.rhoa(self.altitude[-1])\n",
    "        rhoAv = rhoa * area * self.velocity[-1]\n",
    "        dvdt = (-self.Cd * rhoAv * self.velocity[-1] / (2 * self.mass[-1])\n",
    "                 + self.g * sin_theta)\n",
    "        dmdt = -self.Ch * rhoAv * self.velocity[-1]**2 / (2 * self.Q)\n",
    "        dthetadt = (-self.Cl * rhoAv / (2 * self.mass[-1])\n",
    "                    + self.g * cos_theta / self.velocity[-1]\n",
    "                    - self.velocity[-1] * cos_theta\n",
    "                    / (self.Rp + self.altitude[-1]))\n",
    "        dzdt = -self.velocity[-1] * sin_theta\n",
    "        dxdt = (self.velocity[-1] * cos_theta\n",
    "                / (1 + self.altitude[-1] / self.Rp))\n",
    "        ram = self.rhoa(self.altitude[-1]) * self.velocity[-1]**2\n",
    "        drdt = 0\n",
    "        if ram > self.strength:\n",
    "            if self.burstpoint == -1:\n",
    "                self.burstpoint = len(self.distance)\n",
    "            drdt = ((7 * rhoa * self.alpha/2/self.density)**0.5\n",
    "                    * self.velocity[-1])\n",
    "        self.velocity.append(dvdt * timestep + self.velocity[-1])\n",
    "        self.mass.append(dmdt * timestep + self.mass[-1])\n",
    "        self.altitude.append(dzdt * timestep + self.altitude[-1])\n",
    "        self.angle.append(dthetadt * timestep + self.angle[-1])\n",
    "        self.distance.append(dxdt * timestep + self.distance[-1])\n",
    "        self.radius.append(drdt * timestep + self.radius[-1])\n",
    "        self.alltimestep.append(timestep + self.alltimestep[-1])\n",
    "        if self.altitude[-1] <= 0 or self.mass[-1] <= 0:\n",
    "            break\n"
   ]
  },
  {
   "cell_type": "markdown",
   "metadata": {},
   "source": [
    "Using the selected solver, the function will save the solution of the ODE system in a DataFrame with features of the asteroid."
   ]
  },
  {
   "cell_type": "code",
   "execution_count": 24,
   "metadata": {},
   "outputs": [
    {
     "data": {
      "text/html": [
       "<div>\n",
       "<style scoped>\n",
       "    .dataframe tbody tr th:only-of-type {\n",
       "        vertical-align: middle;\n",
       "    }\n",
       "\n",
       "    .dataframe tbody tr th {\n",
       "        vertical-align: top;\n",
       "    }\n",
       "\n",
       "    .dataframe thead th {\n",
       "        text-align: right;\n",
       "    }\n",
       "</style>\n",
       "<table border=\"1\" class=\"dataframe\">\n",
       "  <thead>\n",
       "    <tr style=\"text-align: right;\">\n",
       "      <th></th>\n",
       "      <th>velocity</th>\n",
       "      <th>mass</th>\n",
       "      <th>angle</th>\n",
       "      <th>altitude</th>\n",
       "      <th>distance</th>\n",
       "      <th>radius</th>\n",
       "      <th>time</th>\n",
       "    </tr>\n",
       "  </thead>\n",
       "  <tbody>\n",
       "    <tr>\n",
       "      <th>0</th>\n",
       "      <td>19000.000000</td>\n",
       "      <td>5.387831e+08</td>\n",
       "      <td>45.000000</td>\n",
       "      <td>100000.000000</td>\n",
       "      <td>0.000000</td>\n",
       "      <td>35.000000</td>\n",
       "      <td>0.00</td>\n",
       "    </tr>\n",
       "    <tr>\n",
       "      <th>1</th>\n",
       "      <td>19000.346548</td>\n",
       "      <td>5.387831e+08</td>\n",
       "      <td>44.995098</td>\n",
       "      <td>99328.248558</td>\n",
       "      <td>661.370490</td>\n",
       "      <td>35.000000</td>\n",
       "      <td>0.05</td>\n",
       "    </tr>\n",
       "    <tr>\n",
       "      <th>2</th>\n",
       "      <td>19000.693040</td>\n",
       "      <td>5.387831e+08</td>\n",
       "      <td>44.990195</td>\n",
       "      <td>98656.542339</td>\n",
       "      <td>1322.878295</td>\n",
       "      <td>35.000000</td>\n",
       "      <td>0.10</td>\n",
       "    </tr>\n",
       "    <tr>\n",
       "      <th>3</th>\n",
       "      <td>19001.039476</td>\n",
       "      <td>5.387830e+08</td>\n",
       "      <td>44.985291</td>\n",
       "      <td>97984.881365</td>\n",
       "      <td>1984.523449</td>\n",
       "      <td>35.000000</td>\n",
       "      <td>0.15</td>\n",
       "    </tr>\n",
       "    <tr>\n",
       "      <th>4</th>\n",
       "      <td>19001.385852</td>\n",
       "      <td>5.387830e+08</td>\n",
       "      <td>44.980385</td>\n",
       "      <td>97313.265659</td>\n",
       "      <td>2646.305984</td>\n",
       "      <td>35.000000</td>\n",
       "      <td>0.20</td>\n",
       "    </tr>\n",
       "    <tr>\n",
       "      <th>...</th>\n",
       "      <td>...</td>\n",
       "      <td>...</td>\n",
       "      <td>...</td>\n",
       "      <td>...</td>\n",
       "      <td>...</td>\n",
       "      <td>...</td>\n",
       "      <td>...</td>\n",
       "    </tr>\n",
       "    <tr>\n",
       "      <th>1238</th>\n",
       "      <td>77.534373</td>\n",
       "      <td>7.393132e+07</td>\n",
       "      <td>89.714825</td>\n",
       "      <td>18.270871</td>\n",
       "      <td>96803.453944</td>\n",
       "      <td>258.277621</td>\n",
       "      <td>61.90</td>\n",
       "    </tr>\n",
       "    <tr>\n",
       "      <th>1239</th>\n",
       "      <td>77.514817</td>\n",
       "      <td>7.393129e+07</td>\n",
       "      <td>89.716252</td>\n",
       "      <td>14.394201</td>\n",
       "      <td>96803.473240</td>\n",
       "      <td>258.277621</td>\n",
       "      <td>61.95</td>\n",
       "    </tr>\n",
       "    <tr>\n",
       "      <th>1240</th>\n",
       "      <td>77.495270</td>\n",
       "      <td>7.393126e+07</td>\n",
       "      <td>89.717670</td>\n",
       "      <td>10.518507</td>\n",
       "      <td>96803.492434</td>\n",
       "      <td>258.277621</td>\n",
       "      <td>62.00</td>\n",
       "    </tr>\n",
       "    <tr>\n",
       "      <th>1241</th>\n",
       "      <td>77.475734</td>\n",
       "      <td>7.393123e+07</td>\n",
       "      <td>89.719080</td>\n",
       "      <td>6.643791</td>\n",
       "      <td>96803.511527</td>\n",
       "      <td>258.277621</td>\n",
       "      <td>62.05</td>\n",
       "    </tr>\n",
       "    <tr>\n",
       "      <th>1242</th>\n",
       "      <td>77.456208</td>\n",
       "      <td>7.393120e+07</td>\n",
       "      <td>89.720481</td>\n",
       "      <td>2.770051</td>\n",
       "      <td>96803.530520</td>\n",
       "      <td>258.277621</td>\n",
       "      <td>62.10</td>\n",
       "    </tr>\n",
       "  </tbody>\n",
       "</table>\n",
       "<p>1243 rows × 7 columns</p>\n",
       "</div>"
      ],
      "text/plain": [
       "          velocity          mass      angle  ...      distance      radius   time\n",
       "0     19000.000000  5.387831e+08  45.000000  ...      0.000000   35.000000   0.00\n",
       "1     19000.346548  5.387831e+08  44.995098  ...    661.370490   35.000000   0.05\n",
       "2     19000.693040  5.387831e+08  44.990195  ...   1322.878295   35.000000   0.10\n",
       "3     19001.039476  5.387830e+08  44.985291  ...   1984.523449   35.000000   0.15\n",
       "4     19001.385852  5.387830e+08  44.980385  ...   2646.305984   35.000000   0.20\n",
       "...            ...           ...        ...  ...           ...         ...    ...\n",
       "1238     77.534373  7.393132e+07  89.714825  ...  96803.453944  258.277621  61.90\n",
       "1239     77.514817  7.393129e+07  89.716252  ...  96803.473240  258.277621  61.95\n",
       "1240     77.495270  7.393126e+07  89.717670  ...  96803.492434  258.277621  62.00\n",
       "1241     77.475734  7.393123e+07  89.719080  ...  96803.511527  258.277621  62.05\n",
       "1242     77.456208  7.393120e+07  89.720481  ...  96803.530520  258.277621  62.10\n",
       "\n",
       "[1243 rows x 7 columns]"
      ]
     },
     "execution_count": 24,
     "metadata": {},
     "output_type": "execute_result"
    }
   ],
   "source": [
    "result1 = earth.solve_atmospheric_entry(radius=35, angle=45,\n",
    "                                       strength=1e7, density=3000,\n",
    "                                       velocity=19e3)\n",
    "result1"
   ]
  },
  {
   "cell_type": "markdown",
   "metadata": {},
   "source": [
    "One could visualise the evolution of the asteroid in the atmosphere by plotting some graphs of the asteroid parameters against altitude or time."
   ]
  },
  {
   "cell_type": "code",
   "execution_count": 59,
   "metadata": {},
   "outputs": [
    {
     "data": {
      "image/png": "[encoded data removed]",
      "text/plain": [
       "<Figure size 1080x720 with 4 Axes>"
      ]
     },
     "metadata": {
      "needs_background": "light"
     },
     "output_type": "display_data"
    }
   ],
   "source": [
    "fig, ((ax1, ax2), (ax3, ax4)) = plt.subplots(2, 2, figsize=(15, 10))\n",
    "\n",
    "ax1.plot(result1['velocity'], result1['time'])\n",
    "ax1.set_ylabel('time $(s)$', fontsize=14)\n",
    "ax1.set_xlabel('velocity $(m/s)$', fontsize=14)\n",
    "ax1.set_title('Velocity evolution against time', fontsize=14)\n",
    "\n",
    "ax2.plot(result1['mass'], result1['time'])\n",
    "ax2.set_ylabel('time $(s)$', fontsize=14)\n",
    "ax2.set_xlabel('mass $(kg)$', fontsize=14)\n",
    "ax2.set_title('Mass evolution against time', fontsize=14)\n",
    "\n",
    "ax3.plot(result1['velocity'], result1['altitude'])\n",
    "ax3.set_ylabel('altitude $(m)$', fontsize=14)\n",
    "ax3.set_xlabel('velocity $(m/s)$', fontsize=14)\n",
    "ax3.set_title('Velocity evolution against altitude', fontsize=14)\n",
    "\n",
    "ax4.plot(result1['mass'], result1['altitude'])\n",
    "ax4.set_ylabel('altitude $(m)$', fontsize=14)\n",
    "ax4.set_xlabel('mass $(kg)$', fontsize=14)\n",
    "ax4.set_title('Mass evolution against altitude', fontsize=14)\n",
    "\n",
    "plt.tight_layout(pad = 2.0)"
   ]
  },
  {
   "cell_type": "markdown",
   "metadata": {},
   "source": [
    "The next function `calculate_energy` takes the results from `solve_atmospheric_entry` to calculate the kinetic energy loss per unit altitude in kilotons TNT per km. The function returns the same DataFrame as from `solve_atmospheric_entry`, but with an extra column 'dedz' added, where the kinetic energy loss is stored."
   ]
  },
  {
   "cell_type": "code",
   "execution_count": 21,
   "metadata": {},
   "outputs": [
    {
     "data": {
      "text/html": [
       "<div>\n",
       "<style scoped>\n",
       "    .dataframe tbody tr th:only-of-type {\n",
       "        vertical-align: middle;\n",
       "    }\n",
       "\n",
       "    .dataframe tbody tr th {\n",
       "        vertical-align: top;\n",
       "    }\n",
       "\n",
       "    .dataframe thead th {\n",
       "        text-align: right;\n",
       "    }\n",
       "</style>\n",
       "<table border=\"1\" class=\"dataframe\">\n",
       "  <thead>\n",
       "    <tr style=\"text-align: right;\">\n",
       "      <th></th>\n",
       "      <th>velocity</th>\n",
       "      <th>mass</th>\n",
       "      <th>angle</th>\n",
       "      <th>altitude</th>\n",
       "      <th>distance</th>\n",
       "      <th>radius</th>\n",
       "      <th>time</th>\n",
       "      <th>dedz</th>\n",
       "    </tr>\n",
       "  </thead>\n",
       "  <tbody>\n",
       "    <tr>\n",
       "      <th>0</th>\n",
       "      <td>19000.000000</td>\n",
       "      <td>5.387831e+08</td>\n",
       "      <td>45.000000</td>\n",
       "      <td>100000.000000</td>\n",
       "      <td>0.000000</td>\n",
       "      <td>35.000000</td>\n",
       "      <td>0.00</td>\n",
       "      <td>-0.000000</td>\n",
       "    </tr>\n",
       "    <tr>\n",
       "      <th>1</th>\n",
       "      <td>19000.346548</td>\n",
       "      <td>5.387831e+08</td>\n",
       "      <td>44.995098</td>\n",
       "      <td>99328.248558</td>\n",
       "      <td>661.370490</td>\n",
       "      <td>35.000000</td>\n",
       "      <td>0.05</td>\n",
       "      <td>-1.260322</td>\n",
       "    </tr>\n",
       "    <tr>\n",
       "      <th>2</th>\n",
       "      <td>19000.693040</td>\n",
       "      <td>5.387831e+08</td>\n",
       "      <td>44.990195</td>\n",
       "      <td>98656.542339</td>\n",
       "      <td>1322.878295</td>\n",
       "      <td>35.000000</td>\n",
       "      <td>0.10</td>\n",
       "      <td>-1.260064</td>\n",
       "    </tr>\n",
       "    <tr>\n",
       "      <th>3</th>\n",
       "      <td>19001.039476</td>\n",
       "      <td>5.387830e+08</td>\n",
       "      <td>44.985291</td>\n",
       "      <td>97984.881365</td>\n",
       "      <td>1984.523449</td>\n",
       "      <td>35.000000</td>\n",
       "      <td>0.15</td>\n",
       "      <td>-1.259782</td>\n",
       "    </tr>\n",
       "    <tr>\n",
       "      <th>4</th>\n",
       "      <td>19001.385852</td>\n",
       "      <td>5.387830e+08</td>\n",
       "      <td>44.980385</td>\n",
       "      <td>97313.265659</td>\n",
       "      <td>2646.305984</td>\n",
       "      <td>35.000000</td>\n",
       "      <td>0.20</td>\n",
       "      <td>-1.259477</td>\n",
       "    </tr>\n",
       "    <tr>\n",
       "      <th>...</th>\n",
       "      <td>...</td>\n",
       "      <td>...</td>\n",
       "      <td>...</td>\n",
       "      <td>...</td>\n",
       "      <td>...</td>\n",
       "      <td>...</td>\n",
       "      <td>...</td>\n",
       "      <td>...</td>\n",
       "    </tr>\n",
       "    <tr>\n",
       "      <th>1238</th>\n",
       "      <td>77.534373</td>\n",
       "      <td>7.393132e+07</td>\n",
       "      <td>89.714825</td>\n",
       "      <td>18.270871</td>\n",
       "      <td>96803.453944</td>\n",
       "      <td>258.277621</td>\n",
       "      <td>61.90</td>\n",
       "      <td>0.006919</td>\n",
       "    </tr>\n",
       "    <tr>\n",
       "      <th>1239</th>\n",
       "      <td>77.514817</td>\n",
       "      <td>7.393129e+07</td>\n",
       "      <td>89.716252</td>\n",
       "      <td>14.394201</td>\n",
       "      <td>96803.473240</td>\n",
       "      <td>258.277621</td>\n",
       "      <td>61.95</td>\n",
       "      <td>0.006916</td>\n",
       "    </tr>\n",
       "    <tr>\n",
       "      <th>1240</th>\n",
       "      <td>77.495270</td>\n",
       "      <td>7.393126e+07</td>\n",
       "      <td>89.717670</td>\n",
       "      <td>10.518507</td>\n",
       "      <td>96803.492434</td>\n",
       "      <td>258.277621</td>\n",
       "      <td>62.00</td>\n",
       "      <td>0.006912</td>\n",
       "    </tr>\n",
       "    <tr>\n",
       "      <th>1241</th>\n",
       "      <td>77.475734</td>\n",
       "      <td>7.393123e+07</td>\n",
       "      <td>89.719080</td>\n",
       "      <td>6.643791</td>\n",
       "      <td>96803.511527</td>\n",
       "      <td>258.277621</td>\n",
       "      <td>62.05</td>\n",
       "      <td>0.006909</td>\n",
       "    </tr>\n",
       "    <tr>\n",
       "      <th>1242</th>\n",
       "      <td>77.456208</td>\n",
       "      <td>7.393120e+07</td>\n",
       "      <td>89.720481</td>\n",
       "      <td>2.770051</td>\n",
       "      <td>96803.530520</td>\n",
       "      <td>258.277621</td>\n",
       "      <td>62.10</td>\n",
       "      <td>0.006905</td>\n",
       "    </tr>\n",
       "  </tbody>\n",
       "</table>\n",
       "<p>1243 rows × 8 columns</p>\n",
       "</div>"
      ],
      "text/plain": [
       "          velocity          mass      angle  ...      radius   time      dedz\n",
       "0     19000.000000  5.387831e+08  45.000000  ...   35.000000   0.00 -0.000000\n",
       "1     19000.346548  5.387831e+08  44.995098  ...   35.000000   0.05 -1.260322\n",
       "2     19000.693040  5.387831e+08  44.990195  ...   35.000000   0.10 -1.260064\n",
       "3     19001.039476  5.387830e+08  44.985291  ...   35.000000   0.15 -1.259782\n",
       "4     19001.385852  5.387830e+08  44.980385  ...   35.000000   0.20 -1.259477\n",
       "...            ...           ...        ...  ...         ...    ...       ...\n",
       "1238     77.534373  7.393132e+07  89.714825  ...  258.277621  61.90  0.006919\n",
       "1239     77.514817  7.393129e+07  89.716252  ...  258.277621  61.95  0.006916\n",
       "1240     77.495270  7.393126e+07  89.717670  ...  258.277621  62.00  0.006912\n",
       "1241     77.475734  7.393123e+07  89.719080  ...  258.277621  62.05  0.006909\n",
       "1242     77.456208  7.393120e+07  89.720481  ...  258.277621  62.10  0.006905\n",
       "\n",
       "[1243 rows x 8 columns]"
      ]
     },
     "execution_count": 21,
     "metadata": {},
     "output_type": "execute_result"
    }
   ],
   "source": [
    "result2 = earth.calculate_energy(result1)\n",
    "result2"
   ]
  },
  {
   "cell_type": "code",
   "execution_count": 58,
   "metadata": {},
   "outputs": [
    {
     "data": {
      "image/png": "[encoded data removed]",
      "text/plain": [
       "<Figure size 1080x360 with 2 Axes>"
      ]
     },
     "metadata": {
      "needs_background": "light"
     },
     "output_type": "display_data"
    }
   ],
   "source": [
    "fig, (ax1, ax2) = plt.subplots(1, 2, figsize=(15, 5))\n",
    "\n",
    "ax1.plot(result2['dedz'], result2['time'])\n",
    "ax1.set_ylim(ymin=0)\n",
    "ax1.set_xlabel('time $(s)$', fontsize=14)\n",
    "ax1.set_ylabel('kinetic energy loss $(kt/km)$', fontsize=14)\n",
    "ax1.set_title('Energy loss against time', fontsize=14)\n",
    "\n",
    "ax2.plot(result2['dedz'], result2['altitude'])\n",
    "ax2.set_ylim(ymin=0)\n",
    "ax2.set_xlabel('altitude $(m)$', fontsize=14)\n",
    "ax2.set_ylabel('kinetic energy loss $(kt/km)$', fontsize=14)\n",
    "ax2.set_title('Energy loss against altitude', fontsize=14)\n",
    "\n",
    "plt.tight_layout(pad = 2.0)"
   ]
  },
  {
   "cell_type": "markdown",
   "metadata": {},
   "source": [
    "The next function `analyse_outcome` is where we solve the system to generate an initial DataFrame."
   ]
  },
  {
   "cell_type": "code",
   "execution_count": 22,
   "metadata": {},
   "outputs": [
    {
     "data": {
      "text/plain": [
       "{'outcome': 'Airburst',\n",
       " 'burst_peak_dedz': 2994.1523510101592,\n",
       " 'burst_altitude': 10459.247706169299,\n",
       " 'burst_distance': 89798.00494327919,\n",
       " 'burst_energy': 16894.541385001165}"
      ]
     },
     "execution_count": 22,
     "metadata": {},
     "output_type": "execute_result"
    }
   ],
   "source": [
    "outcome = earth.analyse_outcome(result2)\n",
    "outcome"
   ]
  },
  {
   "cell_type": "markdown",
   "metadata": {},
   "source": [
    "Each dictionary gives the detail of the impact event."
   ]
  }
 ],
 "metadata": {
  "kernelspec": {
   "display_name": "Python 3.9.12 ('base')",
   "language": "python",
   "name": "python3"
  },
  "language_info": {
   "codemirror_mode": {
    "name": "ipython",
    "version": 3
   },
   "file_extension": ".py",
   "mimetype": "text/x-python",
   "name": "python",
   "nbconvert_exporter": "python",
   "pygments_lexer": "ipython3",
   "version": "3.9.12"
  },
  "orig_nbformat": 4,
  "vscode": {
   "interpreter": {
    "hash": "4d873fbdfac80e8bd3f0544f0905c87e65b3b3f15d63b7a1761f05985c262bb1"
   }
  }
 },
 "nbformat": 4,
 "nbformat_minor": 2
}
