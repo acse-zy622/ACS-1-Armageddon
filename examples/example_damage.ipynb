{
 "cells": [
  {
   "cell_type": "markdown",
   "metadata": {
    "toc": true
   },
   "source": [
    "<h1>Table of Contents<span class=\"tocSkip\"></span></h1>\n",
    "<div class=\"toc\"><ul class=\"toc-item\"><li><span><a href=\"#damage_zones(-)-to-calculate-parameters-of-damage-zones\" data-toc-modified-id=\"damage_zones(-)-to-calculate-parameters-of-damage-zones-1\"><span class=\"toc-item-num\">1&nbsp;&nbsp;</span>damage_zones( ) to calculate parameters of damage zones</a></span></li><li><span><a href=\"#impact_risk(-)-uncertainty-analysis\" data-toc-modified-id=\"impact_risk(-)-uncertainty-analysis-2\"><span class=\"toc-item-num\">2&nbsp;&nbsp;</span>impact_risk( ) uncertainty analysis</a></span></li></ul></div>"
   ]
  },
  {
   "cell_type": "markdown",
   "metadata": {},
   "source": [
    "To install the module and any pre-requisites, from the base directory run:\n",
    "```\n",
    "pip install -r requirements.txt\n",
    "pip install -e .\n",
    "```\n",
    "\n",
    "To download the postcode data required:\n",
    "\n",
    "```\n",
    "python download_data.py\n",
    "```"
   ]
  },
  {
   "cell_type": "code",
   "execution_count": 1,
   "metadata": {},
   "outputs": [
    {
     "name": "stdout",
     "output_type": "stream",
     "text": [
      "(51.98371949678459, -2.8338706741653983, [5835.9834520793875])\n"
     ]
    }
   ],
   "source": [
    "from armageddon.damage import damage_zones, impact_risk\n",
    "from armageddon.solver import Planet\n",
    "import armageddon\n",
    "import folium"
   ]
  },
  {
   "cell_type": "markdown",
   "metadata": {},
   "source": [
    "### damage_zones( ) to calculate parameters of damage zones\n",
    "\n",
    "Calculate the latitude and longitude of the surface zero location and the\n",
    "list of airblast damage radii (m) for a given impact scenario.\n",
    "\n",
    "\n",
    "__Parameters__\n",
    "\n",
    "outcome: Dict\n",
    "\n",
    "    the outcome dictionary from an impact scenario\n",
    "        \n",
    "lat: float\n",
    "\n",
    "    latitude of the meteoroid entry point (degrees)\n",
    "\n",
    "lon: float\n",
    "\n",
    "    longitude of the meteoroid entry point (degrees)\n",
    "    \n",
    "bearing: float\n",
    "\n",
    "    Bearing (azimuth) relative to north of meteoroid trajectory (degrees)\n",
    "    \n",
    "pressures: float, arraylike\n",
    "\n",
    "    List of threshold pressures to define airblast damage levels\n",
    "    \n",
    "plot: bool\n",
    "\n",
    "    Boolean value to decide plotting\n",
    "\n",
    "__Return__\n",
    "\n",
    "blat: float\n",
    "\n",
    "    latitude of the surface zero point (degrees)\n",
    "        \n",
    "blon: float\n",
    "\n",
    "    longitude of the surface zero point (degrees)\n",
    "        \n",
    "damrad: arraylike, float\n",
    "\n",
    "    List of distances specifying the blast radii for the input damage levels\n",
    "        \n",
    "plot: plot object\n",
    "\n",
    "    The plot specifying the areas effected by each damage level\n",
    "\n",
    "\n",
    "__Examples__\n",
    "    \n",
    "    >>> import armageddon\n",
    "    >>> outcome = {'burst_altitude': 8e3, 'burst_energy': 7e3,\n",
    "                   'burst_distance': 90e3, 'burst_peak_dedz': 1e3,\n",
    "                   'outcome': 'Airburst'}\n",
    "    >>> armageddon.damage_zones(outcome, 52.79, -2.95, 135,\n",
    "                                pressures=[1e3, 3.5e3, 27e3, 43e3])\\\n"
   ]
  },
  {
   "cell_type": "code",
   "execution_count": 2,
   "metadata": {},
   "outputs": [
    {
     "data": {
      "text/plain": [
       "(51.98371949678459,\n",
       " -2.8338706741653983,\n",
       " [115971.31673025587,\n",
       "  42628.36651535611,\n",
       "  9575.214234120964,\n",
       "  5835.9834520793875])"
      ]
     },
     "execution_count": 2,
     "metadata": {},
     "output_type": "execute_result"
    }
   ],
   "source": [
    "outcome = {'burst_altitude': 8e3, 'burst_energy': 7e3,\n",
    "           'burst_distance': 90e3, 'burst_peak_dedz': 1e3,\n",
    "           'outcome': 'Airburst'}\n",
    "arr = damage_zones(outcome, 52.79, -2.95, 135, \n",
    "                   pressures=[1e3, 3.5e3, 27e3, 43e3],\n",
    "                   )\n",
    "arr"
   ]
  },
  {
   "cell_type": "markdown",
   "metadata": {},
   "source": [
    "_Explaination:_\n",
    "\n",
    "damage_zones( ) returned a list of parameters with :\n",
    "\n",
    "    surface zero latitude in degree:  51.98371949678459\n",
    "\n",
    "    surface zero longitude in degree:  -2.8338706741653983\n",
    "\n",
    "    blast radii with the pressure level of 1e3:  115971.31673025587\n",
    "\n",
    "    blast radii with the pressure level of 3.5e3:  42628.36651535611\n",
    "\n",
    "    blast radii with the pressure level of 27e3:  9575.214234120964\n",
    "\n",
    "    blast radii with the pressure level of 43e3:  5835.9834520793875\n"
   ]
  },
  {
   "cell_type": "code",
   "execution_count": 3,
   "metadata": {
    "scrolled": false
   },
   "outputs": [
    {
     "data": {
      "text/html": [
       "<div style=\"width:100%;\"><div style=\"position:relative;width:100%;height:0;padding-bottom:60%;\"><span style=\"color:#565656\">Make this Notebook Trusted to load map: File -> Trust Notebook</span><iframe srcdoc=\"&lt;!DOCTYPE html&gt;\n",
       "&lt;html&gt;\n",
       "&lt;head&gt;\n",
       "    \n",
       "    &lt;meta http-equiv=&quot;content-type&quot; content=&quot;text/html; charset=UTF-8&quot; /&gt;\n",
       "    \n",
       "        &lt;script&gt;\n",
       "            L_NO_TOUCH = false;\n",
       "            L_DISABLE_3D = false;\n",
       "        &lt;/script&gt;\n",
       "    \n",
       "    &lt;style&gt;html, body {width: 100%;height: 100%;margin: 0;padding: 0;}&lt;/style&gt;\n",
       "    &lt;style&gt;#map {position:absolute;top:0;bottom:0;right:0;left:0;}&lt;/style&gt;\n",
       "    &lt;script src=&quot;https://cdn.jsdelivr.net/npm/leaflet@1.6.0/dist/leaflet.js&quot;&gt;&lt;/script&gt;\n",
       "    &lt;script src=&quot;https://code.jquery.com/jquery-1.12.4.min.js&quot;&gt;&lt;/script&gt;\n",
       "    &lt;script src=&quot;https://maxcdn.bootstrapcdn.com/bootstrap/3.2.0/js/bootstrap.min.js&quot;&gt;&lt;/script&gt;\n",
       "    &lt;script src=&quot;https://cdnjs.cloudflare.com/ajax/libs/Leaflet.awesome-markers/2.0.2/leaflet.awesome-markers.js&quot;&gt;&lt;/script&gt;\n",
       "    &lt;link rel=&quot;stylesheet&quot; href=&quot;https://cdn.jsdelivr.net/npm/leaflet@1.6.0/dist/leaflet.css&quot;/&gt;\n",
       "    &lt;link rel=&quot;stylesheet&quot; href=&quot;https://maxcdn.bootstrapcdn.com/bootstrap/3.2.0/css/bootstrap.min.css&quot;/&gt;\n",
       "    &lt;link rel=&quot;stylesheet&quot; href=&quot;https://maxcdn.bootstrapcdn.com/bootstrap/3.2.0/css/bootstrap-theme.min.css&quot;/&gt;\n",
       "    &lt;link rel=&quot;stylesheet&quot; href=&quot;https://maxcdn.bootstrapcdn.com/font-awesome/4.6.3/css/font-awesome.min.css&quot;/&gt;\n",
       "    &lt;link rel=&quot;stylesheet&quot; href=&quot;https://cdnjs.cloudflare.com/ajax/libs/Leaflet.awesome-markers/2.0.2/leaflet.awesome-markers.css&quot;/&gt;\n",
       "    &lt;link rel=&quot;stylesheet&quot; href=&quot;https://cdn.jsdelivr.net/gh/python-visualization/folium/folium/templates/leaflet.awesome.rotate.min.css&quot;/&gt;\n",
       "    \n",
       "            &lt;meta name=&quot;viewport&quot; content=&quot;width=device-width,\n",
       "                initial-scale=1.0, maximum-scale=1.0, user-scalable=no&quot; /&gt;\n",
       "            &lt;style&gt;\n",
       "                #map_12f363170736b3161b3055f0099bdd48 {\n",
       "                    position: relative;\n",
       "                    width: 100.0%;\n",
       "                    height: 100.0%;\n",
       "                    left: 0.0%;\n",
       "                    top: 0.0%;\n",
       "                }\n",
       "            &lt;/style&gt;\n",
       "        \n",
       "&lt;/head&gt;\n",
       "&lt;body&gt;\n",
       "    \n",
       "    \n",
       "            &lt;div class=&quot;folium-map&quot; id=&quot;map_12f363170736b3161b3055f0099bdd48&quot; &gt;&lt;/div&gt;\n",
       "        \n",
       "&lt;/body&gt;\n",
       "&lt;script&gt;\n",
       "    \n",
       "    \n",
       "            var map_12f363170736b3161b3055f0099bdd48 = L.map(\n",
       "                &quot;map_12f363170736b3161b3055f0099bdd48&quot;,\n",
       "                {\n",
       "                    center: [51.98371949678459, -2.8338706741653983],\n",
       "                    crs: L.CRS.EPSG3857,\n",
       "                    zoom: 10,\n",
       "                    zoomControl: true,\n",
       "                    preferCanvas: false,\n",
       "                }\n",
       "            );\n",
       "            L.control.scale().addTo(map_12f363170736b3161b3055f0099bdd48);\n",
       "\n",
       "            \n",
       "\n",
       "        \n",
       "    \n",
       "            var tile_layer_c3d4e7784589157a8ed1981940981905 = L.tileLayer(\n",
       "                &quot;https://{s}.tile.openstreetmap.org/{z}/{x}/{y}.png&quot;,\n",
       "                {&quot;attribution&quot;: &quot;Data by \\u0026copy; \\u003ca href=\\&quot;http://openstreetmap.org\\&quot;\\u003eOpenStreetMap\\u003c/a\\u003e, under \\u003ca href=\\&quot;http://www.openstreetmap.org/copyright\\&quot;\\u003eODbL\\u003c/a\\u003e.&quot;, &quot;detectRetina&quot;: false, &quot;maxNativeZoom&quot;: 18, &quot;maxZoom&quot;: 18, &quot;minZoom&quot;: 0, &quot;noWrap&quot;: false, &quot;opacity&quot;: 1, &quot;subdomains&quot;: &quot;abc&quot;, &quot;tms&quot;: false}\n",
       "            ).addTo(map_12f363170736b3161b3055f0099bdd48);\n",
       "        \n",
       "    \n",
       "            var circle_88e5643cf257ba0d72a7437e4c0c5825 = L.circle(\n",
       "                [51.98371949678459, -2.8338706741653983],\n",
       "                {&quot;bubblingMouseEvents&quot;: true, &quot;color&quot;: &quot;#3388ff&quot;, &quot;dashArray&quot;: null, &quot;dashOffset&quot;: null, &quot;fill&quot;: true, &quot;fillColor&quot;: &quot;#3388ff&quot;, &quot;fillOpacity&quot;: 0.2, &quot;fillRule&quot;: &quot;evenodd&quot;, &quot;lineCap&quot;: &quot;round&quot;, &quot;lineJoin&quot;: &quot;round&quot;, &quot;opacity&quot;: 1.0, &quot;radius&quot;: 115971.31673025587, &quot;stroke&quot;: true, &quot;weight&quot;: 3}\n",
       "            ).addTo(map_12f363170736b3161b3055f0099bdd48);\n",
       "        \n",
       "    \n",
       "            var circle_12a0afab8512c3dc7c7ab262deaadda4 = L.circle(\n",
       "                [51.98371949678459, -2.8338706741653983],\n",
       "                {&quot;bubblingMouseEvents&quot;: true, &quot;color&quot;: &quot;#3388ff&quot;, &quot;dashArray&quot;: null, &quot;dashOffset&quot;: null, &quot;fill&quot;: true, &quot;fillColor&quot;: &quot;#3388ff&quot;, &quot;fillOpacity&quot;: 0.2, &quot;fillRule&quot;: &quot;evenodd&quot;, &quot;lineCap&quot;: &quot;round&quot;, &quot;lineJoin&quot;: &quot;round&quot;, &quot;opacity&quot;: 1.0, &quot;radius&quot;: 42628.36651535611, &quot;stroke&quot;: true, &quot;weight&quot;: 3}\n",
       "            ).addTo(map_12f363170736b3161b3055f0099bdd48);\n",
       "        \n",
       "    \n",
       "            var circle_27f3926731728070f678dcb25fadbd03 = L.circle(\n",
       "                [51.98371949678459, -2.8338706741653983],\n",
       "                {&quot;bubblingMouseEvents&quot;: true, &quot;color&quot;: &quot;#3388ff&quot;, &quot;dashArray&quot;: null, &quot;dashOffset&quot;: null, &quot;fill&quot;: true, &quot;fillColor&quot;: &quot;#3388ff&quot;, &quot;fillOpacity&quot;: 0.2, &quot;fillRule&quot;: &quot;evenodd&quot;, &quot;lineCap&quot;: &quot;round&quot;, &quot;lineJoin&quot;: &quot;round&quot;, &quot;opacity&quot;: 1.0, &quot;radius&quot;: 9575.214234120964, &quot;stroke&quot;: true, &quot;weight&quot;: 3}\n",
       "            ).addTo(map_12f363170736b3161b3055f0099bdd48);\n",
       "        \n",
       "    \n",
       "            var circle_afcb78b3c83ec448e264967ed44f8f02 = L.circle(\n",
       "                [51.98371949678459, -2.8338706741653983],\n",
       "                {&quot;bubblingMouseEvents&quot;: true, &quot;color&quot;: &quot;#3388ff&quot;, &quot;dashArray&quot;: null, &quot;dashOffset&quot;: null, &quot;fill&quot;: true, &quot;fillColor&quot;: &quot;#3388ff&quot;, &quot;fillOpacity&quot;: 0.2, &quot;fillRule&quot;: &quot;evenodd&quot;, &quot;lineCap&quot;: &quot;round&quot;, &quot;lineJoin&quot;: &quot;round&quot;, &quot;opacity&quot;: 1.0, &quot;radius&quot;: 5835.9834520793875, &quot;stroke&quot;: true, &quot;weight&quot;: 3}\n",
       "            ).addTo(map_12f363170736b3161b3055f0099bdd48);\n",
       "        \n",
       "&lt;/script&gt;\n",
       "&lt;/html&gt;\" style=\"position:absolute;width:100%;height:100%;left:0;top:0;border:none !important;\" allowfullscreen webkitallowfullscreen mozallowfullscreen></iframe></div></div>"
      ],
      "text/plain": [
       "<folium.folium.Map at 0x17d966e60>"
      ]
     },
     "execution_count": 3,
     "metadata": {},
     "output_type": "execute_result"
    }
   ],
   "source": [
    "a = armageddon.plot_circle(arr[0], arr[1], arr[2][0])\n",
    "armageddon.plot_circle(arr[0], arr[1], arr[2][1], map = a)\n",
    "armageddon.plot_circle(arr[0], arr[1], arr[2][2], map = a)\n",
    "armageddon.plot_circle(arr[0], arr[1], arr[2][3], map = a)"
   ]
  },
  {
   "cell_type": "markdown",
   "metadata": {},
   "source": [
    "_Explaination:_\n",
    "    \n",
    "    The damage zones are marked on the plot above. As the plot and calculations shows, as the radius(horizontal range) goes up, the pressure in this wave decreases. This is also proved by the equation:\n",
    "    \n",
    "\\begin{equation*}\n",
    "p(r) = 3.14 \\times 10^{11} \\left(\\frac{r^2 + z_b^2}{E_k^{2/3}}\\right)^{-1.3} + 1.8 \\times 10^{7} \\left(\\frac{r^2 + z_b^2}{E_k^{2/3}}\\right)^{-0.565}\n",
    "\\end{equation*}"
   ]
  },
  {
   "cell_type": "markdown",
   "metadata": {},
   "source": [
    "### impact_risk( ) uncertainty analysis\n",
    "\n",
    "Perform an uncertainty analysis to calculate the risk for each affected UK postcode or postcode sector\n",
    "\n",
    "\n",
    "__Parameters__\n",
    "\n",
    "planet: armageddon.Planet instance\n",
    "\n",
    "    The Planet instance from which to solve the atmospheric entry\n",
    "\n",
    "means: dict\n",
    "\n",
    "    A dictionary of mean input values for the uncertainty analysis. This should include values for ``radius``, ``angle``, ``strength``, ``density``, ``velocity``, ``lat``, ``lon`` and ``bearing``\n",
    "\n",
    "stdevs: dict\n",
    "\n",
    "    A dictionary of standard deviations for each input value. This should include values for ``radius``, ``angle``, ``strength``, ``density``, ``velocity``, ``lat``, ``lon`` and ``bearing``\n",
    "\n",
    "pressure: float\n",
    "\n",
    "    A single pressure at which to calculate the damage zone for each impact\n",
    "\n",
    "nsamples: int\n",
    "\n",
    "    The number of iterations to perform in the uncertainty analysis\n",
    "\n",
    "sector: logical, optional\n",
    "\n",
    "    If True (default) calculate the risk for postcode sectors, otherwise calculate the risk for postcodes\n",
    "\n",
    "__Return__\n",
    "\n",
    "risk: DataFrame\n",
    "\n",
    "    A pandas DataFrame with columns for postcode (or postcode sector) and the associated risk. These should be called ``postcode`` or ``sector``, and ``risk``.\n"
   ]
  },
  {
   "cell_type": "code",
   "execution_count": 4,
   "metadata": {},
   "outputs": [
    {
     "ename": "ValueError",
     "evalue": "('Lengths must match to compare', (1771908,), (1,))",
     "output_type": "error",
     "traceback": [
      "\u001b[0;31m---------------------------------------------------------------------------\u001b[0m",
      "\u001b[0;31mValueError\u001b[0m                                Traceback (most recent call last)",
      "Cell \u001b[0;32mIn [4], line 8\u001b[0m\n\u001b[1;32m      2\u001b[0m fiducial_means \u001b[38;5;241m=\u001b[39m {\u001b[38;5;124m'\u001b[39m\u001b[38;5;124mradius\u001b[39m\u001b[38;5;124m'\u001b[39m: \u001b[38;5;241m35\u001b[39m, \u001b[38;5;124m'\u001b[39m\u001b[38;5;124mangle\u001b[39m\u001b[38;5;124m'\u001b[39m: \u001b[38;5;241m45\u001b[39m, \u001b[38;5;124m'\u001b[39m\u001b[38;5;124mstrength\u001b[39m\u001b[38;5;124m'\u001b[39m: \u001b[38;5;241m1e7\u001b[39m,\n\u001b[1;32m      3\u001b[0m                   \u001b[38;5;124m'\u001b[39m\u001b[38;5;124mdensity\u001b[39m\u001b[38;5;124m'\u001b[39m: \u001b[38;5;241m3000\u001b[39m, \u001b[38;5;124m'\u001b[39m\u001b[38;5;124mvelocity\u001b[39m\u001b[38;5;124m'\u001b[39m: \u001b[38;5;241m19e3\u001b[39m,\n\u001b[1;32m      4\u001b[0m                   \u001b[38;5;124m'\u001b[39m\u001b[38;5;124mlat\u001b[39m\u001b[38;5;124m'\u001b[39m: \u001b[38;5;241m53.0\u001b[39m, \u001b[38;5;124m'\u001b[39m\u001b[38;5;124mlon\u001b[39m\u001b[38;5;124m'\u001b[39m: \u001b[38;5;241m-\u001b[39m\u001b[38;5;241m2.5\u001b[39m, \u001b[38;5;124m'\u001b[39m\u001b[38;5;124mbearing\u001b[39m\u001b[38;5;124m'\u001b[39m: \u001b[38;5;241m115.\u001b[39m}\n\u001b[1;32m      5\u001b[0m fiducial_stdevs \u001b[38;5;241m=\u001b[39m {\u001b[38;5;124m'\u001b[39m\u001b[38;5;124mradius\u001b[39m\u001b[38;5;124m'\u001b[39m: \u001b[38;5;241m1\u001b[39m, \u001b[38;5;124m'\u001b[39m\u001b[38;5;124mangle\u001b[39m\u001b[38;5;124m'\u001b[39m: \u001b[38;5;241m1\u001b[39m, \u001b[38;5;124m'\u001b[39m\u001b[38;5;124mstrength\u001b[39m\u001b[38;5;124m'\u001b[39m: \u001b[38;5;241m5e6\u001b[39m,\n\u001b[1;32m      6\u001b[0m                    \u001b[38;5;124m'\u001b[39m\u001b[38;5;124mdensity\u001b[39m\u001b[38;5;124m'\u001b[39m: \u001b[38;5;241m500\u001b[39m, \u001b[38;5;124m'\u001b[39m\u001b[38;5;124mvelocity\u001b[39m\u001b[38;5;124m'\u001b[39m: \u001b[38;5;241m1e3\u001b[39m,\n\u001b[1;32m      7\u001b[0m                    \u001b[38;5;124m'\u001b[39m\u001b[38;5;124mlat\u001b[39m\u001b[38;5;124m'\u001b[39m: \u001b[38;5;241m0.025\u001b[39m, \u001b[38;5;124m'\u001b[39m\u001b[38;5;124mlon\u001b[39m\u001b[38;5;124m'\u001b[39m: \u001b[38;5;241m0.025\u001b[39m, \u001b[38;5;124m'\u001b[39m\u001b[38;5;124mbearing\u001b[39m\u001b[38;5;124m'\u001b[39m: \u001b[38;5;241m0.5\u001b[39m}\n\u001b[0;32m----> 8\u001b[0m \u001b[43mimpact_risk\u001b[49m\u001b[43m(\u001b[49m\u001b[43mp\u001b[49m\u001b[43m,\u001b[49m\u001b[43m \u001b[49m\u001b[43mmeans\u001b[49m\u001b[38;5;241;43m=\u001b[39;49m\u001b[43mfiducial_means\u001b[49m\u001b[43m,\u001b[49m\u001b[43m \u001b[49m\u001b[43mstdevs\u001b[49m\u001b[38;5;241;43m=\u001b[39;49m\u001b[43mfiducial_stdevs\u001b[49m\u001b[43m,\u001b[49m\u001b[43m \u001b[49m\u001b[43mpressure\u001b[49m\u001b[38;5;241;43m=\u001b[39;49m\u001b[38;5;241;43m27.e3\u001b[39;49m\u001b[43m,\u001b[49m\u001b[43m \u001b[49m\u001b[43mnsamples\u001b[49m\u001b[38;5;241;43m=\u001b[39;49m\u001b[38;5;241;43m10\u001b[39;49m\u001b[43m,\u001b[49m\u001b[43m \u001b[49m\u001b[43msector\u001b[49m\u001b[38;5;241;43m=\u001b[39;49m\u001b[38;5;28;43;01mTrue\u001b[39;49;00m\u001b[43m)\u001b[49m\n",
      "File \u001b[0;32m~/acs-armageddon-Dimorphos/armageddon/damage.py:144\u001b[0m, in \u001b[0;36mimpact_risk\u001b[0;34m(planet, means, stdevs, pressure, nsamples, sector)\u001b[0m\n\u001b[1;32m    140\u001b[0m analysis \u001b[38;5;241m=\u001b[39m planet\u001b[38;5;241m.\u001b[39manalyse_outcome(result)\n\u001b[1;32m    141\u001b[0m blat, blon, damrad \u001b[38;5;241m=\u001b[39m damage_zones(\n\u001b[1;32m    142\u001b[0m     analysis, lat, lon, bearing, pressure\n\u001b[1;32m    143\u001b[0m )\n\u001b[0;32m--> 144\u001b[0m damcode \u001b[38;5;241m=\u001b[39m \u001b[43mlocator\u001b[49m\u001b[38;5;241;43m.\u001b[39;49m\u001b[43mget_postcodes_by_radius\u001b[49m\u001b[43m(\u001b[49m\n\u001b[1;32m    145\u001b[0m \u001b[43m    \u001b[49m\u001b[43m(\u001b[49m\u001b[43mblat\u001b[49m\u001b[43m,\u001b[49m\u001b[43m \u001b[49m\u001b[43mblon\u001b[49m\u001b[43m)\u001b[49m\u001b[43m,\u001b[49m\u001b[43m \u001b[49m\u001b[43m[\u001b[49m\u001b[43mdamrad\u001b[49m\u001b[43m]\u001b[49m\u001b[43m,\u001b[49m\u001b[43m \u001b[49m\u001b[43msector\u001b[49m\u001b[43m)\u001b[49m[\u001b[38;5;241m0\u001b[39m]\n\u001b[1;32m    146\u001b[0m \u001b[38;5;66;03m# print('blast data', blat, blon, damrad)\u001b[39;00m\n\u001b[1;32m    147\u001b[0m postcodes \u001b[38;5;241m=\u001b[39m postcodes \u001b[38;5;241m+\u001b[39m damcode\n",
      "File \u001b[0;32m~/acs-armageddon-Dimorphos/armageddon/locator.py:157\u001b[0m, in \u001b[0;36mPostcodeLocator.get_postcodes_by_radius\u001b[0;34m(self, X, radii, sector)\u001b[0m\n\u001b[1;32m    150\u001b[0m df[\u001b[38;5;124m'\u001b[39m\u001b[38;5;124mDistance\u001b[39m\u001b[38;5;124m'\u001b[39m] \u001b[38;5;241m=\u001b[39m \u001b[38;5;28mself\u001b[39m\u001b[38;5;241m.\u001b[39mnorm(\n\u001b[1;32m    151\u001b[0m     np\u001b[38;5;241m.\u001b[39mstack(\n\u001b[1;32m    152\u001b[0m         [df[\u001b[38;5;124m'\u001b[39m\u001b[38;5;124mLatitude\u001b[39m\u001b[38;5;124m'\u001b[39m]\u001b[38;5;241m.\u001b[39mto_numpy(), df[\u001b[38;5;124m'\u001b[39m\u001b[38;5;124mLongitude\u001b[39m\u001b[38;5;124m'\u001b[39m]\u001b[38;5;241m.\u001b[39mto_numpy()],\n\u001b[1;32m    153\u001b[0m         axis\u001b[38;5;241m=\u001b[39m\u001b[38;5;241m1\u001b[39m), X\n\u001b[1;32m    154\u001b[0m )\n\u001b[1;32m    155\u001b[0m \u001b[38;5;28;01mfor\u001b[39;00m r \u001b[38;5;129;01min\u001b[39;00m radii:\n\u001b[1;32m    156\u001b[0m     place_list\u001b[38;5;241m.\u001b[39mappend(\u001b[38;5;28mlist\u001b[39m(\n\u001b[0;32m--> 157\u001b[0m         \u001b[38;5;28mset\u001b[39m(df[\u001b[43mdf\u001b[49m\u001b[43m[\u001b[49m\u001b[38;5;124;43m'\u001b[39;49m\u001b[38;5;124;43mDistance\u001b[39;49m\u001b[38;5;124;43m'\u001b[39;49m\u001b[43m]\u001b[49m\u001b[43m \u001b[49m\u001b[38;5;241;43m<\u001b[39;49m\u001b[43m \u001b[49m\u001b[43mr\u001b[49m][selector]\u001b[38;5;241m.\u001b[39mto_list())\n\u001b[1;32m    158\u001b[0m     ))\n\u001b[1;32m    159\u001b[0m \u001b[38;5;28;01mreturn\u001b[39;00m place_list\n",
      "File \u001b[0;32m/opt/homebrew/Caskroom/miniconda/base/envs/ese-msc/lib/python3.10/site-packages/pandas/core/ops/common.py:72\u001b[0m, in \u001b[0;36m_unpack_zerodim_and_defer.<locals>.new_method\u001b[0;34m(self, other)\u001b[0m\n\u001b[1;32m     68\u001b[0m             \u001b[38;5;28;01mreturn\u001b[39;00m \u001b[38;5;28mNotImplemented\u001b[39m\n\u001b[1;32m     70\u001b[0m other \u001b[38;5;241m=\u001b[39m item_from_zerodim(other)\n\u001b[0;32m---> 72\u001b[0m \u001b[38;5;28;01mreturn\u001b[39;00m \u001b[43mmethod\u001b[49m\u001b[43m(\u001b[49m\u001b[38;5;28;43mself\u001b[39;49m\u001b[43m,\u001b[49m\u001b[43m \u001b[49m\u001b[43mother\u001b[49m\u001b[43m)\u001b[49m\n",
      "File \u001b[0;32m/opt/homebrew/Caskroom/miniconda/base/envs/ese-msc/lib/python3.10/site-packages/pandas/core/arraylike.py:51\u001b[0m, in \u001b[0;36mOpsMixin.__lt__\u001b[0;34m(self, other)\u001b[0m\n\u001b[1;32m     49\u001b[0m \u001b[38;5;129m@unpack_zerodim_and_defer\u001b[39m(\u001b[38;5;124m\"\u001b[39m\u001b[38;5;124m__lt__\u001b[39m\u001b[38;5;124m\"\u001b[39m)\n\u001b[1;32m     50\u001b[0m \u001b[38;5;28;01mdef\u001b[39;00m \u001b[38;5;21m__lt__\u001b[39m(\u001b[38;5;28mself\u001b[39m, other):\n\u001b[0;32m---> 51\u001b[0m     \u001b[38;5;28;01mreturn\u001b[39;00m \u001b[38;5;28;43mself\u001b[39;49m\u001b[38;5;241;43m.\u001b[39;49m\u001b[43m_cmp_method\u001b[49m\u001b[43m(\u001b[49m\u001b[43mother\u001b[49m\u001b[43m,\u001b[49m\u001b[43m \u001b[49m\u001b[43moperator\u001b[49m\u001b[38;5;241;43m.\u001b[39;49m\u001b[43mlt\u001b[49m\u001b[43m)\u001b[49m\n",
      "File \u001b[0;32m/opt/homebrew/Caskroom/miniconda/base/envs/ese-msc/lib/python3.10/site-packages/pandas/core/series.py:6246\u001b[0m, in \u001b[0;36mSeries._cmp_method\u001b[0;34m(self, other, op)\u001b[0m\n\u001b[1;32m   6243\u001b[0m rvalues \u001b[38;5;241m=\u001b[39m extract_array(other, extract_numpy\u001b[38;5;241m=\u001b[39m\u001b[38;5;28;01mTrue\u001b[39;00m, extract_range\u001b[38;5;241m=\u001b[39m\u001b[38;5;28;01mTrue\u001b[39;00m)\n\u001b[1;32m   6245\u001b[0m \u001b[38;5;28;01mwith\u001b[39;00m np\u001b[38;5;241m.\u001b[39merrstate(\u001b[38;5;28mall\u001b[39m\u001b[38;5;241m=\u001b[39m\u001b[38;5;124m\"\u001b[39m\u001b[38;5;124mignore\u001b[39m\u001b[38;5;124m\"\u001b[39m):\n\u001b[0;32m-> 6246\u001b[0m     res_values \u001b[38;5;241m=\u001b[39m \u001b[43mops\u001b[49m\u001b[38;5;241;43m.\u001b[39;49m\u001b[43mcomparison_op\u001b[49m\u001b[43m(\u001b[49m\u001b[43mlvalues\u001b[49m\u001b[43m,\u001b[49m\u001b[43m \u001b[49m\u001b[43mrvalues\u001b[49m\u001b[43m,\u001b[49m\u001b[43m \u001b[49m\u001b[43mop\u001b[49m\u001b[43m)\u001b[49m\n\u001b[1;32m   6248\u001b[0m \u001b[38;5;28;01mreturn\u001b[39;00m \u001b[38;5;28mself\u001b[39m\u001b[38;5;241m.\u001b[39m_construct_result(res_values, name\u001b[38;5;241m=\u001b[39mres_name)\n",
      "File \u001b[0;32m/opt/homebrew/Caskroom/miniconda/base/envs/ese-msc/lib/python3.10/site-packages/pandas/core/ops/array_ops.py:264\u001b[0m, in \u001b[0;36mcomparison_op\u001b[0;34m(left, right, op)\u001b[0m\n\u001b[1;32m    259\u001b[0m \u001b[38;5;28;01mif\u001b[39;00m \u001b[38;5;28misinstance\u001b[39m(rvalues, (np\u001b[38;5;241m.\u001b[39mndarray, ABCExtensionArray)):\n\u001b[1;32m    260\u001b[0m     \u001b[38;5;66;03m# TODO: make this treatment consistent across ops and classes.\u001b[39;00m\n\u001b[1;32m    261\u001b[0m     \u001b[38;5;66;03m#  We are not catching all listlikes here (e.g. frozenset, tuple)\u001b[39;00m\n\u001b[1;32m    262\u001b[0m     \u001b[38;5;66;03m#  The ambiguous case is object-dtype.  See GH#27803\u001b[39;00m\n\u001b[1;32m    263\u001b[0m     \u001b[38;5;28;01mif\u001b[39;00m \u001b[38;5;28mlen\u001b[39m(lvalues) \u001b[38;5;241m!=\u001b[39m \u001b[38;5;28mlen\u001b[39m(rvalues):\n\u001b[0;32m--> 264\u001b[0m         \u001b[38;5;28;01mraise\u001b[39;00m \u001b[38;5;167;01mValueError\u001b[39;00m(\n\u001b[1;32m    265\u001b[0m             \u001b[38;5;124m\"\u001b[39m\u001b[38;5;124mLengths must match to compare\u001b[39m\u001b[38;5;124m\"\u001b[39m, lvalues\u001b[38;5;241m.\u001b[39mshape, rvalues\u001b[38;5;241m.\u001b[39mshape\n\u001b[1;32m    266\u001b[0m         )\n\u001b[1;32m    268\u001b[0m \u001b[38;5;28;01mif\u001b[39;00m should_extension_dispatch(lvalues, rvalues) \u001b[38;5;129;01mor\u001b[39;00m (\n\u001b[1;32m    269\u001b[0m     (\u001b[38;5;28misinstance\u001b[39m(rvalues, (Timedelta, BaseOffset, Timestamp)) \u001b[38;5;129;01mor\u001b[39;00m right \u001b[38;5;129;01mis\u001b[39;00m NaT)\n\u001b[1;32m    270\u001b[0m     \u001b[38;5;129;01mand\u001b[39;00m \u001b[38;5;129;01mnot\u001b[39;00m is_object_dtype(lvalues\u001b[38;5;241m.\u001b[39mdtype)\n\u001b[1;32m    271\u001b[0m ):\n\u001b[1;32m    272\u001b[0m     \u001b[38;5;66;03m# Call the method on lvalues\u001b[39;00m\n\u001b[1;32m    273\u001b[0m     res_values \u001b[38;5;241m=\u001b[39m op(lvalues, rvalues)\n",
      "\u001b[0;31mValueError\u001b[0m: ('Lengths must match to compare', (1771908,), (1,))"
     ]
    }
   ],
   "source": [
    "p = Planet()\n",
    "fiducial_means = {'radius': 35, 'angle': 45, 'strength': 1e7,\n",
    "                  'density': 3000, 'velocity': 19e3,\n",
    "                  'lat': 53.0, 'lon': -2.5, 'bearing': 115.}\n",
    "fiducial_stdevs = {'radius': 1, 'angle': 1, 'strength': 5e6,\n",
    "                   'density': 500, 'velocity': 1e3,\n",
    "                   'lat': 0.025, 'lon': 0.025, 'bearing': 0.5}\n",
    "impact_risk(p, means=fiducial_means, stdevs=fiducial_stdevs, pressure=27.e3, nsamples=10, sector=True)"
   ]
  },
  {
   "cell_type": "code",
   "execution_count": null,
   "metadata": {},
   "outputs": [],
   "source": []
  }
 ],
 "metadata": {
  "kernelspec": {
   "display_name": "Python 3 (ipykernel)",
   "language": "python",
   "name": "python3"
  },
  "language_info": {
   "codemirror_mode": {
    "name": "ipython",
    "version": 3
   },
   "file_extension": ".py",
   "mimetype": "text/x-python",
   "name": "python",
   "nbconvert_exporter": "python",
   "pygments_lexer": "ipython3",
   "version": "3.10.4"
  },
  "toc": {
   "base_numbering": 1,
   "nav_menu": {},
   "number_sections": true,
   "sideBar": true,
   "skip_h1_title": false,
   "title_cell": "Table of Contents",
   "title_sidebar": "Contents",
   "toc_cell": true,
   "toc_position": {},
   "toc_section_display": true,
   "toc_window_display": false
  },
  "vscode": {
   "interpreter": {
    "hash": "e7cb1b9ae4d417fedf7f40a8eec98f7cfbd359e096bd857395a915f4609834ce"
   }
  }
 },
 "nbformat": 4,
 "nbformat_minor": 2
}
