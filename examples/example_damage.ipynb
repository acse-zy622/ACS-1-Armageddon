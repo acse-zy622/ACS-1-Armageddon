{
 "cells": [
  {
   "cell_type": "markdown",
   "metadata": {
    "toc": true
   },
   "source": [
    "<h1>Table of Contents<span class=\"tocSkip\"></span></h1>\n",
    "<div class=\"toc\"><ul class=\"toc-item\"><li><span><a href=\"#damage_zones(-)-to-calculate-parameters-of-damage-zones\" data-toc-modified-id=\"damage_zones(-)-to-calculate-parameters-of-damage-zones-1\"><span class=\"toc-item-num\">1&nbsp;&nbsp;</span>damage_zones( ) to calculate parameters of damage zones</a></span></li><li><span><a href=\"#impact_risk(-)-uncertainty-analysis\" data-toc-modified-id=\"impact_risk(-)-uncertainty-analysis-2\"><span class=\"toc-item-num\">2&nbsp;&nbsp;</span>impact_risk( ) uncertainty analysis</a></span></li></ul></div>"
   ]
  },
  {
   "cell_type": "code",
   "execution_count": 4,
   "metadata": {},
   "outputs": [],
   "source": [
    "from armageddon.damage import damage_zones, impact_risk"
   ]
  },
  {
   "cell_type": "markdown",
   "metadata": {},
   "source": [
    "To install the module and any pre-requisites, from the base directory run:\n",
    "```\n",
    "pip install -r requirements.txt\n",
    "pip install -e .\n",
    "```\n",
    "\n",
    "To download the postcode data required:\n",
    "\n",
    "```\n",
    "python download_data.py\n",
    "```"
   ]
  },
  {
   "cell_type": "markdown",
   "metadata": {},
   "source": [
    "### damage_zones( ) to calculate parameters of damage zones\n",
    "\n",
    "Calculate the latitude and longitude of the surface zero location and the\n",
    "list of airblast damage radii (m) for a given impact scenario.\n",
    "\n",
    "\n",
    "__Parameters__\n",
    "\n",
    "outcome: Dict\n",
    "\n",
    "    the outcome dictionary from an impact scenario\n",
    "        \n",
    "lat: float\n",
    "\n",
    "    latitude of the meteoroid entry point (degrees)\n",
    "\n",
    "lon: float\n",
    "\n",
    "    longitude of the meteoroid entry point (degrees)\n",
    "    \n",
    "bearing: float\n",
    "\n",
    "    Bearing (azimuth) relative to north of meteoroid trajectory (degrees)\n",
    "    \n",
    "pressures: float, arraylike\n",
    "\n",
    "    List of threshold pressures to define airblast damage levels\n",
    "    \n",
    "plot: bool\n",
    "\n",
    "    Boolean value to decide plotting\n",
    "\n",
    "__Return__\n",
    "\n",
    "blat: float\n",
    "\n",
    "    latitude of the surface zero point (degrees)\n",
    "        \n",
    "blon: float\n",
    "\n",
    "    longitude of the surface zero point (degrees)\n",
    "        \n",
    "damrad: arraylike, float\n",
    "\n",
    "    List of distances specifying the blast radii for the input damage levels\n",
    "        \n",
    "plot: plot object\n",
    "\n",
    "    The plot specifying the areas effected by each damage level\n",
    "\n",
    "\n",
    "__Examples__\n",
    "\n",
    "    >>> a = [[2, 0, -1], [0, 5, 6], [0, -1, 1]]\n",
    "    >>> d = det(a)\n",
    "    >>> d\n",
    "    22.0\n",
    "    \n",
    "    >>> import armageddon\n",
    "    >>> outcome = {'burst_altitude': 8e3, 'burst_energy': 7e3,\n",
    "                   'burst_distance': 90e3, 'burst_peak_dedz': 1e3,\n",
    "                   'outcome': 'Airburst'}\n",
    "    >>> armageddon.damage_zones(outcome, 52.79, -2.95, 135,\n",
    "                                pressures=[1e3, 3.5e3, 27e3, 43e3])\n",
    "    (51.98371949678459, -2.746093100475223, [51002.04019315775,\n",
    "     25706.014907978413, 7196.208816950395, 3803.4573273729134])\n"
   ]
  },
  {
   "cell_type": "code",
   "execution_count": 5,
   "metadata": {},
   "outputs": [
    {
     "data": {
      "text/plain": [
       "(51.98371949678459,\n",
       " -2.746093100475223,\n",
       " [51002.04019315775,\n",
       "  25706.014907978413,\n",
       "  7196.208816950395,\n",
       "  3803.4573273729134])"
      ]
     },
     "execution_count": 5,
     "metadata": {},
     "output_type": "execute_result"
    }
   ],
   "source": [
    "outcome = {'burst_altitude': 8e3, 'burst_energy': 7e3,\n",
    "                   'burst_distance': 90e3, 'burst_peak_dedz': 1e3,\n",
    "                   'outcome': 'Airburst'}\n",
    "damage_zones(outcome, 52.79, -2.95, 135, pressures=[1e3, 3.5e3, 27e3, 43e3])"
   ]
  },
  {
   "cell_type": "markdown",
   "metadata": {},
   "source": [
    "### impact_risk( ) uncertainty analysis\n",
    "\n",
    "Perform an uncertainty analysis to calculate the risk for each affected UK postcode or postcode sector\n",
    "\n",
    "\n",
    "__Parameters__\n",
    "\n",
    "planet: armageddon.Planet instance\n",
    "\n",
    "    The Planet instance from which to solve the atmospheric entry\n",
    "\n",
    "means: dict\n",
    "\n",
    "    A dictionary of mean input values for the uncertainty analysis. This should include values for ``radius``, ``angle``, ``strength``, ``density``, ``velocity``, ``lat``, ``lon`` and ``bearing``\n",
    "\n",
    "stdevs: dict\n",
    "\n",
    "    A dictionary of standard deviations for each input value. This should include values for ``radius``, ``angle``, ``strength``, ``density``, ``velocity``, ``lat``, ``lon`` and ``bearing``\n",
    "\n",
    "pressure: float\n",
    "\n",
    "    A single pressure at which to calculate the damage zone for each impact\n",
    "\n",
    "nsamples: int\n",
    "\n",
    "    The number of iterations to perform in the uncertainty analysis\n",
    "\n",
    "sector: logical, optional\n",
    "\n",
    "    If True (default) calculate the risk for postcode sectors, otherwise calculate the risk for postcodes\n",
    "\n",
    "__Return__\n",
    "\n",
    "risk: DataFrame\n",
    "\n",
    "    A pandas DataFrame with columns for postcode (or postcode sector) and the associated risk. These should be called ``postcode`` or ``sector``, and ``risk``.\n"
   ]
  },
  {
   "cell_type": "code",
   "execution_count": null,
   "metadata": {},
   "outputs": [],
   "source": []
  }
 ],
 "metadata": {
  "kernelspec": {
   "display_name": "Python 3 (ipykernel)",
   "language": "python",
   "name": "python3"
  },
  "language_info": {
   "codemirror_mode": {
    "name": "ipython",
    "version": 3
   },
   "file_extension": ".py",
   "mimetype": "text/x-python",
   "name": "python",
   "nbconvert_exporter": "python",
   "pygments_lexer": "ipython3",
   "version": "3.10.4"
  },
  "toc": {
   "base_numbering": 1,
   "nav_menu": {},
   "number_sections": true,
   "sideBar": true,
   "skip_h1_title": false,
   "title_cell": "Table of Contents",
   "title_sidebar": "Contents",
   "toc_cell": true,
   "toc_position": {},
   "toc_section_display": true,
   "toc_window_display": false
  },
  "vscode": {
   "interpreter": {
    "hash": "e7cb1b9ae4d417fedf7f40a8eec98f7cfbd359e096bd857395a915f4609834ce"
   }
  }
 },
 "nbformat": 4,
 "nbformat_minor": 2
}
