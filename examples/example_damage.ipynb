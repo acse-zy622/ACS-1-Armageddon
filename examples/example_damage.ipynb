{
 "cells": [
  {
   "cell_type": "markdown",
   "metadata": {
    "toc": true
   },
   "source": [
    "<h1>Table of Contents<span class=\"tocSkip\"></span></h1>\n",
    "<div class=\"toc\"><ul class=\"toc-item\"><li><span><a href=\"#damage_zones(-)-to-calculate-parameters-of-damage-zones\" data-toc-modified-id=\"damage_zones(-)-to-calculate-parameters-of-damage-zones-1\"><span class=\"toc-item-num\">1&nbsp;&nbsp;</span>damage_zones( ) to calculate parameters of damage zones</a></span></li><li><span><a href=\"#impact_risk(-)-uncertainty-analysis\" data-toc-modified-id=\"impact_risk(-)-uncertainty-analysis-2\"><span class=\"toc-item-num\">2&nbsp;&nbsp;</span>impact_risk( ) uncertainty analysis</a></span></li></ul></div>"
   ]
  },
  {
   "cell_type": "markdown",
   "metadata": {},
   "source": [
    "To install the module and any pre-requisites, from the base directory run:\n",
    "```\n",
    "pip install -r requirements.txt\n",
    "pip install -e .\n",
    "```\n",
    "\n",
    "To download the postcode data required:\n",
    "\n",
    "```\n",
    "python download_data.py\n",
    "```"
   ]
  },
  {
   "cell_type": "code",
   "execution_count": 19,
   "metadata": {},
   "outputs": [],
   "source": [
    "from armageddon.damage import damage_zones, impact_risk\n",
    "from armageddon.solver import Planet\n",
    "import armageddon\n",
    "import folium"
   ]
  },
  {
   "cell_type": "markdown",
   "metadata": {},
   "source": [
    "### damage_zones( ) to calculate parameters of damage zones\n",
    "\n",
    "Calculate the latitude and longitude of the surface zero location and the\n",
    "list of airblast damage radii (m) for a given impact scenario.\n",
    "\n",
    "\n",
    "__Parameters__\n",
    "\n",
    "outcome: Dict\n",
    "\n",
    "    the outcome dictionary from an impact scenario\n",
    "        \n",
    "lat: float\n",
    "\n",
    "    latitude of the meteoroid entry point (degrees)\n",
    "\n",
    "lon: float\n",
    "\n",
    "    longitude of the meteoroid entry point (degrees)\n",
    "    \n",
    "bearing: float\n",
    "\n",
    "    Bearing (azimuth) relative to north of meteoroid trajectory (degrees)\n",
    "    \n",
    "pressures: float, arraylike\n",
    "\n",
    "    List of threshold pressures to define airblast damage levels\n",
    "    \n",
    "plot: bool\n",
    "\n",
    "    Boolean value to decide plotting\n",
    "\n",
    "__Return__\n",
    "\n",
    "blat: float\n",
    "\n",
    "    latitude of the surface zero point (degrees)\n",
    "        \n",
    "blon: float\n",
    "\n",
    "    longitude of the surface zero point (degrees)\n",
    "        \n",
    "damrad: arraylike, float\n",
    "\n",
    "    List of distances specifying the blast radii for the input damage levels\n",
    "        \n",
    "plot: plot object\n",
    "\n",
    "    The plot specifying the areas effected by each damage level\n",
    "\n",
    "\n",
    "__Examples__\n",
    "    \n",
    "    >>> import armageddon\n",
    "    >>> outcome = {'burst_altitude': 8e3, 'burst_energy': 7e3,\n",
    "                   'burst_distance': 90e3, 'burst_peak_dedz': 1e3,\n",
    "                   'outcome': 'Airburst'}\n",
    "    >>> armageddon.damage_zones(outcome, 52.79, -2.95, 135,\n",
    "                                pressures=[1e3, 3.5e3, 27e3, 43e3])\\\n"
   ]
  },
  {
   "cell_type": "code",
   "execution_count": 41,
   "metadata": {},
   "outputs": [
    {
     "data": {
      "text/plain": [
       "(51.98371949678459,\n",
       " -2.746093100475223,\n",
       " [51002.04019315775,\n",
       "  25706.014907978413,\n",
       "  7196.208816950395,\n",
       "  3803.4573273729134])"
      ]
     },
     "execution_count": 41,
     "metadata": {},
     "output_type": "execute_result"
    }
   ],
   "source": [
    "outcome = {'burst_altitude': 8e3, 'burst_energy': 7e3,\n",
    "           'burst_distance': 90e3, 'burst_peak_dedz': 1e3,\n",
    "           'outcome': 'Airburst'}\n",
    "arr = damage_zones(outcome, 52.79, -2.95, 135, \n",
    "                   pressures=[1e3, 3.5e3, 27e3, 43e3],\n",
    "                   map = True)\n",
    "arr"
   ]
  },
  {
   "cell_type": "markdown",
   "metadata": {},
   "source": [
    "_Explaination:_\n",
    "\n",
    "damage_zones( ) returned a list of parameters with :\n",
    "\n",
    "    surface zero latitude in degree:  51.98371949678459\n",
    "\n",
    "    surface zero longitude in degree:  -2.746093100475223\n",
    "\n",
    "    blast radii with the pressure level of 1e3:  51002.04019315775\n",
    "\n",
    "    blast radii with the pressure level of 3.5e3:  25706.014907978413\n",
    "\n",
    "    blast radii with the pressure level of 27e3:  7196.208816950395\n",
    "\n",
    "    blast radii with the pressure level of 43e3:  3803.4573273729134\n"
   ]
  },
  {
   "cell_type": "code",
   "execution_count": 35,
   "metadata": {},
   "outputs": [],
   "source": [
    "a = armageddon.plot_circle(arr[0], arr[1], arr[2][0])\n",
    "for i in range(1, len(arr[2])):\n",
    "    armageddon.plot_circle(arr[0], arr[1], arr[2][i], map = a)"
   ]
  },
  {
   "cell_type": "code",
   "execution_count": 34,
   "metadata": {
    "scrolled": true
   },
   "outputs": [
    {
     "data": {
      "text/html": [
       "<div style=\"width:100%;\"><div style=\"position:relative;width:100%;height:0;padding-bottom:60%;\"><span style=\"color:#565656\">Make this Notebook Trusted to load map: File -> Trust Notebook</span><iframe srcdoc=\"&lt;!DOCTYPE html&gt;\n",
       "&lt;html&gt;\n",
       "&lt;head&gt;\n",
       "    \n",
       "    &lt;meta http-equiv=&quot;content-type&quot; content=&quot;text/html; charset=UTF-8&quot; /&gt;\n",
       "    \n",
       "        &lt;script&gt;\n",
       "            L_NO_TOUCH = false;\n",
       "            L_DISABLE_3D = false;\n",
       "        &lt;/script&gt;\n",
       "    \n",
       "    &lt;style&gt;html, body {width: 100%;height: 100%;margin: 0;padding: 0;}&lt;/style&gt;\n",
       "    &lt;style&gt;#map {position:absolute;top:0;bottom:0;right:0;left:0;}&lt;/style&gt;\n",
       "    &lt;script src=&quot;https://cdn.jsdelivr.net/npm/leaflet@1.6.0/dist/leaflet.js&quot;&gt;&lt;/script&gt;\n",
       "    &lt;script src=&quot;https://code.jquery.com/jquery-1.12.4.min.js&quot;&gt;&lt;/script&gt;\n",
       "    &lt;script src=&quot;https://maxcdn.bootstrapcdn.com/bootstrap/3.2.0/js/bootstrap.min.js&quot;&gt;&lt;/script&gt;\n",
       "    &lt;script src=&quot;https://cdnjs.cloudflare.com/ajax/libs/Leaflet.awesome-markers/2.0.2/leaflet.awesome-markers.js&quot;&gt;&lt;/script&gt;\n",
       "    &lt;link rel=&quot;stylesheet&quot; href=&quot;https://cdn.jsdelivr.net/npm/leaflet@1.6.0/dist/leaflet.css&quot;/&gt;\n",
       "    &lt;link rel=&quot;stylesheet&quot; href=&quot;https://maxcdn.bootstrapcdn.com/bootstrap/3.2.0/css/bootstrap.min.css&quot;/&gt;\n",
       "    &lt;link rel=&quot;stylesheet&quot; href=&quot;https://maxcdn.bootstrapcdn.com/bootstrap/3.2.0/css/bootstrap-theme.min.css&quot;/&gt;\n",
       "    &lt;link rel=&quot;stylesheet&quot; href=&quot;https://maxcdn.bootstrapcdn.com/font-awesome/4.6.3/css/font-awesome.min.css&quot;/&gt;\n",
       "    &lt;link rel=&quot;stylesheet&quot; href=&quot;https://cdnjs.cloudflare.com/ajax/libs/Leaflet.awesome-markers/2.0.2/leaflet.awesome-markers.css&quot;/&gt;\n",
       "    &lt;link rel=&quot;stylesheet&quot; href=&quot;https://cdn.jsdelivr.net/gh/python-visualization/folium/folium/templates/leaflet.awesome.rotate.min.css&quot;/&gt;\n",
       "    \n",
       "            &lt;meta name=&quot;viewport&quot; content=&quot;width=device-width,\n",
       "                initial-scale=1.0, maximum-scale=1.0, user-scalable=no&quot; /&gt;\n",
       "            &lt;style&gt;\n",
       "                #map_1db5e305fe7dc48c51c3e1ee619d993c {\n",
       "                    position: relative;\n",
       "                    width: 100.0%;\n",
       "                    height: 100.0%;\n",
       "                    left: 0.0%;\n",
       "                    top: 0.0%;\n",
       "                }\n",
       "            &lt;/style&gt;\n",
       "        \n",
       "&lt;/head&gt;\n",
       "&lt;body&gt;\n",
       "    \n",
       "    \n",
       "            &lt;div class=&quot;folium-map&quot; id=&quot;map_1db5e305fe7dc48c51c3e1ee619d993c&quot; &gt;&lt;/div&gt;\n",
       "        \n",
       "&lt;/body&gt;\n",
       "&lt;script&gt;\n",
       "    \n",
       "    \n",
       "            var map_1db5e305fe7dc48c51c3e1ee619d993c = L.map(\n",
       "                &quot;map_1db5e305fe7dc48c51c3e1ee619d993c&quot;,\n",
       "                {\n",
       "                    center: [51.98371949678459, -2.746093100475223],\n",
       "                    crs: L.CRS.EPSG3857,\n",
       "                    zoom: 10,\n",
       "                    zoomControl: true,\n",
       "                    preferCanvas: false,\n",
       "                }\n",
       "            );\n",
       "            L.control.scale().addTo(map_1db5e305fe7dc48c51c3e1ee619d993c);\n",
       "\n",
       "            \n",
       "\n",
       "        \n",
       "    \n",
       "            var tile_layer_adbf490e13679084246b1aed2374d3a0 = L.tileLayer(\n",
       "                &quot;https://{s}.tile.openstreetmap.org/{z}/{x}/{y}.png&quot;,\n",
       "                {&quot;attribution&quot;: &quot;Data by \\u0026copy; \\u003ca href=\\&quot;http://openstreetmap.org\\&quot;\\u003eOpenStreetMap\\u003c/a\\u003e, under \\u003ca href=\\&quot;http://www.openstreetmap.org/copyright\\&quot;\\u003eODbL\\u003c/a\\u003e.&quot;, &quot;detectRetina&quot;: false, &quot;maxNativeZoom&quot;: 18, &quot;maxZoom&quot;: 18, &quot;minZoom&quot;: 0, &quot;noWrap&quot;: false, &quot;opacity&quot;: 1, &quot;subdomains&quot;: &quot;abc&quot;, &quot;tms&quot;: false}\n",
       "            ).addTo(map_1db5e305fe7dc48c51c3e1ee619d993c);\n",
       "        \n",
       "    \n",
       "            var circle_f3259cdcd04cf26ce33797ece00ea666 = L.circle(\n",
       "                [51.98371949678459, -2.746093100475223],\n",
       "                {&quot;bubblingMouseEvents&quot;: true, &quot;color&quot;: &quot;#3388ff&quot;, &quot;dashArray&quot;: null, &quot;dashOffset&quot;: null, &quot;fill&quot;: true, &quot;fillColor&quot;: &quot;#3388ff&quot;, &quot;fillOpacity&quot;: 0.2, &quot;fillRule&quot;: &quot;evenodd&quot;, &quot;lineCap&quot;: &quot;round&quot;, &quot;lineJoin&quot;: &quot;round&quot;, &quot;opacity&quot;: 1.0, &quot;radius&quot;: 51002.04019315775, &quot;stroke&quot;: true, &quot;weight&quot;: 3}\n",
       "            ).addTo(map_1db5e305fe7dc48c51c3e1ee619d993c);\n",
       "        \n",
       "    \n",
       "            var circle_e4906aed81a74196c2fa6fe011270e47 = L.circle(\n",
       "                [51.98371949678459, -2.746093100475223],\n",
       "                {&quot;bubblingMouseEvents&quot;: true, &quot;color&quot;: &quot;#3388ff&quot;, &quot;dashArray&quot;: null, &quot;dashOffset&quot;: null, &quot;fill&quot;: true, &quot;fillColor&quot;: &quot;#3388ff&quot;, &quot;fillOpacity&quot;: 0.2, &quot;fillRule&quot;: &quot;evenodd&quot;, &quot;lineCap&quot;: &quot;round&quot;, &quot;lineJoin&quot;: &quot;round&quot;, &quot;opacity&quot;: 1.0, &quot;radius&quot;: 25706.014907978413, &quot;stroke&quot;: true, &quot;weight&quot;: 3}\n",
       "            ).addTo(map_1db5e305fe7dc48c51c3e1ee619d993c);\n",
       "        \n",
       "    \n",
       "            var circle_f94b8e413280c17268f65c7cf418d3d0 = L.circle(\n",
       "                [51.98371949678459, -2.746093100475223],\n",
       "                {&quot;bubblingMouseEvents&quot;: true, &quot;color&quot;: &quot;#3388ff&quot;, &quot;dashArray&quot;: null, &quot;dashOffset&quot;: null, &quot;fill&quot;: true, &quot;fillColor&quot;: &quot;#3388ff&quot;, &quot;fillOpacity&quot;: 0.2, &quot;fillRule&quot;: &quot;evenodd&quot;, &quot;lineCap&quot;: &quot;round&quot;, &quot;lineJoin&quot;: &quot;round&quot;, &quot;opacity&quot;: 1.0, &quot;radius&quot;: 7196.208816950395, &quot;stroke&quot;: true, &quot;weight&quot;: 3}\n",
       "            ).addTo(map_1db5e305fe7dc48c51c3e1ee619d993c);\n",
       "        \n",
       "    \n",
       "            var circle_14d88043df4cf2c70c3b00af1d0585b1 = L.circle(\n",
       "                [51.98371949678459, -2.746093100475223],\n",
       "                {&quot;bubblingMouseEvents&quot;: true, &quot;color&quot;: &quot;#3388ff&quot;, &quot;dashArray&quot;: null, &quot;dashOffset&quot;: null, &quot;fill&quot;: true, &quot;fillColor&quot;: &quot;#3388ff&quot;, &quot;fillOpacity&quot;: 0.2, &quot;fillRule&quot;: &quot;evenodd&quot;, &quot;lineCap&quot;: &quot;round&quot;, &quot;lineJoin&quot;: &quot;round&quot;, &quot;opacity&quot;: 1.0, &quot;radius&quot;: 3803.4573273729134, &quot;stroke&quot;: true, &quot;weight&quot;: 3}\n",
       "            ).addTo(map_1db5e305fe7dc48c51c3e1ee619d993c);\n",
       "        \n",
       "&lt;/script&gt;\n",
       "&lt;/html&gt;\" style=\"position:absolute;width:100%;height:100%;left:0;top:0;border:none !important;\" allowfullscreen webkitallowfullscreen mozallowfullscreen></iframe></div></div>"
      ],
      "text/plain": [
       "<folium.folium.Map at 0x2aa054670>"
      ]
     },
     "execution_count": 34,
     "metadata": {},
     "output_type": "execute_result"
    }
   ],
   "source": [
    "a = armageddon.plot_circle(arr[0], arr[1], arr[2][0])\n",
    "armageddon.plot_circle(arr[0], arr[1], arr[2][1], map = a)\n",
    "armageddon.plot_circle(arr[0], arr[1], arr[2][2], map = a)\n",
    "armageddon.plot_circle(arr[0], arr[1], arr[2][3], map = a)"
   ]
  },
  {
   "cell_type": "markdown",
   "metadata": {},
   "source": [
    "_Explaination:_\n",
    "    \n",
    "    The damage zones are marked on the plot above. As the plot and calculations shows, as the radius(horizontal range) goes up, the pressure in this wave decreases. This is also proved by the equation:\n",
    "    \n",
    "\\begin{equation*}\n",
    "p(r) = 3.14 \\times 10^{11} \\left(\\frac{r^2 + z_b^2}{E_k^{2/3}}\\right)^{-1.3} + 1.8 \\times 10^{7} \\left(\\frac{r^2 + z_b^2}{E_k^{2/3}}\\right)^{-0.565}\n",
    "\\end{equation*}"
   ]
  },
  {
   "cell_type": "markdown",
   "metadata": {},
   "source": [
    "### impact_risk( ) uncertainty analysis\n",
    "\n",
    "Perform an uncertainty analysis to calculate the risk for each affected UK postcode or postcode sector\n",
    "\n",
    "\n",
    "__Parameters__\n",
    "\n",
    "planet: armageddon.Planet instance\n",
    "\n",
    "    The Planet instance from which to solve the atmospheric entry\n",
    "\n",
    "means: dict\n",
    "\n",
    "    A dictionary of mean input values for the uncertainty analysis. This should include values for ``radius``, ``angle``, ``strength``, ``density``, ``velocity``, ``lat``, ``lon`` and ``bearing``\n",
    "\n",
    "stdevs: dict\n",
    "\n",
    "    A dictionary of standard deviations for each input value. This should include values for ``radius``, ``angle``, ``strength``, ``density``, ``velocity``, ``lat``, ``lon`` and ``bearing``\n",
    "\n",
    "pressure: float\n",
    "\n",
    "    A single pressure at which to calculate the damage zone for each impact\n",
    "\n",
    "nsamples: int\n",
    "\n",
    "    The number of iterations to perform in the uncertainty analysis\n",
    "\n",
    "sector: logical, optional\n",
    "\n",
    "    If True (default) calculate the risk for postcode sectors, otherwise calculate the risk for postcodes\n",
    "\n",
    "__Return__\n",
    "\n",
    "risk: DataFrame\n",
    "\n",
    "    A pandas DataFrame with columns for postcode (or postcode sector) and the associated risk. These should be called ``postcode`` or ``sector``, and ``risk``.\n"
   ]
  },
  {
   "cell_type": "code",
   "execution_count": 9,
   "metadata": {},
   "outputs": [
    {
     "name": "stdout",
     "output_type": "stream",
     "text": [
      "[['DE6 2' 'DE6 1' 'ST10 3' 'B79 0' 'LE65 1' 'CV13 0' 'LE67 2' 'DE12 7'\n",
      "  'LE65 2' 'DE6 3' 'CV13 6' 'ST10 4' 'ST14 5' 'DE12 6' 'LE67 6' 'DE6 5'\n",
      "  'SK17 0' 'CV9 3' 'DE12 8' 'DE6 9' 'SK13 5' 'SK14 6' 'SK2 5' 'SK4 5'\n",
      "  'SK8 2' 'SK8 5' 'SK7 0' 'SK5 8' 'SK4 2' 'SK13 6' 'SK11 0' 'SK22 1'\n",
      "  'SK6 1' 'SK22 4' 'SK10 3' 'SK7 1' 'SK10 2' 'SK11 8' 'SK14 3' 'SK6 4'\n",
      "  'SK3 8' 'SK9 2' 'SK6 0' 'ST14 8' 'SK11 6' 'SK7 6' 'SK4 3' 'SK3 0'\n",
      "  'SK9 4' 'SK9 6' 'SK6 5' 'SK23 9' 'SK4 1' 'SK8 1' 'SK10 5' 'SK8 6'\n",
      "  'SK11 9' 'SK3 9' 'B77 2' 'SK2 7' 'B77 3' 'SK1 3' 'ST14 9' 'SK12 1'\n",
      "  'SK3 3' 'SK6 2' 'SK6 9' 'SK2 9' 'SK8 7' 'SK10 9' 'SK5 7' 'SK1 2'\n",
      "  'DE65 5' 'SK6 3' 'SK14 5' 'SK5 9' 'B79 9' 'SK22 2' 'SK1 4' 'B78 1'\n",
      "  'SK6 7' 'SK7 4' 'SK9 0' 'LE67 1' 'SK14 1' 'B78 2' 'B77 5' 'CV9 1'\n",
      "  'SK9 3' 'SK23 0' 'SK9 7' 'CV9 9' 'B77 4' 'SK9 1' 'SK13 8' 'SK1 9'\n",
      "  'SK7 5' 'CV9 2' 'SK10 1' 'SK2 6' 'SK22 3' 'ST13 7' 'ST14 7' 'SK12 2'\n",
      "  'M34 7' 'SK23 7' 'SK1 1' 'SK22 9' 'SK6 8' 'SK7 3' 'SK9 5' 'SK23 6'\n",
      "  'SK6 6' 'SK17 6' 'SK17 9' 'SK10 4' 'SK5 6' 'SK7 9' 'SK7 2' 'SK4 9'\n",
      "  'SK13 7' 'SK8 3' 'SK11 7' 'M12 5' 'SK14 2' 'M11 3' 'M43 0' 'M33 2'\n",
      "  'M34 2' 'M22 2' 'M43 7' 'SK16 5' 'M22 8' 'WA15 7' 'M90 1' 'M14 7'\n",
      "  'M40 2' 'M23 9' 'SK16 4' 'WA16 7' 'M40 1' 'SK4 4' 'OL7 0' 'M18 7'\n",
      "  'WA15 8' 'M14 4' 'M20 4' 'M1 2' 'M16 7' 'SK14 8' 'M20 6' 'M21 8'\n",
      "  'WA15 0' 'SK13 1' 'M23 0' 'M22 4' 'M34 5' 'M12 4' 'SK8 9' 'M11 0'\n",
      "  'SK15 2' 'M18 8' 'M14 5' 'M19 2' 'M20 3' 'M23 1' 'M16 0' 'M16 9' 'M1 7'\n",
      "  'M14 6' 'SK13 9' 'M22 9' 'M19 0' 'SK15 3' 'OL6 7' 'M43 6' 'M13 0'\n",
      "  'M90 2' 'SK13 2' 'SK14 4' 'M21 3' 'OL7 9' 'SK15 9' 'M12 6' 'OL6 6'\n",
      "  'M4 7' 'M13 9' 'M90 3' 'M11 1' 'M15 5' 'SK13 0' 'M19 3' 'M11 2' 'M21 7'\n",
      "  'M21 9' 'ST10 1' 'M35 9' 'CV21 1' 'LE67 3' 'LE65 9' 'LE9 9' 'LE9 8'\n",
      "  'B77 1' 'B79 8' 'CV2 3' 'CV10 0' 'CV23 9' 'B77 9' 'B79 7' 'CV10 9'\n",
      "  'LE10 3' 'LE17 5' 'CV6 6' 'CV11 6' 'LE67 8' 'SK17 1' 'M34 6' 'DE6 4'\n",
      "  'DE13 9' 'DE65 6' 'LE67 0' 'DE13 8' 'B78 3' 'DE56 2' 'SK17 7' 'DE65 9'\n",
      "  'OL6 8' 'ST10 2' 'DE4 4' 'DE4 2' 'S33 7' 'CV8 3' 'CV12 9' 'M22 0'\n",
      "  'LE10 2' 'OL6 0' 'OL6 9' 'M19 1' 'M21 0' 'SK14 9' 'M34 0' 'M35 0'\n",
      "  'M14 0' 'M34 3' 'M90 5' 'M11 4' 'M23 2' 'M12 0' 'M22 5' 'M20 2' 'M20 5'\n",
      "  'SK15 1' 'M90 4' 'CV2 5' 'CV11 4' 'DE45 1' 'LE17 4' 'CV23 0' 'CV3 2'\n",
      "  'CV2 1' 'CV7 9' 'M16 8' 'CV2 2' 'LE67 4' 'M20 1' 'SK8 4' 'M15 6'\n",
      "  'M22 1' 'SK17 8']]\n"
     ]
    },
    {
     "ename": "IndexError",
     "evalue": "index 0 is out of bounds for axis 0 with size 0",
     "output_type": "error",
     "traceback": [
      "\u001b[0;31m---------------------------------------------------------------------------\u001b[0m",
      "\u001b[0;31mIndexError\u001b[0m                                Traceback (most recent call last)",
      "Cell \u001b[0;32mIn [9], line 8\u001b[0m\n\u001b[1;32m      2\u001b[0m fiducial_means \u001b[38;5;241m=\u001b[39m {\u001b[38;5;124m'\u001b[39m\u001b[38;5;124mradius\u001b[39m\u001b[38;5;124m'\u001b[39m: \u001b[38;5;241m35\u001b[39m, \u001b[38;5;124m'\u001b[39m\u001b[38;5;124mangle\u001b[39m\u001b[38;5;124m'\u001b[39m: \u001b[38;5;241m45\u001b[39m, \u001b[38;5;124m'\u001b[39m\u001b[38;5;124mstrength\u001b[39m\u001b[38;5;124m'\u001b[39m: \u001b[38;5;241m1e7\u001b[39m,\n\u001b[1;32m      3\u001b[0m                   \u001b[38;5;124m'\u001b[39m\u001b[38;5;124mdensity\u001b[39m\u001b[38;5;124m'\u001b[39m: \u001b[38;5;241m3000\u001b[39m, \u001b[38;5;124m'\u001b[39m\u001b[38;5;124mvelocity\u001b[39m\u001b[38;5;124m'\u001b[39m: \u001b[38;5;241m19e3\u001b[39m,\n\u001b[1;32m      4\u001b[0m                   \u001b[38;5;124m'\u001b[39m\u001b[38;5;124mlat\u001b[39m\u001b[38;5;124m'\u001b[39m: \u001b[38;5;241m53.0\u001b[39m, \u001b[38;5;124m'\u001b[39m\u001b[38;5;124mlon\u001b[39m\u001b[38;5;124m'\u001b[39m: \u001b[38;5;241m-\u001b[39m\u001b[38;5;241m2.5\u001b[39m, \u001b[38;5;124m'\u001b[39m\u001b[38;5;124mbearing\u001b[39m\u001b[38;5;124m'\u001b[39m: \u001b[38;5;241m115.\u001b[39m}\n\u001b[1;32m      5\u001b[0m fiducial_stdevs \u001b[38;5;241m=\u001b[39m {\u001b[38;5;124m'\u001b[39m\u001b[38;5;124mradius\u001b[39m\u001b[38;5;124m'\u001b[39m: \u001b[38;5;241m1\u001b[39m, \u001b[38;5;124m'\u001b[39m\u001b[38;5;124mangle\u001b[39m\u001b[38;5;124m'\u001b[39m: \u001b[38;5;241m1\u001b[39m, \u001b[38;5;124m'\u001b[39m\u001b[38;5;124mstrength\u001b[39m\u001b[38;5;124m'\u001b[39m: \u001b[38;5;241m5e6\u001b[39m,\n\u001b[1;32m      6\u001b[0m                    \u001b[38;5;124m'\u001b[39m\u001b[38;5;124mdensity\u001b[39m\u001b[38;5;124m'\u001b[39m: \u001b[38;5;241m500\u001b[39m, \u001b[38;5;124m'\u001b[39m\u001b[38;5;124mvelocity\u001b[39m\u001b[38;5;124m'\u001b[39m: \u001b[38;5;241m1e3\u001b[39m,\n\u001b[1;32m      7\u001b[0m                    \u001b[38;5;124m'\u001b[39m\u001b[38;5;124mlat\u001b[39m\u001b[38;5;124m'\u001b[39m: \u001b[38;5;241m0.025\u001b[39m, \u001b[38;5;124m'\u001b[39m\u001b[38;5;124mlon\u001b[39m\u001b[38;5;124m'\u001b[39m: \u001b[38;5;241m0.025\u001b[39m, \u001b[38;5;124m'\u001b[39m\u001b[38;5;124mbearing\u001b[39m\u001b[38;5;124m'\u001b[39m: \u001b[38;5;241m0.5\u001b[39m}\n\u001b[0;32m----> 8\u001b[0m \u001b[43mimpact_risk\u001b[49m\u001b[43m(\u001b[49m\u001b[43mp\u001b[49m\u001b[43m,\u001b[49m\u001b[43m \u001b[49m\u001b[43mmeans\u001b[49m\u001b[38;5;241;43m=\u001b[39;49m\u001b[43mfiducial_means\u001b[49m\u001b[43m,\u001b[49m\u001b[43m \u001b[49m\u001b[43mstdevs\u001b[49m\u001b[38;5;241;43m=\u001b[39;49m\u001b[43mfiducial_stdevs\u001b[49m\u001b[43m,\u001b[49m\u001b[43m \u001b[49m\u001b[43mpressure\u001b[49m\u001b[38;5;241;43m=\u001b[39;49m\u001b[38;5;241;43m27.e3\u001b[39;49m\u001b[43m,\u001b[49m\u001b[43m \u001b[49m\u001b[43mnsamples\u001b[49m\u001b[38;5;241;43m=\u001b[39;49m\u001b[38;5;241;43m10\u001b[39;49m\u001b[43m,\u001b[49m\u001b[43m \u001b[49m\u001b[43msector\u001b[49m\u001b[38;5;241;43m=\u001b[39;49m\u001b[38;5;28;43;01mTrue\u001b[39;49;00m\u001b[43m)\u001b[49m\n",
      "File \u001b[0;32m~/acs-armageddon-Dimorphos/armageddon/damage.py:151\u001b[0m, in \u001b[0;36mimpact_risk\u001b[0;34m(planet, means, stdevs, pressure, nsamples, sector)\u001b[0m\n\u001b[1;32m    149\u001b[0m postcode_sq \u001b[38;5;241m=\u001b[39m postcode_sq\u001b[38;5;241m.\u001b[39mvalue_counts()\u001b[38;5;241m.\u001b[39msort_values(ascending\u001b[38;5;241m=\u001b[39m\u001b[38;5;28;01mFalse\u001b[39;00m)\n\u001b[1;32m    150\u001b[0m prob \u001b[38;5;241m=\u001b[39m postcode_sq\u001b[38;5;241m.\u001b[39mvalues \u001b[38;5;241m/\u001b[39m nsamples\n\u001b[0;32m--> 151\u001b[0m popu \u001b[38;5;241m=\u001b[39m \u001b[43mlocator\u001b[49m\u001b[38;5;241;43m.\u001b[39;49m\u001b[43mget_population_of_postcode\u001b[49m\u001b[43m(\u001b[49m\u001b[43m[\u001b[49m\u001b[43mpostcode_sq\u001b[49m\u001b[38;5;241;43m.\u001b[39;49m\u001b[43mindex\u001b[49m\u001b[43m]\u001b[49m\u001b[43m,\u001b[49m\u001b[43m \u001b[49m\u001b[43msector\u001b[49m\u001b[43m)\u001b[49m[\u001b[38;5;241m0\u001b[39m]\n\u001b[1;32m    152\u001b[0m risk \u001b[38;5;241m=\u001b[39m popu \u001b[38;5;241m*\u001b[39m prob\n\u001b[1;32m    153\u001b[0m col \u001b[38;5;241m=\u001b[39m \u001b[38;5;124m'\u001b[39m\u001b[38;5;124mpostcode sector\u001b[39m\u001b[38;5;124m'\u001b[39m \u001b[38;5;28;01mif\u001b[39;00m sector \u001b[38;5;129;01mis\u001b[39;00m \u001b[38;5;28;01mTrue\u001b[39;00m \u001b[38;5;28;01melse\u001b[39;00m \u001b[38;5;124m'\u001b[39m\u001b[38;5;124mpostcode\u001b[39m\u001b[38;5;124m'\u001b[39m\n",
      "File \u001b[0;32m~/acs-armageddon-Dimorphos/armageddon/locator.py:205\u001b[0m, in \u001b[0;36mget_population_of_postcode\u001b[0;34m(self, postcodes, sector)\u001b[0m\n\u001b[1;32m    203\u001b[0m \u001b[38;5;28;01melse\u001b[39;00m:\n\u001b[1;32m    204\u001b[0m     \u001b[38;5;28;01mif\u001b[39;00m (sector \u001b[38;5;129;01mis\u001b[39;00m \u001b[38;5;28;01mTrue\u001b[39;00m):\n\u001b[0;32m--> 205\u001b[0m         nested_pc\u001b[38;5;241m.\u001b[39mappend(target[col]\u001b[38;5;241m.\u001b[39mvalues[\u001b[38;5;241m0\u001b[39m])\n\u001b[1;32m    206\u001b[0m     \u001b[38;5;28;01melse\u001b[39;00m:\n\u001b[1;32m    207\u001b[0m         outcode \u001b[38;5;241m=\u001b[39m outcode\u001b[38;5;241m.\u001b[39mstrip()\n",
      "\u001b[0;31mIndexError\u001b[0m: index 0 is out of bounds for axis 0 with size 0"
     ]
    }
   ],
   "source": [
    "p = Planet()\n",
    "fiducial_means = {'radius': 35, 'angle': 45, 'strength': 1e7,\n",
    "                  'density': 3000, 'velocity': 19e3,\n",
    "                  'lat': 53.0, 'lon': -2.5, 'bearing': 115.}\n",
    "fiducial_stdevs = {'radius': 1, 'angle': 1, 'strength': 5e6,\n",
    "                   'density': 500, 'velocity': 1e3,\n",
    "                   'lat': 0.025, 'lon': 0.025, 'bearing': 0.5}\n",
    "impact_risk(p, means=fiducial_means, stdevs=fiducial_stdevs, pressure=27.e3, nsamples=10, sector=True)"
   ]
  },
  {
   "cell_type": "code",
   "execution_count": null,
   "metadata": {},
   "outputs": [],
   "source": []
  }
 ],
 "metadata": {
  "kernelspec": {
   "display_name": "Python 3 (ipykernel)",
   "language": "python",
   "name": "python3"
  },
  "language_info": {
   "codemirror_mode": {
    "name": "ipython",
    "version": 3
   },
   "file_extension": ".py",
   "mimetype": "text/x-python",
   "name": "python",
   "nbconvert_exporter": "python",
   "pygments_lexer": "ipython3",
   "version": "3.10.4"
  },
  "toc": {
   "base_numbering": 1,
   "nav_menu": {},
   "number_sections": true,
   "sideBar": true,
   "skip_h1_title": false,
   "title_cell": "Table of Contents",
   "title_sidebar": "Contents",
   "toc_cell": true,
   "toc_position": {},
   "toc_section_display": true,
   "toc_window_display": false
  },
  "vscode": {
   "interpreter": {
    "hash": "e7cb1b9ae4d417fedf7f40a8eec98f7cfbd359e096bd857395a915f4609834ce"
   }
  }
 },
 "nbformat": 4,
 "nbformat_minor": 2
}
