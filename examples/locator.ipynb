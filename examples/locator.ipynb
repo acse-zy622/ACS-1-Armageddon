{
 "cells": [
  {
   "cell_type": "markdown",
   "metadata": {},
   "source": [
    "### Locator"
   ]
  },
  {
   "cell_type": "markdown",
   "metadata": {},
   "source": [
    "### Function name: great_circle_distance\n",
    "\n",
    "Calculate the great circle distance (in metres) between pairs of points specified as latitude and longitude on a spherical Earth (with radius 6371 km)."
   ]
  },
  {
   "cell_type": "markdown",
   "metadata": {},
   "source": [
    "Input: \n",
    "\n",
    "**latlon1** : arraylike latitudes and longitudes of first point (as [n, 2] array for n points)\n",
    "\n",
    "**latlon2** : arraylike latitudes and longitudes of second point (as [m, 2] array for m points)\n",
    "\n",
    "Output: \n",
    "\n",
    "**Distance**: Distance in metres between each pair of points (as an n x m array)"
   ]
  },
  {
   "cell_type": "markdown",
   "metadata": {},
   "source": [
    "### Example"
   ]
  },
  {
   "cell_type": "code",
   "execution_count": 3,
   "metadata": {},
   "outputs": [],
   "source": [
    "from armageddon.locator import great_circle_distance, PostcodeLocator"
   ]
  },
  {
   "cell_type": "markdown",
   "metadata": {},
   "source": [
    "For example, to calculate the great circle distance between *[ 54.0, 0.0 ]* and *[ 55, 1.0 ]* and diatance between *[ 55.0, 0.0 ]* and *[ 55, 1 .0 ]* at the same time, we could use the code below"
   ]
  },
  {
   "cell_type": "code",
   "execution_count": 4,
   "metadata": {},
   "outputs": [
    {
     "name": "stdout",
     "output_type": "stream",
     "text": [
      "[[1.286e+05]\n",
      " [6.378e+04]]\n"
     ]
    }
   ],
   "source": [
    "import numpy as np\n",
    "fmt = lambda x: np.format_float_scientific(x, precision=3)\n",
    "with np.printoptions(formatter={'all': fmt}):\n",
    "   print(great_circle_distance([[54.0, 0.0], [55, 0.0]], [55, 1.0]))"
   ]
  },
  {
   "cell_type": "markdown",
   "metadata": {},
   "source": [
    "Calculate the great circle distance between *[[ 54.0, 0.0 ], [ 55.0, 1.0 ], [ 54.2, -3.0 ]]* and *[[ 55.0, 1.0 ], [ 56.0, -2.1 ], [ 54.001, -0.003 ]]* in pairs"
   ]
  },
  {
   "cell_type": "code",
   "execution_count": 5,
   "metadata": {},
   "outputs": [
    {
     "name": "stdout",
     "output_type": "stream",
     "text": [
      "[[1.286e+05 2.596e+05 2.254e+02]\n",
      " [9.494e-02 2.247e+05 1.286e+05]\n",
      " [2.725e+05 2.082e+05 1.966e+05]]\n"
     ]
    }
   ],
   "source": [
    "pnts1 = np.array([[54.0, 0.0], [55.0, 1.0], [54.2, -3.0]])\n",
    "pnts2 = np.array([[55.0, 1.0], [56.0, -2.1], [54.001, -0.003]])\n",
    "with np.printoptions(formatter={'all': fmt}):\n",
    "   print(great_circle_distance(pnts1, pnts2))"
   ]
  },
  {
   "cell_type": "markdown",
   "metadata": {},
   "source": [
    "### Function name: get_postcodes_by_radius\n",
    "\n",
    "Return (unit or sector) postcodes within specific distances of input location."
   ]
  },
  {
   "cell_type": "markdown",
   "metadata": {},
   "source": [
    "Input: \n",
    "\n",
    "**X** : arraylike Latitude-longitude pair of centre location\n",
    "\n",
    "**radii** : arraylike array of radial distances from X\n",
    "\n",
    "**sector** : bool, optional if true return postcode sectors, otherwise postcode units\n",
    "\n",
    "Output: \n",
    "\n",
    "**place_list**: Contains the lists of postcodes closer than the elements of radii to the location X."
   ]
  },
  {
   "cell_type": "markdown",
   "metadata": {},
   "source": [
    "### Example"
   ]
  },
  {
   "cell_type": "markdown",
   "metadata": {},
   "source": [
    "For example, the code below shows how to get postcodes within 0.13e3 meters of location coordinate (51.4981, -0.1773)"
   ]
  },
  {
   "cell_type": "markdown",
   "metadata": {},
   "source": [
    "<div>\n",
    "<img src=\"example.jpg\" width=\"500\"/>\n",
    "</div>"
   ]
  },
  {
   "cell_type": "code",
   "execution_count": 6,
   "metadata": {},
   "outputs": [
    {
     "data": {
      "text/plain": [
       "[['SW7 2BU', 'SW7 2DD', 'SW7 5HF', 'SW7 5HG', 'SW7 2BT', 'SW7 5HQ', 'SW7 2AZ']]"
      ]
     },
     "execution_count": 6,
     "metadata": {},
     "output_type": "execute_result"
    }
   ],
   "source": [
    "locator = PostcodeLocator('../resources/full_postcodes.csv', '../resources/population_by_postcode_sector.csv')\n",
    "locator.get_postcodes_by_radius((51.4981, -0.1773), [0.13e3])"
   ]
  },
  {
   "cell_type": "markdown",
   "metadata": {},
   "source": [
    "The code below shows postcode sectors in different circles"
   ]
  },
  {
   "cell_type": "markdown",
   "metadata": {},
   "source": [
    "<div>\n",
    "<img src=\"example2.jpg\" width=\"500\"/>\n",
    "</div>"
   ]
  },
  {
   "cell_type": "code",
   "execution_count": 7,
   "metadata": {},
   "outputs": [
    {
     "data": {
      "text/plain": [
       "[['SW7  1', 'SW7  5', 'SW7  3', 'SW7  9', 'SW7  4', 'SW7  2'],\n",
       " ['SW7  1', 'SW7  5', 'SW7  3', 'SW7  9', 'SW7  4', 'SW7  2']]"
      ]
     },
     "execution_count": 7,
     "metadata": {},
     "output_type": "execute_result"
    }
   ],
   "source": [
    "locator.get_postcodes_by_radius((51.4981, -0.1773), [0.4e3, 0.2e3], True)"
   ]
  },
  {
   "cell_type": "markdown",
   "metadata": {},
   "source": [
    "### Function name: get_population_of_postcode\n",
    "\n",
    "Return populations of a list of postcode units or sectors."
   ]
  },
  {
   "cell_type": "markdown",
   "metadata": {},
   "source": [
    "Input: \n",
    "\n",
    "**postcodes** : list of postcode units or postcode sectors\n",
    "\n",
    "**sector** : bool, if true return populations for postcode sectors, otherwise returns populations for postcode units\n",
    "\n",
    "Output: \n",
    "\n",
    "**global_pc**: Contains the populations of input postcode units or sectors"
   ]
  },
  {
   "cell_type": "markdown",
   "metadata": {},
   "source": [
    "### Example"
   ]
  },
  {
   "cell_type": "markdown",
   "metadata": {},
   "source": [
    "To calculate population of different postcode units, just input them as a list"
   ]
  },
  {
   "cell_type": "code",
   "execution_count": 8,
   "metadata": {},
   "outputs": [
    {
     "data": {
      "text/plain": [
       "[[19, 19, 19, 19]]"
      ]
     },
     "execution_count": 8,
     "metadata": {},
     "output_type": "execute_result"
    }
   ],
   "source": [
    "locator.get_population_of_postcode([['SW7 2AZ', 'SW7 2BT', 'SW7 2BU', 'SW7 2DD']])"
   ]
  },
  {
   "cell_type": "markdown",
   "metadata": {},
   "source": [
    "To calculate population of different postcode sectors, just input them as a list and add **True**"
   ]
  },
  {
   "cell_type": "code",
   "execution_count": 9,
   "metadata": {},
   "outputs": [
    {
     "data": {
      "text/plain": [
       "[[2283]]"
      ]
     },
     "execution_count": 9,
     "metadata": {},
     "output_type": "execute_result"
    }
   ],
   "source": [
    "locator.get_population_of_postcode([['SW7  2']], True)"
   ]
  }
 ],
 "metadata": {
  "kernelspec": {
   "display_name": "Python 3.9.13 ('base')",
   "language": "python",
   "name": "python3"
  },
  "language_info": {
   "codemirror_mode": {
    "name": "ipython",
    "version": 3
   },
   "file_extension": ".py",
   "mimetype": "text/x-python",
   "name": "python",
   "nbconvert_exporter": "python",
   "pygments_lexer": "ipython3",
   "version": "3.9.15"
  },
  "orig_nbformat": 4,
  "vscode": {
   "interpreter": {
    "hash": "e7cb1b9ae4d417fedf7f40a8eec98f7cfbd359e096bd857395a915f4609834ce"
   }
  }
 },
 "nbformat": 4,
 "nbformat_minor": 2
}
