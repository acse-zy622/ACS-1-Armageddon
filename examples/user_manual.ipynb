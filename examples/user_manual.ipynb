{
 "cells": [
  {
   "cell_type": "code",
   "execution_count": 3,
   "metadata": {},
   "outputs": [],
   "source": [
    "from armageddon.solver import Planet\n",
    "from armageddon.locator import great_circle_distance, PostcodeLocator\n",
    "from armageddon.damage import damage_zones, impact_risk\n",
    "from armageddon.mapping import plot_circle, damage_map\n",
    "earth = Planet()"
   ]
  },
  {
   "cell_type": "markdown",
   "metadata": {},
   "source": [
    "# 1. Armageddon: solver"
   ]
  },
  {
   "cell_type": "markdown",
   "metadata": {},
   "source": [
    "## `solver` module\n",
    "* Solve the system of differential equations describing meteoroid entry\n",
    "* Calculate the kinetic energy lost per unit altitude\n",
    "* Compute the burst altitude, burst energy and horizontal path length from the entry point"
   ]
  },
  {
   "cell_type": "code",
   "execution_count": 4,
   "metadata": {},
   "outputs": [],
   "source": [
    "# import basic requirements\n",
    "import numpy as np\n",
    "import pandas as pd\n",
    "import matplotlib.pyplot as plt"
   ]
  },
  {
   "cell_type": "markdown",
   "metadata": {},
   "source": [
    "### `Planet()` class"
   ]
  },
  {
   "cell_type": "markdown",
   "metadata": {},
   "source": [
    "The class `Planet()` contains functions to solve the system of ordinary differential equations and analyse the outcomes. It consists of three main functions:\n",
    "* `solve_atmospheric_entry` for intial calculation for the ODE system\n",
    "* `calculate_energy` for computing the kinetic energy loss\n",
    "* `analyse_outcome` for computing the burst parameters"
   ]
  },
  {
   "cell_type": "markdown",
   "metadata": {},
   "source": [
    "The `__init__` function sets up initial parameters and constants for the target planet, which is Earth in our case."
   ]
  },
  {
   "cell_type": "markdown",
   "metadata": {},
   "source": [
    "### Function name: `solve_atmospheric_entry`\n",
    "\n",
    "Solve the system of differential equations for a given impact scenario"
   ]
  },
  {
   "cell_type": "markdown",
   "metadata": {},
   "source": [
    "`Input:` \n",
    "\n",
    "**radius** : float, the radius of the asteroid in meters\n",
    "\n",
    "**velocity** : float, the entery speed of the asteroid in meters/second\n",
    "\n",
    "**density** : float, the density of the asteroid in kg/m^3\n",
    "\n",
    "**strength** : float, the strength of the asteroid (i.e. the maximum pressure it can take before fragmenting) in N/m^2\n",
    "\n",
    "**angle** : float, The initial trajectory angle of the asteroid to the horizontal By default, input is in degrees. If 'radians' is set to True, the input should be in radians\n",
    "\n",
    "**init_altitude** : float, optional Initial altitude in m\n",
    "\n",
    "**dt** : float, optional The output timestep, in s\n",
    "\n",
    "**radians** : logical, optional Whether angles should be given in degrees or radians. Default=False Angles returned in the dataframe will have the same units as the input\n",
    "\n",
    "**backend** : str, optional Which solving method to use. Default='RK4'\n",
    "\n",
    "`Output:`\n",
    "\n",
    "**DataFrame**: A pandas dataframe containing the solution to the system, which includes the following columns: 'velocity', 'mass', 'angle', 'altitude', 'distance', 'radius', 'time'"
   ]
  },
  {
   "cell_type": "markdown",
   "metadata": {},
   "source": [
    "### Method "
   ]
  },
  {
   "cell_type": "markdown",
   "metadata": {},
   "source": [
    "One can choose different backend to solve the ODE system as an input for `solve_atmospheric_entry`:\n",
    " * 4th-Order Runge Kutta - `'RK4'`\n",
    " * Foward-Euler - `'FE'`\n",
    " \n",
    " The function will take a string argument as an input to decide which solving method to use. If none assigned, it will take 'FE' when $dt <= 0.01$ and 'RK4' when $dt>0.01$ . \n",
    "\n",
    "For **Simple Euler Method(Forward Euler)**, the algorithm behind it is simple:( *Note that all given ODEs are time_independent.*)\n",
    "$$\\bar{f}_{i+1} = \\bar{f}_i + \\delta t F(\\bar{f}_i)$$\n",
    "\n",
    "**RK4** is probably the most popular Runge Kutta method of order p=4 (i.e. its global error scales as $\\delta t^4$) with s = 4 stages. The simple explicit expressions is given as follows:\n",
    "$$\\eta^1_i = F(\\bar{f}_i)$$\n",
    "$$\\eta^2_i = F(\\bar{f}_i+\\frac{\\delta t}{2}\\eta^1_i)$$ \n",
    "$$\\eta^3_i = F(\\bar{f}_i+\\frac{\\delta t}{2}\\eta^2_i)$$ \n",
    "$$\\eta^4_i = F(\\bar{f}_i+\\delta t \\eta^3_i )$$\n",
    "\n",
    "$$\\bar{f}_{i+1} = \\bar{f}_i + \\frac{\\delta t}{6}(\\eta^1_i + 2\\eta^2_i + 2\\eta^3_i + \\eta^4_i)$$\n",
    "\n",
    "Based on the idea of getting more precise solutions by estimating the slope of the unknown function at several **intermediate points** between the current value $t_i$ and the next value $t_{i+1}$.To sum up, RK4 solver offers a good balance between order of accuracy and cost of computation compared with Forward Euler."
   ]
  },
  {
   "cell_type": "markdown",
   "metadata": {},
   "source": [
    "### Example"
   ]
  },
  {
   "cell_type": "code",
   "execution_count": 5,
   "metadata": {},
   "outputs": [
    {
     "data": {
      "text/html": [
       "<div>\n",
       "<style scoped>\n",
       "    .dataframe tbody tr th:only-of-type {\n",
       "        vertical-align: middle;\n",
       "    }\n",
       "\n",
       "    .dataframe tbody tr th {\n",
       "        vertical-align: top;\n",
       "    }\n",
       "\n",
       "    .dataframe thead th {\n",
       "        text-align: right;\n",
       "    }\n",
       "</style>\n",
       "<table border=\"1\" class=\"dataframe\">\n",
       "  <thead>\n",
       "    <tr style=\"text-align: right;\">\n",
       "      <th></th>\n",
       "      <th>velocity</th>\n",
       "      <th>mass</th>\n",
       "      <th>angle</th>\n",
       "      <th>altitude</th>\n",
       "      <th>distance</th>\n",
       "      <th>radius</th>\n",
       "      <th>time</th>\n",
       "    </tr>\n",
       "  </thead>\n",
       "  <tbody>\n",
       "    <tr>\n",
       "      <th>0</th>\n",
       "      <td>19000.000000</td>\n",
       "      <td>5.387831e+08</td>\n",
       "      <td>45.000000</td>\n",
       "      <td>100000.000000</td>\n",
       "      <td>0.000000</td>\n",
       "      <td>35.000000</td>\n",
       "      <td>0.00</td>\n",
       "    </tr>\n",
       "    <tr>\n",
       "      <th>1</th>\n",
       "      <td>19000.346520</td>\n",
       "      <td>5.387831e+08</td>\n",
       "      <td>44.995097</td>\n",
       "      <td>99328.271171</td>\n",
       "      <td>661.439147</td>\n",
       "      <td>35.000000</td>\n",
       "      <td>0.05</td>\n",
       "    </tr>\n",
       "    <tr>\n",
       "      <th>2</th>\n",
       "      <td>19000.692985</td>\n",
       "      <td>5.387831e+08</td>\n",
       "      <td>44.990194</td>\n",
       "      <td>98656.587585</td>\n",
       "      <td>1323.015629</td>\n",
       "      <td>35.000000</td>\n",
       "      <td>0.10</td>\n",
       "    </tr>\n",
       "    <tr>\n",
       "      <th>3</th>\n",
       "      <td>19001.039390</td>\n",
       "      <td>5.387830e+08</td>\n",
       "      <td>44.985289</td>\n",
       "      <td>97984.949263</td>\n",
       "      <td>1984.729479</td>\n",
       "      <td>35.000000</td>\n",
       "      <td>0.15</td>\n",
       "    </tr>\n",
       "    <tr>\n",
       "      <th>4</th>\n",
       "      <td>19001.385736</td>\n",
       "      <td>5.387830e+08</td>\n",
       "      <td>44.980383</td>\n",
       "      <td>97313.356228</td>\n",
       "      <td>2646.580731</td>\n",
       "      <td>35.000000</td>\n",
       "      <td>0.20</td>\n",
       "    </tr>\n",
       "    <tr>\n",
       "      <th>...</th>\n",
       "      <td>...</td>\n",
       "      <td>...</td>\n",
       "      <td>...</td>\n",
       "      <td>...</td>\n",
       "      <td>...</td>\n",
       "      <td>...</td>\n",
       "      <td>...</td>\n",
       "    </tr>\n",
       "    <tr>\n",
       "      <th>1106</th>\n",
       "      <td>84.986202</td>\n",
       "      <td>8.775433e+07</td>\n",
       "      <td>89.200659</td>\n",
       "      <td>20.197837</td>\n",
       "      <td>97237.355766</td>\n",
       "      <td>257.743771</td>\n",
       "      <td>55.30</td>\n",
       "    </tr>\n",
       "    <tr>\n",
       "      <th>1107</th>\n",
       "      <td>84.962642</td>\n",
       "      <td>8.775429e+07</td>\n",
       "      <td>89.204914</td>\n",
       "      <td>15.949528</td>\n",
       "      <td>97237.414881</td>\n",
       "      <td>257.743771</td>\n",
       "      <td>55.35</td>\n",
       "    </tr>\n",
       "    <tr>\n",
       "      <th>1108</th>\n",
       "      <td>84.939093</td>\n",
       "      <td>8.775426e+07</td>\n",
       "      <td>89.209145</td>\n",
       "      <td>11.702391</td>\n",
       "      <td>97237.473664</td>\n",
       "      <td>257.743771</td>\n",
       "      <td>55.40</td>\n",
       "    </tr>\n",
       "    <tr>\n",
       "      <th>1109</th>\n",
       "      <td>84.915557</td>\n",
       "      <td>8.775422e+07</td>\n",
       "      <td>89.213353</td>\n",
       "      <td>7.456427</td>\n",
       "      <td>97237.532119</td>\n",
       "      <td>257.743771</td>\n",
       "      <td>55.45</td>\n",
       "    </tr>\n",
       "    <tr>\n",
       "      <th>1110</th>\n",
       "      <td>84.892034</td>\n",
       "      <td>8.775418e+07</td>\n",
       "      <td>89.217538</td>\n",
       "      <td>3.211636</td>\n",
       "      <td>97237.590247</td>\n",
       "      <td>257.743771</td>\n",
       "      <td>55.50</td>\n",
       "    </tr>\n",
       "  </tbody>\n",
       "</table>\n",
       "<p>1111 rows × 7 columns</p>\n",
       "</div>"
      ],
      "text/plain": [
       "          velocity          mass      angle       altitude      distance  \\\n",
       "0     19000.000000  5.387831e+08  45.000000  100000.000000      0.000000   \n",
       "1     19000.346520  5.387831e+08  44.995097   99328.271171    661.439147   \n",
       "2     19000.692985  5.387831e+08  44.990194   98656.587585   1323.015629   \n",
       "3     19001.039390  5.387830e+08  44.985289   97984.949263   1984.729479   \n",
       "4     19001.385736  5.387830e+08  44.980383   97313.356228   2646.580731   \n",
       "...            ...           ...        ...            ...           ...   \n",
       "1106     84.986202  8.775433e+07  89.200659      20.197837  97237.355766   \n",
       "1107     84.962642  8.775429e+07  89.204914      15.949528  97237.414881   \n",
       "1108     84.939093  8.775426e+07  89.209145      11.702391  97237.473664   \n",
       "1109     84.915557  8.775422e+07  89.213353       7.456427  97237.532119   \n",
       "1110     84.892034  8.775418e+07  89.217538       3.211636  97237.590247   \n",
       "\n",
       "          radius   time  \n",
       "0      35.000000   0.00  \n",
       "1      35.000000   0.05  \n",
       "2      35.000000   0.10  \n",
       "3      35.000000   0.15  \n",
       "4      35.000000   0.20  \n",
       "...          ...    ...  \n",
       "1106  257.743771  55.30  \n",
       "1107  257.743771  55.35  \n",
       "1108  257.743771  55.40  \n",
       "1109  257.743771  55.45  \n",
       "1110  257.743771  55.50  \n",
       "\n",
       "[1111 rows x 7 columns]"
      ]
     },
     "execution_count": 5,
     "metadata": {},
     "output_type": "execute_result"
    }
   ],
   "source": [
    "result1 = earth.solve_atmospheric_entry(radius=35, angle=45,\n",
    "                                       strength=1e7, density=3000,\n",
    "                                       velocity=19e3)\n",
    "result1"
   ]
  },
  {
   "cell_type": "markdown",
   "metadata": {},
   "source": [
    "One could visualise the evolution of the asteroid in the atmosphere by plotting some graphs of the asteroid parameters against altitude or time."
   ]
  },
  {
   "cell_type": "code",
   "execution_count": 6,
   "metadata": {},
   "outputs": [
    {
     "data": {
      "image/png": "[encoded data removed]",
      "text/plain": [
       "<Figure size 1500x1000 with 4 Axes>"
      ]
     },
     "metadata": {},
     "output_type": "display_data"
    }
   ],
   "source": [
    "fig, ((ax1, ax2), (ax3, ax4)) = plt.subplots(2, 2, figsize=(15, 10))\n",
    "\n",
    "ax1.plot(result1['velocity'], result1['time'])\n",
    "ax1.set_ylabel('time $(s)$', fontsize=14)\n",
    "ax1.set_xlabel('velocity $(m/s)$', fontsize=14)\n",
    "ax1.set_title('Velocity evolution against time', fontsize=14)\n",
    "\n",
    "ax2.plot(result1['mass'], result1['time'])\n",
    "ax2.set_ylabel('time $(s)$', fontsize=14)\n",
    "ax2.set_xlabel('mass $(kg)$', fontsize=14)\n",
    "ax2.set_title('Mass evolution against time', fontsize=14)\n",
    "\n",
    "ax3.plot(result1['velocity'], result1['altitude'])\n",
    "ax3.set_ylabel('altitude $(m)$', fontsize=14)\n",
    "ax3.set_xlabel('velocity $(m/s)$', fontsize=14)\n",
    "ax3.set_title('Velocity evolution against altitude', fontsize=14)\n",
    "\n",
    "ax4.plot(result1['mass'], result1['altitude'])\n",
    "ax4.set_ylabel('altitude $(m)$', fontsize=14)\n",
    "ax4.set_xlabel('mass $(kg)$', fontsize=14)\n",
    "ax4.set_title('Mass evolution against altitude', fontsize=14)\n",
    "\n",
    "plt.tight_layout(pad = 2.0)"
   ]
  },
  {
   "cell_type": "markdown",
   "metadata": {},
   "source": [
    "### Function name: `calculate_energy`\n",
    "\n",
    "Function to calculate the kinetic energy lost per unit altitude in kilotons TNT per km, for a given solution. This function takes the results from `solve_atmospheric_entry` to calculate the kinetic energy loss per unit altitude in kilotons TNT per km, which returns the same DataFrame as from `solve_atmospheric_entry`, but with an extra column 'dedz' added, where the kinetic energy loss is stored."
   ]
  },
  {
   "cell_type": "markdown",
   "metadata": {},
   "source": [
    "`Input:` \n",
    "\n",
    "**result** : DataFrame, A pandas dataframe with columns for the velocity, mass, angle, altitude, horizontal distance and radius as a function of time\n",
    "\n",
    "`Output:`\n",
    "\n",
    "**Returns** : DataFrame, returns the dataframe with additional column ``dedz`` which is the kinetic energy lost per unit altitude"
   ]
  },
  {
   "cell_type": "markdown",
   "metadata": {},
   "source": [
    "### Example"
   ]
  },
  {
   "cell_type": "code",
   "execution_count": 7,
   "metadata": {},
   "outputs": [
    {
     "data": {
      "text/html": [
       "<div>\n",
       "<style scoped>\n",
       "    .dataframe tbody tr th:only-of-type {\n",
       "        vertical-align: middle;\n",
       "    }\n",
       "\n",
       "    .dataframe tbody tr th {\n",
       "        vertical-align: top;\n",
       "    }\n",
       "\n",
       "    .dataframe thead th {\n",
       "        text-align: right;\n",
       "    }\n",
       "</style>\n",
       "<table border=\"1\" class=\"dataframe\">\n",
       "  <thead>\n",
       "    <tr style=\"text-align: right;\">\n",
       "      <th></th>\n",
       "      <th>velocity</th>\n",
       "      <th>mass</th>\n",
       "      <th>angle</th>\n",
       "      <th>altitude</th>\n",
       "      <th>distance</th>\n",
       "      <th>radius</th>\n",
       "      <th>time</th>\n",
       "      <th>dedz</th>\n",
       "    </tr>\n",
       "  </thead>\n",
       "  <tbody>\n",
       "    <tr>\n",
       "      <th>0</th>\n",
       "      <td>19000.000000</td>\n",
       "      <td>5.387831e+08</td>\n",
       "      <td>45.000000</td>\n",
       "      <td>100000.000000</td>\n",
       "      <td>0.000000</td>\n",
       "      <td>35.000000</td>\n",
       "      <td>0.00</td>\n",
       "      <td>-0.000000</td>\n",
       "    </tr>\n",
       "    <tr>\n",
       "      <th>1</th>\n",
       "      <td>19000.346520</td>\n",
       "      <td>5.387831e+08</td>\n",
       "      <td>44.995097</td>\n",
       "      <td>99328.271171</td>\n",
       "      <td>661.439147</td>\n",
       "      <td>35.000000</td>\n",
       "      <td>0.05</td>\n",
       "      <td>-1.260183</td>\n",
       "    </tr>\n",
       "    <tr>\n",
       "      <th>2</th>\n",
       "      <td>19000.692985</td>\n",
       "      <td>5.387831e+08</td>\n",
       "      <td>44.990194</td>\n",
       "      <td>98656.587585</td>\n",
       "      <td>1323.015629</td>\n",
       "      <td>35.000000</td>\n",
       "      <td>0.10</td>\n",
       "      <td>-1.259914</td>\n",
       "    </tr>\n",
       "    <tr>\n",
       "      <th>3</th>\n",
       "      <td>19001.039390</td>\n",
       "      <td>5.387830e+08</td>\n",
       "      <td>44.985289</td>\n",
       "      <td>97984.949263</td>\n",
       "      <td>1984.729479</td>\n",
       "      <td>35.000000</td>\n",
       "      <td>0.15</td>\n",
       "      <td>-1.259620</td>\n",
       "    </tr>\n",
       "    <tr>\n",
       "      <th>4</th>\n",
       "      <td>19001.385736</td>\n",
       "      <td>5.387830e+08</td>\n",
       "      <td>44.980383</td>\n",
       "      <td>97313.356228</td>\n",
       "      <td>2646.580731</td>\n",
       "      <td>35.000000</td>\n",
       "      <td>0.20</td>\n",
       "      <td>-1.259301</td>\n",
       "    </tr>\n",
       "    <tr>\n",
       "      <th>...</th>\n",
       "      <td>...</td>\n",
       "      <td>...</td>\n",
       "      <td>...</td>\n",
       "      <td>...</td>\n",
       "      <td>...</td>\n",
       "      <td>...</td>\n",
       "      <td>...</td>\n",
       "      <td>...</td>\n",
       "    </tr>\n",
       "    <tr>\n",
       "      <th>1106</th>\n",
       "      <td>84.986202</td>\n",
       "      <td>8.775433e+07</td>\n",
       "      <td>89.200659</td>\n",
       "      <td>20.197837</td>\n",
       "      <td>97237.355766</td>\n",
       "      <td>257.743771</td>\n",
       "      <td>55.30</td>\n",
       "      <td>0.009897</td>\n",
       "    </tr>\n",
       "    <tr>\n",
       "      <th>1107</th>\n",
       "      <td>84.962642</td>\n",
       "      <td>8.775429e+07</td>\n",
       "      <td>89.204914</td>\n",
       "      <td>15.949528</td>\n",
       "      <td>97237.414881</td>\n",
       "      <td>257.743771</td>\n",
       "      <td>55.35</td>\n",
       "      <td>0.009892</td>\n",
       "    </tr>\n",
       "    <tr>\n",
       "      <th>1108</th>\n",
       "      <td>84.939093</td>\n",
       "      <td>8.775426e+07</td>\n",
       "      <td>89.209145</td>\n",
       "      <td>11.702391</td>\n",
       "      <td>97237.473664</td>\n",
       "      <td>257.743771</td>\n",
       "      <td>55.40</td>\n",
       "      <td>0.009887</td>\n",
       "    </tr>\n",
       "    <tr>\n",
       "      <th>1109</th>\n",
       "      <td>84.915557</td>\n",
       "      <td>8.775422e+07</td>\n",
       "      <td>89.213353</td>\n",
       "      <td>7.456427</td>\n",
       "      <td>97237.532119</td>\n",
       "      <td>257.743771</td>\n",
       "      <td>55.45</td>\n",
       "      <td>0.009881</td>\n",
       "    </tr>\n",
       "    <tr>\n",
       "      <th>1110</th>\n",
       "      <td>84.892034</td>\n",
       "      <td>8.775418e+07</td>\n",
       "      <td>89.217538</td>\n",
       "      <td>3.211636</td>\n",
       "      <td>97237.590247</td>\n",
       "      <td>257.743771</td>\n",
       "      <td>55.50</td>\n",
       "      <td>0.009876</td>\n",
       "    </tr>\n",
       "  </tbody>\n",
       "</table>\n",
       "<p>1111 rows × 8 columns</p>\n",
       "</div>"
      ],
      "text/plain": [
       "          velocity          mass      angle       altitude      distance  \\\n",
       "0     19000.000000  5.387831e+08  45.000000  100000.000000      0.000000   \n",
       "1     19000.346520  5.387831e+08  44.995097   99328.271171    661.439147   \n",
       "2     19000.692985  5.387831e+08  44.990194   98656.587585   1323.015629   \n",
       "3     19001.039390  5.387830e+08  44.985289   97984.949263   1984.729479   \n",
       "4     19001.385736  5.387830e+08  44.980383   97313.356228   2646.580731   \n",
       "...            ...           ...        ...            ...           ...   \n",
       "1106     84.986202  8.775433e+07  89.200659      20.197837  97237.355766   \n",
       "1107     84.962642  8.775429e+07  89.204914      15.949528  97237.414881   \n",
       "1108     84.939093  8.775426e+07  89.209145      11.702391  97237.473664   \n",
       "1109     84.915557  8.775422e+07  89.213353       7.456427  97237.532119   \n",
       "1110     84.892034  8.775418e+07  89.217538       3.211636  97237.590247   \n",
       "\n",
       "          radius   time      dedz  \n",
       "0      35.000000   0.00 -0.000000  \n",
       "1      35.000000   0.05 -1.260183  \n",
       "2      35.000000   0.10 -1.259914  \n",
       "3      35.000000   0.15 -1.259620  \n",
       "4      35.000000   0.20 -1.259301  \n",
       "...          ...    ...       ...  \n",
       "1106  257.743771  55.30  0.009897  \n",
       "1107  257.743771  55.35  0.009892  \n",
       "1108  257.743771  55.40  0.009887  \n",
       "1109  257.743771  55.45  0.009881  \n",
       "1110  257.743771  55.50  0.009876  \n",
       "\n",
       "[1111 rows x 8 columns]"
      ]
     },
     "execution_count": 7,
     "metadata": {},
     "output_type": "execute_result"
    }
   ],
   "source": [
    "result2 = earth.calculate_energy(result1)\n",
    "result2"
   ]
  },
  {
   "cell_type": "code",
   "execution_count": 8,
   "metadata": {},
   "outputs": [
    {
     "data": {
      "image/png": "[encoded data removed]",
      "text/plain": [
       "<Figure size 1500x500 with 2 Axes>"
      ]
     },
     "metadata": {},
     "output_type": "display_data"
    }
   ],
   "source": [
    "fig, (ax1, ax2) = plt.subplots(1, 2, figsize=(15, 5))\n",
    "\n",
    "ax1.plot(result2['dedz'], result2['time'])\n",
    "ax1.set_ylim(ymin=0)\n",
    "ax1.set_xlabel('time $(s)$', fontsize=14)\n",
    "ax1.set_ylabel('kinetic energy loss $(kt/km)$', fontsize=14)\n",
    "ax1.set_title('Energy loss against time', fontsize=14)\n",
    "\n",
    "ax2.plot(result2['dedz'], result2['altitude'])\n",
    "ax2.set_ylim(ymin=0)\n",
    "ax2.set_xlabel('altitude $(m)$', fontsize=14)\n",
    "ax2.set_ylabel('kinetic energy loss $(kt/km)$', fontsize=14)\n",
    "ax2.set_title('Energy loss against altitude', fontsize=14)\n",
    "\n",
    "plt.tight_layout(pad = 2.0)"
   ]
  },
  {
   "cell_type": "markdown",
   "metadata": {},
   "source": [
    "### Function name: `analyse_outcome`\n",
    "\n",
    "This function is where we compute the airburst point of the asteroid. This is equivalent to the point at which the peak energy loss per unit height reaches its maximum. An example outcome is displayed below, where each dictionary gives the detail of the impact event. The 'burst_energy' value gives a good estimation of the airburst energy for the total energy deposited into the atmosphere, which can then be used for hazard analysis."
   ]
  },
  {
   "cell_type": "markdown",
   "metadata": {},
   "source": [
    "`Input:` \n",
    "\n",
    "**result** : DataFrame, A pandas dataframe with columns for the velocity, mass, angle, altitude, horizontal distance and radius as a function of time\n",
    "\n",
    "`Output:`\n",
    "\n",
    "**Dict** : Dictionary with details of the impact event, which should contain the key: ``outcome`` (which should contain one of the following strings: ``Airburst`` or ``Cratering``), as well as the following 4 keys: ``burst_peak_dedz``, ``burst_altitude``, ``burst_distance``, ``burst_energy``"
   ]
  },
  {
   "cell_type": "markdown",
   "metadata": {},
   "source": [
    "### Example"
   ]
  },
  {
   "cell_type": "code",
   "execution_count": 9,
   "metadata": {},
   "outputs": [
    {
     "data": {
      "text/plain": [
       "{'outcome': 'Airburst',\n",
       " 'burst_peak_dedz': 2897.3683072526687,\n",
       " 'burst_altitude': 11169.008012026643,\n",
       " 'burst_distance': 89085.41384651072,\n",
       " 'burst_energy': 16185.508170164325}"
      ]
     },
     "execution_count": 9,
     "metadata": {},
     "output_type": "execute_result"
    }
   ],
   "source": [
    "outcome = earth.analyse_outcome(result2)\n",
    "outcome"
   ]
  },
  {
   "cell_type": "markdown",
   "metadata": {},
   "source": [
    "Another point we want to mention is that our solver is able to use a tabulated atmospheric density profile.\n",
    "In our *solver.planet().tabular_density* function, we use piecewise linear interpolation to fit the curve. Then the user can calculate the atmosphere density based on given altitude."
   ]
  },
  {
   "cell_type": "markdown",
   "metadata": {},
   "source": [
    "### Comparison with analytic solution\n",
    "\n",
    " We will also make a comparison between our software output and the analytical solution, which is derived with the simplifying assumptions of exponential atmosphere ($\\rho_a = \\rho_0 e^{-z/H}$), no gravitational acceleration ($g=0$), a flat planet ($R_p = \\infty$), no lift ($C_L = 0$), no mass change owing to ablation ($\\frac{dm}{dt}=0$) and no fragmentation ($\\sigma_0 = \\infty$, $\\frac{dr}{dt}=0$). Under these assumptions, the system of ODEs only remains $\\frac{dv}{dt}$ and $\\frac{dz}{dt}$. We will derive the distance by applying: $$x_{i+1} = x_i + \\frac{\\Delta z}{tan \\theta}$$  \n",
    "\n",
    "To simple the analysis process we will apply forward euler method to derivate the result of analytical solution."
   ]
  },
  {
   "cell_type": "code",
   "execution_count": 10,
   "metadata": {},
   "outputs": [],
   "source": [
    "rho_0 = 1.2 #density of air\n",
    "Q = 10**7 \n",
    "H = 8000\n",
    "C_d = 1\n",
    "g = 9.81\n",
    "#setting para for the asteroids ：\n",
    "r0 = 50\n",
    "v0 = 19.2e3\n",
    "rho_m = 3300\n",
    "theta0 = 18.3\n",
    "m0 = (4/3)*np.pi*r0**3*rho_m\n",
    "x0 = 0.\n",
    "z0 = 100000.\n",
    "A = np.pi*r0**2  \n",
    "sin_theta = np.sin(theta0*np.pi/180)\n",
    "cos_theta = np.cos(theta0*np.pi/180)\n",
    "tan_theta = np.tan(theta0*np.pi/180)\n",
    "\n",
    "def euler(tmax,dt) :\n",
    "    global v,z,x,t\n",
    "    t = np.linspace(0,tmax,int(tmax/dt)+1)\n",
    "    v = np.zeros(len(t))\n",
    "    z = np.zeros(len(t))\n",
    "    x = np.zeros(len(t))\n",
    "    v[0] = v0\n",
    "    z[0] = z0\n",
    "    for i in range(len(t)-1):\n",
    "        rho_a = rho_0*np.exp(-z[i]/H)\n",
    "        v[i+1] = v[i] + dt * (-((C_d*rho_a*A*v[i]**2)/(2*m0))+ g*sin_theta)\n",
    "        z[i+1] = z[i] + dt * (-v[i]*sin_theta)\n",
    "        x[i+1] = x[i] + dt* v[i] * cos_theta"
   ]
  },
  {
   "cell_type": "code",
   "execution_count": 11,
   "metadata": {},
   "outputs": [
    {
     "data": {
      "image/png": "[encoded data removed]",
      "text/plain": [
       "<Figure size 400x400 with 1 Axes>"
      ]
     },
     "metadata": {},
     "output_type": "display_data"
    }
   ],
   "source": [
    "tmax = 10\n",
    "dt = 0.05\n",
    "euler(tmax, dt)\n",
    "z = pd.Series(z)\n",
    "x = pd.Series(x)\n",
    "a = Planet()\n",
    "b = a.solve_atmospheric_entry(radius=r0, velocity=v0, density=rho_m, strength =1e7, angle=theta0)\n",
    "n = int(tmax/dt)+1\n",
    "x1 = b['distance'].head(n)\n",
    "z1 = b['altitude'].head(n)\n",
    "fig = plt.figure(figsize=(4,4))\n",
    "ax = fig.add_subplot(111)\n",
    "\n",
    "ax.plot(x1,z1,'.',label='solver') # plot the point (2,3,4) on the figure\n",
    "ax.plot(x,z,'-',label = 'analytic')\n",
    "ax.legend()\n",
    "plt.show()"
   ]
  },
  {
   "cell_type": "markdown",
   "metadata": {},
   "source": [
    "From the figure we can observe that in the first few seconds, our solver perfectly matches the result of the analytical solutions."
   ]
  },
  {
   "cell_type": "markdown",
   "metadata": {},
   "source": [
    "# 2. Armageddon: locator"
   ]
  },
  {
   "cell_type": "markdown",
   "metadata": {},
   "source": [
    "## `locator` module\n",
    "* Calculate the great circle distance between pairs of points on a spherical Earth\n",
    "* Return postcodes within specific distances of the location\n",
    "* Return populations of a list of postcode units or sectors"
   ]
  },
  {
   "cell_type": "markdown",
   "metadata": {},
   "source": [
    "### Function name: `great_circle_distance`\n",
    "\n",
    "Calculate the great circle distance (in metres) between pairs of points specified as latitude and longitude on a spherical Earth (with radius 6371 km)."
   ]
  },
  {
   "cell_type": "markdown",
   "metadata": {},
   "source": [
    "`Input:`\n",
    "\n",
    "**latlon1** : arraylike latitudes and longitudes of first point (as [n, 2] array for n points)\n",
    "\n",
    "**latlon2** : arraylike latitudes and longitudes of second point (as [m, 2] array for m points)\n",
    "\n",
    "`Output:` \n",
    "\n",
    "**Distance**: Distance in metres between each pair of points (as an n x m array)"
   ]
  },
  {
   "cell_type": "markdown",
   "metadata": {},
   "source": [
    "### Example"
   ]
  },
  {
   "cell_type": "markdown",
   "metadata": {},
   "source": [
    "For example, to calculate the great circle distance between *[ 54.0, 0.0 ]* and *[ 55, 1.0 ]* and diatance between *[ 55.0, 0.0 ]* and *[ 55, 1 .0 ]* at the same time, we could use the code below"
   ]
  },
  {
   "cell_type": "code",
   "execution_count": 12,
   "metadata": {},
   "outputs": [
    {
     "name": "stdout",
     "output_type": "stream",
     "text": [
      "[[1.286e+05]\n",
      " [6.378e+04]]\n"
     ]
    }
   ],
   "source": [
    "import numpy as np\n",
    "fmt = lambda x: np.format_float_scientific(x, precision=3)\n",
    "with np.printoptions(formatter={'all': fmt}):\n",
    "   print(great_circle_distance([[54.0, 0.0], [55, 0.0]], [55, 1.0]))"
   ]
  },
  {
   "cell_type": "markdown",
   "metadata": {},
   "source": [
    "Calculate the great circle distance between *[[ 54.0, 0.0 ], [ 55.0, 1.0 ], [ 54.2, -3.0 ]]* and *[[ 55.0, 1.0 ], [ 56.0, -2.1 ], [ 54.001, -0.003 ]]* in pairs:"
   ]
  },
  {
   "cell_type": "code",
   "execution_count": 13,
   "metadata": {},
   "outputs": [
    {
     "name": "stdout",
     "output_type": "stream",
     "text": [
      "[[1.286e+05 2.596e+05 2.254e+02]\n",
      " [9.494e-02 2.247e+05 1.286e+05]\n",
      " [2.725e+05 2.082e+05 1.966e+05]]\n"
     ]
    }
   ],
   "source": [
    "pnts1 = np.array([[54.0, 0.0], [55.0, 1.0], [54.2, -3.0]])\n",
    "pnts2 = np.array([[55.0, 1.0], [56.0, -2.1], [54.001, -0.003]])\n",
    "with np.printoptions(formatter={'all': fmt}):\n",
    "   print(great_circle_distance(pnts1, pnts2))"
   ]
  },
  {
   "cell_type": "markdown",
   "metadata": {},
   "source": [
    "### `PostcodeLocator()` class"
   ]
  },
  {
   "cell_type": "markdown",
   "metadata": {},
   "source": [
    "The class `PostcodeLocator()` contains functions to solve the system of ordinary differential equations and analyse the outcomes. It consists of two main functions:\n",
    "* `get_postcodes_by_radius` for returning postcodes within specific distances of the location\n",
    "* `get_population_of_postcode` for returning populations of a list of postcode units or sectors"
   ]
  },
  {
   "cell_type": "markdown",
   "metadata": {},
   "source": [
    "The `__init__` function sets up postcode_file containing geographic location data for postcodes and census_file containing census data by postcode sector"
   ]
  },
  {
   "cell_type": "markdown",
   "metadata": {},
   "source": [
    "### Function name: `get_postcodes_by_radius`\n",
    "\n",
    "Return (unit or sector) postcodes within specific distances of input location."
   ]
  },
  {
   "cell_type": "markdown",
   "metadata": {},
   "source": [
    "`Input:`\n",
    "\n",
    "**X** : arraylike Latitude-longitude pair of centre location\n",
    "\n",
    "**radii** : arraylike array of radial distances from X\n",
    "\n",
    "**sector** : bool, optional if true return postcode sectors, otherwise postcode units\n",
    "\n",
    "`Output:` \n",
    "\n",
    "**place_list**: Contains the lists of postcodes closer than the elements of radii to the location X."
   ]
  },
  {
   "cell_type": "markdown",
   "metadata": {},
   "source": [
    "### Example"
   ]
  },
  {
   "cell_type": "markdown",
   "metadata": {},
   "source": [
    "For example, the code below shows how to get postcodes within 0.13e3 meters of location coordinate (51.4981, -0.1773)"
   ]
  },
  {
   "cell_type": "markdown",
   "metadata": {},
   "source": [
    "<div>\n",
    "<img src=\"example.jpg\" width=\"500\"/>\n",
    "</div>"
   ]
  },
  {
   "cell_type": "code",
   "execution_count": 14,
   "metadata": {},
   "outputs": [
    {
     "data": {
      "text/plain": [
       "[['SW7 5HG', 'SW7 5HF', 'SW7 2AZ', 'SW7 5HQ', 'SW7 2BT', 'SW7 2BU', 'SW7 2DD']]"
      ]
     },
     "execution_count": 14,
     "metadata": {},
     "output_type": "execute_result"
    }
   ],
   "source": [
    "locator = PostcodeLocator('../resources/full_postcodes.csv', '../resources/population_by_postcode_sector.csv')\n",
    "locator.get_postcodes_by_radius((51.4981, -0.1773), [0.13e3])"
   ]
  },
  {
   "cell_type": "markdown",
   "metadata": {},
   "source": [
    "The code below shows postcode sectors in different circles"
   ]
  },
  {
   "cell_type": "markdown",
   "metadata": {},
   "source": [
    "<div>\n",
    "<img src=\"example2.jpg\" width=\"500\"/>\n",
    "</div>"
   ]
  },
  {
   "cell_type": "code",
   "execution_count": 15,
   "metadata": {},
   "outputs": [
    {
     "data": {
      "text/plain": [
       "[['SW7 5', 'SW7 9', 'SW7 3', 'SW7 4', 'SW7 2', 'SW7 1'],\n",
       " ['SW7 5', 'SW7 9', 'SW7 3', 'SW7 4', 'SW7 2', 'SW7 1']]"
      ]
     },
     "execution_count": 15,
     "metadata": {},
     "output_type": "execute_result"
    }
   ],
   "source": [
    "locator.get_postcodes_by_radius((51.4981, -0.1773), [0.4e3, 0.2e3], True)"
   ]
  },
  {
   "cell_type": "markdown",
   "metadata": {},
   "source": [
    "### Function name: `get_population_of_postcode`\n",
    "\n",
    "Return populations of a list of postcode units or sectors."
   ]
  },
  {
   "cell_type": "markdown",
   "metadata": {},
   "source": [
    "`Input:` \n",
    "\n",
    "**postcodes** : list of postcode units or postcode sectors\n",
    "\n",
    "**sector** : bool, if true return populations for postcode sectors, otherwise returns populations for postcode units\n",
    "\n",
    "`Output:` \n",
    "\n",
    "**global_pc**: Contains the populations of input postcode units or sectors"
   ]
  },
  {
   "cell_type": "markdown",
   "metadata": {},
   "source": [
    "### Example"
   ]
  },
  {
   "cell_type": "markdown",
   "metadata": {},
   "source": [
    "To calculate population of different postcode units, just input them as a list"
   ]
  },
  {
   "cell_type": "code",
   "execution_count": 16,
   "metadata": {},
   "outputs": [
    {
     "data": {
      "text/plain": [
       "[[19.0, 19.0, 19.0, 19.0]]"
      ]
     },
     "execution_count": 16,
     "metadata": {},
     "output_type": "execute_result"
    }
   ],
   "source": [
    "locator.get_population_of_postcode([['SW7 2AZ', 'SW7 2BT', 'SW7 2BU', 'SW7 2DD']])"
   ]
  },
  {
   "cell_type": "markdown",
   "metadata": {},
   "source": [
    "To calculate population of different postcode sectors, just input them as a list and add **True**"
   ]
  },
  {
   "cell_type": "code",
   "execution_count": 17,
   "metadata": {},
   "outputs": [
    {
     "data": {
      "text/plain": [
       "[[2283.0]]"
      ]
     },
     "execution_count": 17,
     "metadata": {},
     "output_type": "execute_result"
    }
   ],
   "source": [
    "locator.get_population_of_postcode([['SW7  2']], True)"
   ]
  },
  {
   "cell_type": "markdown",
   "metadata": {},
   "source": [
    "# 3. Armageddon: damage"
   ]
  },
  {
   "cell_type": "markdown",
   "metadata": {},
   "source": [
    "## `damage` module\n",
    "* Calculate the location of the surface zero location and airblast damage radii (m)\n",
    "* Calculate the risk for each affected UK postcode or postcode sector"
   ]
  },
  {
   "cell_type": "markdown",
   "metadata": {},
   "source": [
    "### Function name: `damage_zones`\n",
    "\n",
    "Calculate the latitude and longitude of the surface zero location and the\n",
    "list of airblast damage radii (m) for a given impact scenario."
   ]
  },
  {
   "cell_type": "markdown",
   "metadata": {},
   "source": [
    "`Input:` \n",
    "\n",
    "**outcome**: Dict, the outcome dictionary from an impact scenario\n",
    "        \n",
    "**lat**: float, latitude of the meteoroid entry point (degrees)\n",
    "\n",
    "**lon**: float, longitude of the meteoroid entry point (degrees)\n",
    "    \n",
    "**bearing**: float, bearing (azimuth) relative to north of meteoroid trajectory (degrees)\n",
    "    \n",
    "**pressures**: float, arraylike, list of threshold pressures to define airblast damage levels\n",
    "    \n",
    "**plot**: bool, Boolean value to decide plotting\n",
    "\n",
    "`Output:`\n",
    "\n",
    "**blat**: float, latitude of the surface zero point (degrees)\n",
    "        \n",
    "**blon**: float, longitude of the surface zero point (degrees)\n",
    "        \n",
    "**damrad**: arraylike, float, list of distances specifying the blast radii for the input damage levels\n",
    "        \n",
    "**plot**: plot object, the plot specifying the areas effected by each damage level\n"
   ]
  },
  {
   "cell_type": "markdown",
   "metadata": {},
   "source": [
    "### Example"
   ]
  },
  {
   "cell_type": "code",
   "execution_count": 18,
   "metadata": {},
   "outputs": [
    {
     "data": {
      "text/plain": [
       "(52.21396905216966,\n",
       " -2.015908861677074,\n",
       " [115971.31673025587,\n",
       "  42628.36651535611,\n",
       "  9575.214234120964,\n",
       "  5835.9834520793875])"
      ]
     },
     "execution_count": 18,
     "metadata": {},
     "output_type": "execute_result"
    }
   ],
   "source": [
    "outcome = {'burst_altitude': 8e3, 'burst_energy': 7e3,\n",
    "           'burst_distance': 90e3, 'burst_peak_dedz': 1e3,\n",
    "           'outcome': 'Airburst'}\n",
    "arr = damage_zones(outcome, 52.79, -2.95, 135, \n",
    "                   pressures=[1e3, 3.5e3, 27e3, 43e3],\n",
    "                   )\n",
    "arr"
   ]
  },
  {
   "cell_type": "markdown",
   "metadata": {},
   "source": [
    "We obtain the parameters below:"
   ]
  },
  {
   "cell_type": "markdown",
   "metadata": {},
   "source": [
    "surface zero latitude|surface zero longitude|blast radii with the pressure level of 1e3|blast radii with the pressure level of 3.5e3|blast radii with the pressure level of 27e3|blast radii with the pressure level of 43e3|\n",
    "|---------------|----------------|----------------|----------------|----------------|----------------|\n",
    "|51.98371949678459|2.8338706741653983|115971.31673025587|42628.36651535611|9575.214234120964|5835.9834520793875|        \n",
    " "
   ]
  },
  {
   "cell_type": "code",
   "execution_count": 23,
   "metadata": {},
   "outputs": [
    {
     "data": {
      "text/html": [
       "<div style=\"width:100%;\"><div style=\"position:relative;width:100%;height:0;padding-bottom:60%;\"><span style=\"color:#565656\">Make this Notebook Trusted to load map: File -> Trust Notebook</span><iframe srcdoc=\"&lt;!DOCTYPE html&gt;\n",
       "&lt;html&gt;\n",
       "&lt;head&gt;\n",
       "    \n",
       "    &lt;meta http-equiv=&quot;content-type&quot; content=&quot;text/html; charset=UTF-8&quot; /&gt;\n",
       "    \n",
       "        &lt;script&gt;\n",
       "            L_NO_TOUCH = false;\n",
       "            L_DISABLE_3D = false;\n",
       "        &lt;/script&gt;\n",
       "    \n",
       "    &lt;style&gt;html, body {width: 100%;height: 100%;margin: 0;padding: 0;}&lt;/style&gt;\n",
       "    &lt;style&gt;#map {position:absolute;top:0;bottom:0;right:0;left:0;}&lt;/style&gt;\n",
       "    &lt;script src=&quot;https://cdn.jsdelivr.net/npm/leaflet@1.6.0/dist/leaflet.js&quot;&gt;&lt;/script&gt;\n",
       "    &lt;script src=&quot;https://code.jquery.com/jquery-1.12.4.min.js&quot;&gt;&lt;/script&gt;\n",
       "    &lt;script src=&quot;https://maxcdn.bootstrapcdn.com/bootstrap/3.2.0/js/bootstrap.min.js&quot;&gt;&lt;/script&gt;\n",
       "    &lt;script src=&quot;https://cdnjs.cloudflare.com/ajax/libs/Leaflet.awesome-markers/2.0.2/leaflet.awesome-markers.js&quot;&gt;&lt;/script&gt;\n",
       "    &lt;link rel=&quot;stylesheet&quot; href=&quot;https://cdn.jsdelivr.net/npm/leaflet@1.6.0/dist/leaflet.css&quot;/&gt;\n",
       "    &lt;link rel=&quot;stylesheet&quot; href=&quot;https://maxcdn.bootstrapcdn.com/bootstrap/3.2.0/css/bootstrap.min.css&quot;/&gt;\n",
       "    &lt;link rel=&quot;stylesheet&quot; href=&quot;https://maxcdn.bootstrapcdn.com/bootstrap/3.2.0/css/bootstrap-theme.min.css&quot;/&gt;\n",
       "    &lt;link rel=&quot;stylesheet&quot; href=&quot;https://maxcdn.bootstrapcdn.com/font-awesome/4.6.3/css/font-awesome.min.css&quot;/&gt;\n",
       "    &lt;link rel=&quot;stylesheet&quot; href=&quot;https://cdnjs.cloudflare.com/ajax/libs/Leaflet.awesome-markers/2.0.2/leaflet.awesome-markers.css&quot;/&gt;\n",
       "    &lt;link rel=&quot;stylesheet&quot; href=&quot;https://cdn.jsdelivr.net/gh/python-visualization/folium/folium/templates/leaflet.awesome.rotate.min.css&quot;/&gt;\n",
       "    \n",
       "            &lt;meta name=&quot;viewport&quot; content=&quot;width=device-width,\n",
       "                initial-scale=1.0, maximum-scale=1.0, user-scalable=no&quot; /&gt;\n",
       "            &lt;style&gt;\n",
       "                #map_0c56e5af8fafef3b5292c573ad6cb2a7 {\n",
       "                    position: relative;\n",
       "                    width: 100.0%;\n",
       "                    height: 100.0%;\n",
       "                    left: 0.0%;\n",
       "                    top: 0.0%;\n",
       "                }\n",
       "            &lt;/style&gt;\n",
       "        \n",
       "&lt;/head&gt;\n",
       "&lt;body&gt;\n",
       "    \n",
       "    \n",
       "            &lt;div class=&quot;folium-map&quot; id=&quot;map_0c56e5af8fafef3b5292c573ad6cb2a7&quot; &gt;&lt;/div&gt;\n",
       "        \n",
       "&lt;/body&gt;\n",
       "&lt;script&gt;\n",
       "    \n",
       "    \n",
       "            var map_0c56e5af8fafef3b5292c573ad6cb2a7 = L.map(\n",
       "                &quot;map_0c56e5af8fafef3b5292c573ad6cb2a7&quot;,\n",
       "                {\n",
       "                    center: [52.21396905216966, -2.015908861677074],\n",
       "                    crs: L.CRS.EPSG3857,\n",
       "                    zoom: 10,\n",
       "                    zoomControl: true,\n",
       "                    preferCanvas: false,\n",
       "                }\n",
       "            );\n",
       "            L.control.scale().addTo(map_0c56e5af8fafef3b5292c573ad6cb2a7);\n",
       "\n",
       "            \n",
       "\n",
       "        \n",
       "    \n",
       "            var tile_layer_ad7fd9c645f58ef787c686206711c527 = L.tileLayer(\n",
       "                &quot;https://{s}.tile.openstreetmap.org/{z}/{x}/{y}.png&quot;,\n",
       "                {&quot;attribution&quot;: &quot;Data by \\u0026copy; \\u003ca href=\\&quot;http://openstreetmap.org\\&quot;\\u003eOpenStreetMap\\u003c/a\\u003e, under \\u003ca href=\\&quot;http://www.openstreetmap.org/copyright\\&quot;\\u003eODbL\\u003c/a\\u003e.&quot;, &quot;detectRetina&quot;: false, &quot;maxNativeZoom&quot;: 18, &quot;maxZoom&quot;: 18, &quot;minZoom&quot;: 0, &quot;noWrap&quot;: false, &quot;opacity&quot;: 1, &quot;subdomains&quot;: &quot;abc&quot;, &quot;tms&quot;: false}\n",
       "            ).addTo(map_0c56e5af8fafef3b5292c573ad6cb2a7);\n",
       "        \n",
       "    \n",
       "            var circle_a8ad4150e77bcb57d0700f8a37f0b07c = L.circle(\n",
       "                [52.21396905216966, -2.015908861677074],\n",
       "                {&quot;bubblingMouseEvents&quot;: true, &quot;color&quot;: &quot;#3388ff&quot;, &quot;dashArray&quot;: null, &quot;dashOffset&quot;: null, &quot;fill&quot;: true, &quot;fillColor&quot;: &quot;#3388ff&quot;, &quot;fillOpacity&quot;: 0.2, &quot;fillRule&quot;: &quot;evenodd&quot;, &quot;lineCap&quot;: &quot;round&quot;, &quot;lineJoin&quot;: &quot;round&quot;, &quot;opacity&quot;: 1.0, &quot;radius&quot;: 115971.31673025587, &quot;stroke&quot;: true, &quot;weight&quot;: 3}\n",
       "            ).addTo(map_0c56e5af8fafef3b5292c573ad6cb2a7);\n",
       "        \n",
       "    \n",
       "            var circle_c3baf171cba738aa7710be7d6e22dac8 = L.circle(\n",
       "                [52.21396905216966, -2.015908861677074],\n",
       "                {&quot;bubblingMouseEvents&quot;: true, &quot;color&quot;: &quot;#3388ff&quot;, &quot;dashArray&quot;: null, &quot;dashOffset&quot;: null, &quot;fill&quot;: true, &quot;fillColor&quot;: &quot;#3388ff&quot;, &quot;fillOpacity&quot;: 0.2, &quot;fillRule&quot;: &quot;evenodd&quot;, &quot;lineCap&quot;: &quot;round&quot;, &quot;lineJoin&quot;: &quot;round&quot;, &quot;opacity&quot;: 1.0, &quot;radius&quot;: 42628.36651535611, &quot;stroke&quot;: true, &quot;weight&quot;: 3}\n",
       "            ).addTo(map_0c56e5af8fafef3b5292c573ad6cb2a7);\n",
       "        \n",
       "    \n",
       "            var circle_cf699facd7c979ca68e05e74db230186 = L.circle(\n",
       "                [52.21396905216966, -2.015908861677074],\n",
       "                {&quot;bubblingMouseEvents&quot;: true, &quot;color&quot;: &quot;#3388ff&quot;, &quot;dashArray&quot;: null, &quot;dashOffset&quot;: null, &quot;fill&quot;: true, &quot;fillColor&quot;: &quot;#3388ff&quot;, &quot;fillOpacity&quot;: 0.2, &quot;fillRule&quot;: &quot;evenodd&quot;, &quot;lineCap&quot;: &quot;round&quot;, &quot;lineJoin&quot;: &quot;round&quot;, &quot;opacity&quot;: 1.0, &quot;radius&quot;: 9575.214234120964, &quot;stroke&quot;: true, &quot;weight&quot;: 3}\n",
       "            ).addTo(map_0c56e5af8fafef3b5292c573ad6cb2a7);\n",
       "        \n",
       "    \n",
       "            var circle_84ebe91530b4348336db1981cb8ebb51 = L.circle(\n",
       "                [52.21396905216966, -2.015908861677074],\n",
       "                {&quot;bubblingMouseEvents&quot;: true, &quot;color&quot;: &quot;#3388ff&quot;, &quot;dashArray&quot;: null, &quot;dashOffset&quot;: null, &quot;fill&quot;: true, &quot;fillColor&quot;: &quot;#3388ff&quot;, &quot;fillOpacity&quot;: 0.2, &quot;fillRule&quot;: &quot;evenodd&quot;, &quot;lineCap&quot;: &quot;round&quot;, &quot;lineJoin&quot;: &quot;round&quot;, &quot;opacity&quot;: 1.0, &quot;radius&quot;: 5835.9834520793875, &quot;stroke&quot;: true, &quot;weight&quot;: 3}\n",
       "            ).addTo(map_0c56e5af8fafef3b5292c573ad6cb2a7);\n",
       "        \n",
       "&lt;/script&gt;\n",
       "&lt;/html&gt;\" style=\"position:absolute;width:100%;height:100%;left:0;top:0;border:none !important;\" allowfullscreen webkitallowfullscreen mozallowfullscreen></iframe></div></div>"
      ],
      "text/plain": [
       "<folium.folium.Map at 0x2ae07a880>"
      ]
     },
     "execution_count": 23,
     "metadata": {},
     "output_type": "execute_result"
    }
   ],
   "source": [
    "damage_map(arr[0],arr[1], arr[2])\n"
   ]
  },
  {
   "cell_type": "markdown",
   "metadata": {},
   "source": [
    "**Explaination:**\n",
    "    \n",
    "The damage zones are marked on the plot above. As the plot and calculations shows, when the radius(horizontal range) goes up, the pressure in this wave decreases. When the asteroids blast occurs, the nearer area will experience relatively greater pressure, while the further area will experience relatively lower pressure.This is also proved by the equation:\n",
    "    \n",
    "\\begin{equation*}\n",
    "p(r) = 3.14 \\times 10^{11} \\left(\\frac{r^2 + z_b^2}{E_k^{2/3}}\\right)^{-1.3} + 1.8 \\times 10^{7} \\left(\\frac{r^2 + z_b^2}{E_k^{2/3}}\\right)^{-0.565}\n",
    "\\end{equation*}\n",
    "\n",
    "$p$ (in Pa) (above ambient, also known as overpressure): the pressure in this wave\n",
    "\n",
    "$E_k$ (in kilotons of TNT equivalent): explosion energy\n",
    "\n",
    "$z_b$ (in m): burst altitude\n",
    "\n",
    "$r$ (in m): horizontal range\n"
   ]
  },
  {
   "cell_type": "markdown",
   "metadata": {},
   "source": [
    "### Function name: `impact_risk`\n",
    "\n",
    "Perform an uncertainty analysis to calculate the risk for each affected UK postcode or postcode sector"
   ]
  },
  {
   "cell_type": "markdown",
   "metadata": {},
   "source": [
    "`Input:` \n",
    "\n",
    "**planet**: armageddon.Planet instance, the Planet instance from which to solve the atmospheric entry\n",
    "\n",
    "**means**: dict, a dictionary of mean input values for the uncertainty analysis. This should include values for ``radius``, ``angle``, ``strength``, ``density``, ``velocity``, ``lat``, ``lon`` and ``bearing``\n",
    "\n",
    "**stdevs**: dict, a dictionary of standard deviations for each input value. This should include values for ``radius``, ``angle``, ``strength``, ``density``, ``velocity``, ``lat``, ``lon`` and ``bearing``\n",
    "\n",
    "**pressure**: float, a single pressure at which to calculate the damage zone for each impact\n",
    "\n",
    "**nsamples**: int, the number of iterations to perform in the uncertainty analysis\n",
    "\n",
    "**sector**: logical, optional, if True (default) calculate the risk for postcode sectors, otherwise calculate the risk for postcodes\n",
    "\n",
    "`Output:`\n",
    "\n",
    "**risk**: DataFrame, a pandas DataFrame with columns for postcode (or postcode sector) and the associated risk. These should be called ``postcode`` or ``sector``, and ``risk``."
   ]
  },
  {
   "cell_type": "markdown",
   "metadata": {},
   "source": [
    "### Example"
   ]
  },
  {
   "cell_type": "code",
   "execution_count": 20,
   "metadata": {},
   "outputs": [
    {
     "name": "stderr",
     "output_type": "stream",
     "text": [
      "/Users/xl1921/Documents/acs-armageddon-Dimorphos/armageddon/damage.py:68: RuntimeWarning: invalid value encountered in sqrt\n",
      "  initial = np.sqrt(pre_sol)\n",
      "/opt/homebrew/Caskroom/miniconda/base/lib/python3.9/site-packages/scipy/optimize/_minpack_py.py:175: RuntimeWarning: The iteration is not making good progress, as measured by the \n",
      "  improvement from the last ten iterations.\n",
      "  warnings.warn(msg, RuntimeWarning)\n"
     ]
    },
    {
     "data": {
      "text/html": [
       "<div>\n",
       "<style scoped>\n",
       "    .dataframe tbody tr th:only-of-type {\n",
       "        vertical-align: middle;\n",
       "    }\n",
       "\n",
       "    .dataframe tbody tr th {\n",
       "        vertical-align: top;\n",
       "    }\n",
       "\n",
       "    .dataframe thead th {\n",
       "        text-align: right;\n",
       "    }\n",
       "</style>\n",
       "<table border=\"1\" class=\"dataframe\">\n",
       "  <thead>\n",
       "    <tr style=\"text-align: right;\">\n",
       "      <th></th>\n",
       "      <th>postcode sector</th>\n",
       "      <th>risk</th>\n",
       "    </tr>\n",
       "  </thead>\n",
       "  <tbody>\n",
       "    <tr>\n",
       "      <th>0</th>\n",
       "      <td>LE129</td>\n",
       "      <td>13397.4</td>\n",
       "    </tr>\n",
       "    <tr>\n",
       "      <th>1</th>\n",
       "      <td>LE670</td>\n",
       "      <td>0.0</td>\n",
       "    </tr>\n",
       "    <tr>\n",
       "      <th>2</th>\n",
       "      <td>LE673</td>\n",
       "      <td>7803.9</td>\n",
       "    </tr>\n",
       "    <tr>\n",
       "      <th>3</th>\n",
       "      <td>LE679</td>\n",
       "      <td>5377.5</td>\n",
       "    </tr>\n",
       "    <tr>\n",
       "      <th>4</th>\n",
       "      <td>LE675</td>\n",
       "      <td>7637.4</td>\n",
       "    </tr>\n",
       "    <tr>\n",
       "      <th>5</th>\n",
       "      <td>CV136</td>\n",
       "      <td>3880.8</td>\n",
       "    </tr>\n",
       "    <tr>\n",
       "      <th>6</th>\n",
       "      <td>LE7 7</td>\n",
       "      <td>11249.1</td>\n",
       "    </tr>\n",
       "    <tr>\n",
       "      <th>7</th>\n",
       "      <td>LE9 7</td>\n",
       "      <td>10872.9</td>\n",
       "    </tr>\n",
       "    <tr>\n",
       "      <th>8</th>\n",
       "      <td>LE676</td>\n",
       "      <td>5364.9</td>\n",
       "    </tr>\n",
       "    <tr>\n",
       "      <th>9</th>\n",
       "      <td>CV130</td>\n",
       "      <td>5761.8</td>\n",
       "    </tr>\n",
       "  </tbody>\n",
       "</table>\n",
       "</div>"
      ],
      "text/plain": [
       "  postcode sector     risk\n",
       "0           LE129  13397.4\n",
       "1           LE670      0.0\n",
       "2           LE673   7803.9\n",
       "3           LE679   5377.5\n",
       "4           LE675   7637.4\n",
       "5           CV136   3880.8\n",
       "6           LE7 7  11249.1\n",
       "7           LE9 7  10872.9\n",
       "8           LE676   5364.9\n",
       "9           CV130   5761.8"
      ]
     },
     "execution_count": 20,
     "metadata": {},
     "output_type": "execute_result"
    }
   ],
   "source": [
    "p = Planet()\n",
    "fiducial_means = {'radius': 35, 'angle': 45, 'strength': 1e7,\n",
    "                  'density': 3000, 'velocity': 19e3,\n",
    "                  'lat': 53.0, 'lon': -2.5, 'bearing': 115.}\n",
    "fiducial_stdevs = {'radius': 1, 'angle': 1, 'strength': 5e6,\n",
    "                   'density': 500, 'velocity': 1e3,\n",
    "                   'lat': 0.025, 'lon': 0.025, 'bearing': 0.5}\n",
    "df = impact_risk(p, means=fiducial_means, stdevs=fiducial_stdevs, pressure=27.e3, nsamples=10, sector=True)\n",
    "df.head(10)"
   ]
  },
  {
   "cell_type": "markdown",
   "metadata": {},
   "source": [
    "The above example calculates the risk parameter of each sector in England caused by the asteroid's blast, which predicts the population of each area that could be affected. It takes parameters of the planet's condition and returns the postcodes of the area that could be affected. A number of tests are carried out to calculate the probability of the area being affected. The production of the probability and the population of the area is the risk number of the area."
   ]
  },
  {
   "cell_type": "markdown",
   "metadata": {},
   "source": [
    "# 4. Armageddon: extensions"
   ]
  },
  {
   "cell_type": "markdown",
   "metadata": {},
   "source": [
    "## `extensions` module\n",
    "* Calculate the location of the surface zero location and airblast damage radii (m)\n",
    "* Calculate the risk for each affected UK postcode or postcode sector"
   ]
  },
  {
   "cell_type": "markdown",
   "metadata": {},
   "source": [
    "### Function name: `findstrengthradius`\n",
    "\n",
    "Find the optimal radius and strength of the input dataset that minimize the error with respect to the given density, angle, velocity and radians"
   ]
  },
  {
   "cell_type": "markdown",
   "metadata": {},
   "source": [
    "`Input:` \n",
    "\n",
    "**velocity**: float, the entery speed of the asteroid in meters/second\n",
    "\n",
    "**density**: float, the density of the asteroid in kg/m^3\n",
    "\n",
    "**angle**: float, the initial trajectory angle of the asteroid to the horizontal. By default, input is in degrees. If 'radians' is set to True, the input should be in radians\n",
    "\n",
    "**init_altitude**: float, optional, initial altitude in m\n",
    "\n",
    "**dt**: float, optional, the output timestep, in s\n",
    "\n",
    "**data_file**: str, optional, file contains the data of interest\n",
    "\n",
    "**radians**: logical, optional, Whether angles should be given in degrees or radians. Default=False. Angles returned in the dataframe will have the same units as the input\n",
    "\n",
    "**backend**: str, optional, Which solving method to use. Default='FE'\n",
    "\n",
    "`Output:`\n",
    "\n",
    "**best_radius**: float, best radius that minimize the error\n",
    "\n",
    "**minerror**: float, minimum error found\n",
    "\n",
    "**beststrength**: float, best strength that minimize the error"
   ]
  },
  {
   "cell_type": "markdown",
   "metadata": {},
   "source": [
    "### Function name: `getfunctionvalue`\n",
    "\n",
    "Calculate peak dedz, burst altitude and distance between burst point and true data"
   ]
  },
  {
   "cell_type": "markdown",
   "metadata": {},
   "source": [
    "`Input:` \n",
    "\n",
    "\n",
    "`Output:`"
   ]
  }
 ],
 "metadata": {
  "kernelspec": {
   "display_name": "Python 3.9.15 ('base')",
   "language": "python",
   "name": "python3"
  },
  "language_info": {
   "codemirror_mode": {
    "name": "ipython",
    "version": 3
   },
   "file_extension": ".py",
   "mimetype": "text/x-python",
   "name": "python",
   "nbconvert_exporter": "python",
   "pygments_lexer": "ipython3",
   "version": "3.9.15"
  },
  "orig_nbformat": 4,
  "vscode": {
   "interpreter": {
    "hash": "e7cb1b9ae4d417fedf7f40a8eec98f7cfbd359e096bd857395a915f4609834ce"
   }
  }
 },
 "nbformat": 4,
 "nbformat_minor": 2
}
