{
 "cells": [
  {
   "cell_type": "code",
   "execution_count": 9,
   "metadata": {},
   "outputs": [],
   "source": [
    "from armageddon import solver\n",
    "import pandas as pd\n",
    "import numpy as np\n",
    "import matplotlib.pyplot as plt\n",
    "from numpy.polynomial.polynomial import Polynomial\n",
    "from scipy.interpolate import lagrange\n",
    "from armageddon import findstrengthradius, plot_against"
   ]
  },
  {
   "cell_type": "markdown",
   "metadata": {},
   "source": [
    "##   Extension 1"
   ]
  },
  {
   "cell_type": "markdown",
   "metadata": {},
   "source": [
    "Here is the brief introduction and several examples for extentsion question 1.\n",
    "\n",
    "The function we created in the first place is `create_tabular_density`. The input is a path to the tabular data with `type` : `str`. We simply read the input csv file and split it into two `list` X and Y. Then we define a sub function called `tabular_density`, which is used to calculate the atomosphere density given different altitudes. Finally we take the sub function `tabular_density` as the output of the function `create_tabular_density`.\n",
    "\n",
    "The interpolation strategy we choose in `tabular_density`  is just piece-wise linear interpolation bewteen two points in tabular file. Let $(x_{i-1},y_{i-1}), (x_{i},y_{i})$ be ordered pairs of data points, then the polynomial function we interpolate on this interval is defined as\n",
    "$$ p_{i}(x) = y_{i-1} + \\frac{(y_{i}-y_{i-1})\\cdot (x-x_{i-1})}{(x_{i}-x_{i-1})},i = 1,2,3,4,...,n$$\n",
    "\n",
    "For each interval, the error is bounded by\n",
    "$$|R_{i}| \\leq \\frac{(x_{i}- x_{i-1})^2}{8} \\cdot max |f''(x)|, i =1,2,3,...n$$\n",
    "\n",
    "Where $f$ is the actual function.\n",
    "\n"
   ]
  },
  {
   "cell_type": "markdown",
   "metadata": {},
   "source": [
    "#### Examples for Extension 1"
   ]
  },
  {
   "cell_type": "code",
   "execution_count": 2,
   "metadata": {},
   "outputs": [],
   "source": [
    "rhoa = solver.Planet().create_tabular_density('resources/AltitudeDensityTable.csv')"
   ]
  },
  {
   "cell_type": "code",
   "execution_count": 3,
   "metadata": {},
   "outputs": [
    {
     "data": {
      "text/plain": [
       "0.81434604"
      ]
     },
     "execution_count": 3,
     "metadata": {},
     "output_type": "execute_result"
    }
   ],
   "source": [
    "rhoa(4.0600000000000000e+03 )"
   ]
  },
  {
   "cell_type": "markdown",
   "metadata": {},
   "source": [
    "#### Load data and compare our function values with the actual one"
   ]
  },
  {
   "cell_type": "code",
   "execution_count": 4,
   "metadata": {},
   "outputs": [],
   "source": [
    "def load_data(file):\n",
    "    X = []\n",
    "    Y = []\n",
    "    data = pd.read_csv(file)\n",
    "    for i in data[data.keys()[0]]:\n",
    "        temp = i.split()\n",
    "        X.append(eval(temp[0]))\n",
    "        Y.append(eval(temp[1]))\n",
    "    return X,Y"
   ]
  },
  {
   "cell_type": "code",
   "execution_count": 5,
   "metadata": {},
   "outputs": [],
   "source": [
    "X,Y = load_data('./resources/AltitudeDensityTable.csv')"
   ]
  },
  {
   "cell_type": "code",
   "execution_count": 6,
   "metadata": {},
   "outputs": [
    {
     "data": {
      "text/plain": [
       "<matplotlib.legend.Legend at 0x13a6c5750>"
      ]
     },
     "execution_count": 6,
     "metadata": {},
     "output_type": "execute_result"
    },
    {
     "data": {
      "image/png": "[encoded data removed]",
      "text/plain": [
       "<Figure size 700x500 with 1 Axes>"
      ]
     },
     "metadata": {},
     "output_type": "display_data"
    }
   ],
   "source": [
    "fig, ax1 = plt.subplots(1, 1, figsize=(7, 5))\n",
    "ax1.plot(X,[rhoa(i) for i in X],label = 'Simulation')\n",
    "ax1.plot(X,Y, label = 'True')\n",
    "ax1.grid(True)\n",
    "ax1.legend(loc='best', fontsize=14)"
   ]
  },
  {
   "cell_type": "markdown",
   "metadata": {},
   "source": [
    "##   Extension 2"
   ]
  },
  {
   "cell_type": "markdown",
   "metadata": {},
   "source": [
    "From several observations we can approximately conclude that `radius` influence the scale of maximum air blast energy while `strength ` decides which time point will its maximum be achieved. Hence it is reansonable to only consider the point where `maximum air blast energy` occurs in the graph of `altitude` vs `total energy loss` as a simplification of this curve fitting problem"
   ]
  },
  {
   "cell_type": "markdown",
   "metadata": {},
   "source": [
    "Consider our curve fitting problem as \n",
    "$$\n",
    "argmin_{r,s} = || f(r,s) - T ||\n",
    "$$\n",
    "\n",
    "Where $T$ is a function which returns the acutal point of the maximum energy loss and its corresponding altitude, $f$ is a function returning the point of maximum energy loss and its corresponding altitude in our simulation. Then the distance in two dimensional space defined here is denoted as $$||(x_{0},y_{0}) - (x_{1},y_{1})|| = \\sqrt{C\\cdot(x_{0} - x_{1})^2 + (y_{0} - y_{1})^2}$$"
   ]
  },
  {
   "cell_type": "markdown",
   "metadata": {},
   "source": [
    "In general we need to search both parameters such that the error (distance defined above) is set to minimum. By observing multiple plots, we find that for fixed radius $r_{0}$, such that $$error(s) =  || f(r_{0},s) - T || $$ is a convex function with respect to strength."
   ]
  },
  {
   "cell_type": "markdown",
   "metadata": {},
   "source": [
    "Plot `strength` vs `error` for a fixed `radius`"
   ]
  },
  {
   "cell_type": "markdown",
   "metadata": {},
   "source": [
    "![ title](e1.1.png)"
   ]
  },
  {
   "cell_type": "markdown",
   "metadata": {},
   "source": [
    "Hence for any radius of our interests, we can always find a optimal strength as $s^{*}$, such that $ s^{*} = g(r)$. Therefore, we simplify the problem as $$argmin_{r} = || f(r,g(r)) - T ||$$"
   ]
  },
  {
   "cell_type": "markdown",
   "metadata": {},
   "source": [
    "From observations, we can also find that $$ error^*(r) = || f(r,g(r)) - T || $$"
   ]
  },
  {
   "cell_type": "markdown",
   "metadata": {},
   "source": [
    "is also convex with respect to radius."
   ]
  },
  {
   "cell_type": "markdown",
   "metadata": {},
   "source": [
    "Plot concerning `radius` and `error*`"
   ]
  },
  {
   "cell_type": "markdown",
   "metadata": {},
   "source": [
    "![ title](e1.2.png)"
   ]
  },
  {
   "cell_type": "markdown",
   "metadata": {},
   "source": [
    "In fact, this error fucntion is such well-defined and convex with radius that $f$ can also be the form of $$argmin_{s} = || f(g^{*}(s),s) - T ||$$"
   ]
  },
  {
   "cell_type": "markdown",
   "metadata": {},
   "source": [
    "As mentioned above, since all error functions are convex, we can apply golden section search method iteratively for both loops to improve efficiency and accuracy."
   ]
  },
  {
   "cell_type": "markdown",
   "metadata": {},
   "source": [
    "#### Examples for Extension 2"
   ]
  },
  {
   "cell_type": "code",
   "execution_count": 8,
   "metadata": {},
   "outputs": [
    {
     "name": "stdout",
     "output_type": "stream",
     "text": [
      "100 1\n",
      "f: 1329153.63143691 5492976.12460948\n",
      "x: 38.8146351137604 62.1853648862396\n",
      "\n",
      "62.1853648862396 1\n",
      "f: 310393.61710316286 1329153.63143691\n",
      "x: 24.37072977247918 38.8146351137604\n",
      "\n",
      "38.8146351137604 1\n",
      "f: 58003.87152988007 310393.61710316286\n",
      "x: 15.443905341281225 24.37072977247918\n",
      "\n",
      "24.37072977247918 1\n",
      "f: 4878.560159816493 58003.87152988007\n",
      "x: 9.926824431197948 15.443905341281225\n",
      "\n",
      "15.443905341281225 1\n",
      "f: 5939.854558211117 4878.560159816493\n",
      "x: 6.517080910083277 9.926824431197948\n",
      "\n",
      "15.443905341281225 6.517080910083277\n",
      "f: 4878.560159816493 13710.499805886548\n",
      "x: 9.926824431197948 12.034161820166556\n",
      "\n",
      "12.034161820166556 6.517080910083277\n",
      "f: 1282.7321248103945 4878.560159816493\n",
      "x: 8.624418299051888 9.926824431197948\n",
      "\n",
      "9.926824431197948 6.517080910083277\n",
      "f: 1225.9023845147908 1282.7321248103945\n",
      "x: 7.819487042229337 8.624418299051888\n",
      "\n",
      "8.624418299051888 6.517080910083277\n",
      "f: 2897.429203009883 1225.9023845147908\n",
      "x: 7.322012166905829 7.819487042229337\n",
      "\n",
      "8.624418299051888 7.322012166905829\n",
      "f: 1225.9023845147908 193.7902824672842\n",
      "x: 7.819487042229337 8.126943423728381\n",
      "\n",
      "8.624418299051888 7.819487042229337\n",
      "f: 193.7902824672842 410.0458963851888\n",
      "x: 8.126943423728381 8.316961917552844\n",
      "\n",
      "8.316961917552844 7.819487042229337\n",
      "f: 504.7734939858177 193.7902824672842\n",
      "x: 8.0095055360538 8.126943423728381\n",
      "\n",
      "8.316961917552844 8.0095055360538\n",
      "f: 193.7902824672842 110.01397254668315\n",
      "x: 8.126943423728381 8.199524029878264\n",
      "\n",
      "8.316961917552844 8.126943423728381\n",
      "f: 110.01397254668315 142.31936255249286\n",
      "x: 8.199524029878264 8.244381311402961\n",
      "\n",
      "8.244381311402961 8.126943423728381\n",
      "f: 169.0531051160038 110.01397254668315\n",
      "x: 8.171800705253078 8.199524029878264\n",
      "\n",
      "8.244381311402961 8.171800705253078\n",
      "f: 110.01397254668315 120.14614659845518\n",
      "x: 8.199524029878264 8.216657986777776\n",
      "\n",
      "8.216657986777776 8.171800705253078\n",
      "f: 183.7108374013041 110.01397254668315\n",
      "x: 8.18893466215259 8.199524029878264\n",
      "\n",
      "8.216657986777776 8.18893466215259\n",
      "f: 110.01397254668315 86.93848554175415\n",
      "x: 8.199524029878264 8.206068619052102\n",
      "\n",
      "8.216657986777776 8.199524029878264\n",
      "f: 86.93848554175415 90.06833993581056\n",
      "x: 8.206068619052102 8.210113397603937\n",
      "\n",
      "8.210113397603937 8.199524029878264\n",
      "f: 92.19310807326018 86.93848554175415\n",
      "x: 8.2035688084301 8.206068619052102\n",
      "\n",
      "8.207613586981935 86.41223448013302 4570808.233827251\n"
     ]
    }
   ],
   "source": [
    "r, f, s =findstrengthradius(\n",
    "                density=3300, angle=18.3, velocity=19200,\n",
    "                data_file='resources/ChelyabinskEnergyAltitude.csv',\n",
    "                radians=False)"
   ]
  },
  {
   "cell_type": "markdown",
   "metadata": {},
   "source": [
    "#### Load data and compare our function values with the actual one"
   ]
  },
  {
   "cell_type": "code",
   "execution_count": 10,
   "metadata": {},
   "outputs": [
    {
     "data": {
      "image/png": "[encoded data removed]",
      "text/plain": [
       "<Figure size 640x480 with 1 Axes>"
      ]
     },
     "metadata": {},
     "output_type": "display_data"
    }
   ],
   "source": [
    "plot_against(r, s)"
   ]
  }
 ],
 "metadata": {
  "kernelspec": {
   "display_name": "Python 3 (ipykernel)",
   "language": "python",
   "name": "python3"
  },
  "orig_nbformat": 4,
  "vscode": {
   "interpreter": {
    "hash": "233ce6e7d245d618a991820e47e9800e54fb64a8f465d00449a4969ddfeb9b25"
   }
  }
 },
 "nbformat": 4,
 "nbformat_minor": 2
}
