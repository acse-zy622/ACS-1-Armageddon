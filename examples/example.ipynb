{
 "cells": [
  {
   "cell_type": "code",
   "execution_count": 1,
   "metadata": {},
   "outputs": [],
   "source": [
    "from armageddon import solver\n",
    "import pandas as pd\n",
    "import numpy as np\n",
    "import matplotlib.pyplot as plt\n",
    "from numpy.polynomial.polynomial import Polynomial\n",
    "from scipy.interpolate import lagrange\n",
    "from armageddon import extension1"
   ]
  },
  {
   "cell_type": "markdown",
   "metadata": {},
   "source": [
    "##   Extension 1"
   ]
  },
  {
   "cell_type": "markdown",
   "metadata": {},
   "source": [
    "Here is the brief introduction and several examples for extentsion questions 1.\n",
    "\n",
    "The function we created in the first place is `create_tabular_density`. The input is a path to the tabular data with `type` : `str`. We simply read the input csv file and split it into two `list` X and Y. Then we define a subsequential function called `tabular_density`, which is used to calculate the density of atomosphere density given different altitude. Finally we take the subsequential function `tabular_density` as the output of the function `create_tabular_density`.\n",
    "\n",
    "Note that the interpolation strategy we choose is linear interpolation with points in tabular data file.\n"
   ]
  },
  {
   "cell_type": "markdown",
   "metadata": {},
   "source": [
    "#### Examples for Extension 1"
   ]
  },
  {
   "cell_type": "code",
   "execution_count": null,
   "metadata": {},
   "outputs": [],
   "source": [
    "rhoa = solver.Planet().create_tabular_density('~/acs-armageddon-Dimorphos/resources/AltitudeDensityTable.csv')"
   ]
  },
  {
   "cell_type": "code",
   "execution_count": null,
   "metadata": {},
   "outputs": [
    {
     "data": {
      "text/plain": [
       "0.8447354565914162"
      ]
     },
     "execution_count": 8,
     "metadata": {},
     "output_type": "execute_result"
    }
   ],
   "source": [
    "rhoa(4.0600000000000000e+03 )"
   ]
  },
  {
   "cell_type": "markdown",
   "metadata": {},
   "source": [
    "#### Load data and compare our function values with the actual one"
   ]
  },
  {
   "cell_type": "code",
   "execution_count": null,
   "metadata": {},
   "outputs": [],
   "source": [
    "def load_data(file):\n",
    "    X = []\n",
    "    Y = []\n",
    "    data = pd.read_csv(file)\n",
    "    for i in data[data.keys()[0]]:\n",
    "        temp = i.split()\n",
    "        X.append(eval(temp[0]))\n",
    "        Y.append(eval(temp[1]))\n",
    "    return X,Y"
   ]
  },
  {
   "cell_type": "code",
   "execution_count": null,
   "metadata": {},
   "outputs": [],
   "source": [
    "X,Y = load_data('~/acs-armageddon-Dimorphos/resources/AltitudeDensityTable.csv')"
   ]
  },
  {
   "cell_type": "code",
   "execution_count": null,
   "metadata": {},
   "outputs": [
    {
     "data": {
      "text/plain": [
       "<matplotlib.legend.Legend at 0x7f939a12f220>"
      ]
     },
     "execution_count": 11,
     "metadata": {},
     "output_type": "execute_result"
    },
    {
     "data": {
      "image/png": "[encoded data removed]",
      "text/plain": [
       "<Figure size 700x500 with 1 Axes>"
      ]
     },
     "metadata": {},
     "output_type": "display_data"
    }
   ],
   "source": [
    "fig, ax1 = plt.subplots(1, 1, figsize=(7, 5))\n",
    "ax1.plot(X,rhoa(X),label = 'Simulation')\n",
    "ax1.plot(X,Y, label = 'True')\n",
    "ax1.grid(True)\n",
    "ax1.legend(loc='best', fontsize=14)"
   ]
  },
  {
   "cell_type": "markdown",
   "metadata": {},
   "source": [
    "##   Extension 2"
   ]
  },
  {
   "cell_type": "markdown",
   "metadata": {},
   "source": [
    "From several observations we can approximately conclude that `radius` influence the scale of maximum air blast energy while `strength ` decides which time point its maximum will be achieved. Hence it is reansonable to only consider the point where `maximum air blast energy` occurs in the graph of `altitude` vs `total energy loss` as a simplification of the curve fitting process."
   ]
  },
  {
   "cell_type": "markdown",
   "metadata": {},
   "source": [
    "Consider our curve fitting problem as \n",
    "$$\n",
    "argmin_{r,s} = || f(r,s) - T ||\n",
    "$$\n",
    "\n",
    "Where T is a function which returns the acutal point of the maximum energy loss and its corresponding altitude, f is a function returning the point of maximum energy loss and its corresponding altitude in our simulation. Then the distance in two dimensional space defined here is denoted as $$||(x_{0},y_{0}) - (x_{1},y_{1})|| = \\sqrt{C\\cdot(x_{0} - x_{1})^2 + (y_{0} - y_{1})^2}$$"
   ]
  },
  {
   "cell_type": "markdown",
   "metadata": {},
   "source": [
    "In general we need to search both parameters such that the error (distance defined above) is set to minimum. By observing multiple plots, we find that for fixed radius $r_{0}$, such that $$error(s) =  || f(r_{0},s) - T || $$ is a convex function with respect to strength. Hence for any strength of our interests, we can always find a optimal radius as $s^{*}$, such that $ s^{*} = g(r)$. Therefore, we simplify the problem as $$argmin_{s} = || f(r,g(r)) - T ||$$"
   ]
  },
  {
   "cell_type": "markdown",
   "metadata": {},
   "source": [
    "Plot `strength` vs `error` for a fixed `radius`"
   ]
  },
  {
   "cell_type": "markdown",
   "metadata": {},
   "source": [
    "![ title](e1.1.png)"
   ]
  },
  {
   "cell_type": "markdown",
   "metadata": {},
   "source": [
    "In fact, this error fucntion is well-defined and convex with radius such that $f$ can also be the form of $$argmin_{r} = || f(g_{1}(s),s) - T ||$$"
   ]
  },
  {
   "cell_type": "markdown",
   "metadata": {},
   "source": [
    "Plot concerning `radius` and `error`"
   ]
  },
  {
   "cell_type": "markdown",
   "metadata": {},
   "source": [
    "![ title](e1.2.png)"
   ]
  },
  {
   "cell_type": "markdown",
   "metadata": {},
   "source": [
    "As mentioned above, since the error function with respect to radius is a convex, we choose golden section search method iteratively to improve efficiency and accuracy."
   ]
  },
  {
   "cell_type": "markdown",
   "metadata": {},
   "source": [
    "#### Examples for Extension 2"
   ]
  },
  {
   "cell_type": "code",
   "execution_count": 2,
   "metadata": {},
   "outputs": [
    {
     "name": "stdout",
     "output_type": "stream",
     "text": [
      "100 1\n",
      "f: 5.621135987017878e+18 2.2858788250567205e+19\n",
      "x: 38.8146351137604 62.1853648862396\n",
      "\n",
      "62.1853648862396 1\n",
      "f: 1.40697913785088e+18 5.621135987017878e+18\n",
      "x: 24.37072977247918 38.8146351137604\n",
      "\n",
      "38.8146351137604 1\n",
      "f: 3.618125073892741e+17 1.40697913785088e+18\n",
      "x: 15.443905341281225 24.37072977247918\n",
      "\n",
      "24.37072977247918 1\n",
      "f: 9.707511708176416e+16 3.618125073892741e+17\n",
      "x: 9.926824431197948 15.443905341281225\n",
      "\n",
      "15.443905341281225 1\n",
      "f: 2.7751631910518704e+16 9.707511708176416e+16\n",
      "x: 6.517080910083277 9.926824431197948\n",
      "\n",
      "9.926824431197948 1\n",
      "f: 8693141887739347.0 2.7751631910518704e+16\n",
      "x: 4.4097435211146685 6.517080910083277\n",
      "\n",
      "6.517080910083277 1\n",
      "f: 9046652476876144.0 8693141887739347.0\n",
      "x: 3.107337388968609 4.4097435211146685\n",
      "\n",
      "6.517080910083277 3.107337388968609\n",
      "f: 8693141887739347.0 5.738302601150595e+16\n",
      "x: 4.4097435211146685 5.214674777937219\n",
      "\n",
      "5.214674777937219 3.107337388968609\n",
      "f: 2.506735112267256e+16 8693141887739347.0\n",
      "x: 3.91226864579116 4.4097435211146685\n",
      "\n",
      "5.214674777937219 3.91226864579116\n",
      "f: 8693141887739347.0 1.0615385214295464e+16\n",
      "x: 4.4097435211146685 4.717199902613712\n",
      "\n",
      "4.717199902613712 3.91226864579116\n",
      "f: 2.8361182377960416e+16 8693141887739347.0\n",
      "x: 4.219725027290204 4.4097435211146685\n",
      "\n",
      "4.717199902613712 4.219725027290204\n",
      "f: 8693141887739347.0 9399509126778518.0\n",
      "x: 4.4097435211146685 4.527181408789248\n",
      "\n",
      "4.527181408789248 4.219725027290204\n",
      "f: 3.611296773775073e+16 8693141887739347.0\n",
      "x: 4.337162914964785 4.4097435211146685\n",
      "\n",
      "Unexpected exception formatting exception. Falling back to standard exception\n"
     ]
    },
    {
     "name": "stderr",
     "output_type": "stream",
     "text": [
      "Traceback (most recent call last):\n",
      "  File \"/home/yzr/miniconda3/envs/ese-msc/lib/python3.10/site-packages/IPython/core/interactiveshell.py\", line 3378, in run_code\n",
      "    exec(code_obj, self.user_global_ns, self.user_ns)\n",
      "  File \"/tmp/ipykernel_1369/4271271834.py\", line 1, in <module>\n",
      "    extension1.findstrengthradius(\n",
      "  File \"/home/yzr/acs-armageddon-Dimorphos/armageddon/extension1.py\", line 87, in findstrengthradius\n",
      "    beststrength, f2 = searchstrength(planet_instance, x2, velocity,\n",
      "  File \"/home/yzr/acs-armageddon-Dimorphos/armageddon/extension1.py\", line 307, in searchstrength\n",
      "    _, _, f1 = getfunctionvalue(planet_instance, radius, velocity,\n",
      "  File \"/home/yzr/acs-armageddon-Dimorphos/armageddon/extension1.py\", line 215, in getfunctionvalue\n",
      "    result = planet_instance.solve_atmospheric_entry(\n",
      "  File \"/home/yzr/acs-armageddon-Dimorphos/armageddon/solver.py\", line 252, in solve_atmospheric_entry\n",
      "  File \"/home/yzr/acs-armageddon-Dimorphos/armageddon/solver.py\", line 98, in f_solver1\n",
      "    f[1] = (-self.Ch * self.rhoa(y[3]) *\n",
      "  File \"/home/yzr/acs-armageddon-Dimorphos/armageddon/solver.py\", line 78, in <lambda>\n",
      "    self.rhoa = lambda x: rho0 * np.exp(-x/H)\n",
      "KeyboardInterrupt\n",
      "\n",
      "During handling of the above exception, another exception occurred:\n",
      "\n",
      "Traceback (most recent call last):\n",
      "  File \"/home/yzr/miniconda3/envs/ese-msc/lib/python3.10/site-packages/IPython/core/interactiveshell.py\", line 1997, in showtraceback\n",
      "    stb = self.InteractiveTB.structured_traceback(\n",
      "  File \"/home/yzr/miniconda3/envs/ese-msc/lib/python3.10/site-packages/IPython/core/ultratb.py\", line 1112, in structured_traceback\n",
      "    return FormattedTB.structured_traceback(\n",
      "  File \"/home/yzr/miniconda3/envs/ese-msc/lib/python3.10/site-packages/IPython/core/ultratb.py\", line 1006, in structured_traceback\n",
      "    return VerboseTB.structured_traceback(\n",
      "  File \"/home/yzr/miniconda3/envs/ese-msc/lib/python3.10/site-packages/IPython/core/ultratb.py\", line 859, in structured_traceback\n",
      "    formatted_exception = self.format_exception_as_a_whole(etype, evalue, etb, number_of_lines_of_context,\n",
      "  File \"/home/yzr/miniconda3/envs/ese-msc/lib/python3.10/site-packages/IPython/core/ultratb.py\", line 812, in format_exception_as_a_whole\n",
      "    frames.append(self.format_record(r))\n",
      "  File \"/home/yzr/miniconda3/envs/ese-msc/lib/python3.10/site-packages/IPython/core/ultratb.py\", line 730, in format_record\n",
      "    result += ''.join(_format_traceback_lines(frame_info.lines, Colors, self.has_colors, lvals))\n",
      "  File \"/home/yzr/miniconda3/envs/ese-msc/lib/python3.10/site-packages/stack_data/utils.py\", line 145, in cached_property_wrapper\n",
      "    value = obj.__dict__[self.func.__name__] = self.func(obj)\n",
      "  File \"/home/yzr/miniconda3/envs/ese-msc/lib/python3.10/site-packages/stack_data/core.py\", line 698, in lines\n",
      "    pieces = self.included_pieces\n",
      "  File \"/home/yzr/miniconda3/envs/ese-msc/lib/python3.10/site-packages/stack_data/utils.py\", line 145, in cached_property_wrapper\n",
      "    value = obj.__dict__[self.func.__name__] = self.func(obj)\n",
      "  File \"/home/yzr/miniconda3/envs/ese-msc/lib/python3.10/site-packages/stack_data/core.py\", line 649, in included_pieces\n",
      "    pos = scope_pieces.index(self.executing_piece)\n",
      "  File \"/home/yzr/miniconda3/envs/ese-msc/lib/python3.10/site-packages/stack_data/utils.py\", line 145, in cached_property_wrapper\n",
      "    value = obj.__dict__[self.func.__name__] = self.func(obj)\n",
      "  File \"/home/yzr/miniconda3/envs/ese-msc/lib/python3.10/site-packages/stack_data/core.py\", line 628, in executing_piece\n",
      "    return only(\n",
      "  File \"/home/yzr/miniconda3/envs/ese-msc/lib/python3.10/site-packages/executing/executing.py\", line 164, in only\n",
      "    raise NotOneValueFound('Expected one value, found 0')\n",
      "executing.executing.NotOneValueFound: Expected one value, found 0\n"
     ]
    }
   ],
   "source": [
    "extension1.findstrengthradius(\n",
    "        density=3300, angle=18.3, velocity=19200,\n",
    "        data_file='~/acs-armageddon-Dimorphos/resources/ChelyabinskEnergyAltitude.csv',\n",
    "        radians=False)"
   ]
  },
  {
   "cell_type": "markdown",
   "metadata": {},
   "source": [
    "#### Load data and compare our function values with the actual one"
   ]
  },
  {
   "cell_type": "code",
   "execution_count": null,
   "metadata": {},
   "outputs": [],
   "source": [
    "fig, ax1 = plt.subplots(1, 1, figsize=(7, 5))\n",
    "# ax1.plot(X,rhoa(X),label = 'Simulation')\n",
    "# ax1.plot(X,Y, label = 'True')\n",
    "ax1.grid(True)\n",
    "ax1.legend(loc='best', fontsize=14)"
   ]
  }
 ],
 "metadata": {
  "kernelspec": {
   "display_name": "Python 3.10.4 ('ese-msc')",
   "language": "python",
   "name": "python3"
  },
  "language_info": {
   "codemirror_mode": {
    "name": "ipython",
    "version": 3
   },
   "file_extension": ".py",
   "mimetype": "text/x-python",
   "name": "python",
   "nbconvert_exporter": "python",
   "pygments_lexer": "ipython3",
   "version": "3.10.4"
  },
  "orig_nbformat": 4,
  "vscode": {
   "interpreter": {
    "hash": "233ce6e7d245d618a991820e47e9800e54fb64a8f465d00449a4969ddfeb9b25"
   }
  }
 },
 "nbformat": 4,
 "nbformat_minor": 2
}
